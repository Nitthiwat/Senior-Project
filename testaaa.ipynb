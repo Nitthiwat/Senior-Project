{
 "cells": [
  {
   "cell_type": "code",
   "execution_count": 1,
   "metadata": {},
   "outputs": [],
   "source": [
    "import pandas as pd\n",
    "import json\n",
    "import re\n",
    "import os\n",
    "import time\n",
    "import requests\n",
    "import matplotlib.pyplot as plt\n",
    "import seaborn as sns\n",
    "from pythainlp.tokenize import word_tokenize, sent_tokenize\n",
    "from pythainlp.util import normalize\n",
    "from pythainlp.util import Trie\n",
    "from pythainlp.corpus.common import thai_stopwords\n",
    "from pythainlp.corpus.common import thai_words\n",
    "\n",
    "from datetime import datetime\n",
    "import googleapiclient.discovery"
   ]
  },
  {
   "cell_type": "code",
   "execution_count": 4,
   "metadata": {},
   "outputs": [],
   "source": [
    "df = pd.read_excel('Corpus_raw_data.xlsx')"
   ]
  },
  {
   "cell_type": "code",
   "execution_count": 5,
   "metadata": {},
   "outputs": [
    {
     "data": {
      "text/html": [
       "<div>\n",
       "<style scoped>\n",
       "    .dataframe tbody tr th:only-of-type {\n",
       "        vertical-align: middle;\n",
       "    }\n",
       "\n",
       "    .dataframe tbody tr th {\n",
       "        vertical-align: top;\n",
       "    }\n",
       "\n",
       "    .dataframe thead th {\n",
       "        text-align: right;\n",
       "    }\n",
       "</style>\n",
       "<table border=\"1\" class=\"dataframe\">\n",
       "  <thead>\n",
       "    <tr style=\"text-align: right;\">\n",
       "      <th></th>\n",
       "      <th>textDisplay</th>\n",
       "      <th>sentiment</th>\n",
       "    </tr>\n",
       "  </thead>\n",
       "  <tbody>\n",
       "    <tr>\n",
       "      <th>0</th>\n",
       "      <td>ชอบกล้อง กับ ตัดต่อวีดีโอแค่นั้นแหละถ้าจะซื้อไ...</td>\n",
       "      <td>pos</td>\n",
       "    </tr>\n",
       "    <tr>\n",
       "      <th>1</th>\n",
       "      <td>อยากทราบวิธีรักษาแบต 14 กับความร้อนของเครื่องค...</td>\n",
       "      <td>neg</td>\n",
       "    </tr>\n",
       "    <tr>\n",
       "      <th>2</th>\n",
       "      <td>นี่ซื้อมาใช้ได้ 1 เดือน คุณภาพแบตลดไป 3% เหลือ...</td>\n",
       "      <td>NaN</td>\n",
       "    </tr>\n",
       "    <tr>\n",
       "      <th>3</th>\n",
       "      <td>กล้องวูบวาบเป็นเพราะอะไรคะ</td>\n",
       "      <td>neg</td>\n",
       "    </tr>\n",
       "    <tr>\n",
       "      <th>4</th>\n",
       "      <td>ขอถามหน่อยพี่ ผมใช้ 14 พอปิดหน้าจอ มันจะขึ้นวง...</td>\n",
       "      <td>NaN</td>\n",
       "    </tr>\n",
       "    <tr>\n",
       "      <th>...</th>\n",
       "      <td>...</td>\n",
       "      <td>...</td>\n",
       "    </tr>\n",
       "    <tr>\n",
       "      <th>1285</th>\n",
       "      <td>ข้อมูลครบถ้วน มีลูกเล่นในการนำเสนอภาพได้สวยงาม...</td>\n",
       "      <td>pos</td>\n",
       "    </tr>\n",
       "    <tr>\n",
       "      <th>1286</th>\n",
       "      <td>ใครคลิปเสื้อสีขาวนี่เเฟนถ่ายให้ปล่าวครัย555</td>\n",
       "      <td>NaN</td>\n",
       "    </tr>\n",
       "    <tr>\n",
       "      <th>1287</th>\n",
       "      <td>ถ้าถ่ายทั่วไป max จะดีกว่านิดหน่อย แต่ถ่ายตอนก...</td>\n",
       "      <td>NaN</td>\n",
       "    </tr>\n",
       "    <tr>\n",
       "      <th>1288</th>\n",
       "      <td>ภาพปกคลิป น้อนออย น่ารักกกกก🥰🥰🥰</td>\n",
       "      <td>pos</td>\n",
       "    </tr>\n",
       "    <tr>\n",
       "      <th>1289</th>\n",
       "      <td>อยากให้เปลี่ยนอัตราส่วนวิดีโอครับ เวลาขยายจอใน...</td>\n",
       "      <td>neg</td>\n",
       "    </tr>\n",
       "  </tbody>\n",
       "</table>\n",
       "<p>1290 rows × 2 columns</p>\n",
       "</div>"
      ],
      "text/plain": [
       "                                            textDisplay sentiment\n",
       "0     ชอบกล้อง กับ ตัดต่อวีดีโอแค่นั้นแหละถ้าจะซื้อไ...       pos\n",
       "1     อยากทราบวิธีรักษาแบต 14 กับความร้อนของเครื่องค...       neg\n",
       "2     นี่ซื้อมาใช้ได้ 1 เดือน คุณภาพแบตลดไป 3% เหลือ...       NaN\n",
       "3                            กล้องวูบวาบเป็นเพราะอะไรคะ       neg\n",
       "4     ขอถามหน่อยพี่ ผมใช้ 14 พอปิดหน้าจอ มันจะขึ้นวง...       NaN\n",
       "...                                                 ...       ...\n",
       "1285  ข้อมูลครบถ้วน มีลูกเล่นในการนำเสนอภาพได้สวยงาม...       pos\n",
       "1286        ใครคลิปเสื้อสีขาวนี่เเฟนถ่ายให้ปล่าวครัย555       NaN\n",
       "1287  ถ้าถ่ายทั่วไป max จะดีกว่านิดหน่อย แต่ถ่ายตอนก...       NaN\n",
       "1288                    ภาพปกคลิป น้อนออย น่ารักกกกก🥰🥰🥰       pos\n",
       "1289  อยากให้เปลี่ยนอัตราส่วนวิดีโอครับ เวลาขยายจอใน...       neg\n",
       "\n",
       "[1290 rows x 2 columns]"
      ]
     },
     "execution_count": 5,
     "metadata": {},
     "output_type": "execute_result"
    }
   ],
   "source": [
    "df"
   ]
  },
  {
   "cell_type": "code",
   "execution_count": 6,
   "metadata": {},
   "outputs": [],
   "source": [
    "with open('model_smartphone.json', 'r', encoding=\"utf-8\") as file:\n",
    "    model_ip = json.load(file)"
   ]
  },
  {
   "cell_type": "code",
   "execution_count": 22,
   "metadata": {},
   "outputs": [],
   "source": [
    "with open('Question_lexicon.json', 'r', encoding=\"utf-8\") as file:\n",
    "    question_list = json.load(file)"
   ]
  },
  {
   "cell_type": "code",
   "execution_count": 8,
   "metadata": {},
   "outputs": [],
   "source": [
    "question_cm = {i for i in question_list}"
   ]
  },
  {
   "cell_type": "code",
   "execution_count": 9,
   "metadata": {},
   "outputs": [],
   "source": [
    "model_word = []\n",
    "for i in model_ip:\n",
    "    model_word.append(i)\n",
    "    for j in model_ip[i]:\n",
    "        model_word.append(j)\n",
    "\n",
    "model = {i for i in model_word}"
   ]
  },
  {
   "cell_type": "code",
   "execution_count": 10,
   "metadata": {},
   "outputs": [
    {
     "name": "stdout",
     "output_type": "stream",
     "text": [
      "['หน้าจอ', 'จอ', 'แบต', 'แบตเตอรี่', 'กล้อง', 'ถ่าย', 'ถ่ายภาพ', 'วีดีโอ', 'รูปถ่าย', 'hz', 'ถ่ายคลิป', 'dynamic island', 'fps', 'กล้องหน้า', 'กล้องหลัง', 'focus']\n"
     ]
    }
   ],
   "source": [
    "keywords_option = [\"หน้าจอ\",\"จอ\", \"แบต\", \"แบตเตอรี่\", \"กล้อง\", \"ถ่าย\",\"ถ่ายภาพ\", \"วีดีโอ\", \"รูปถ่าย\",\"hz\",\"ถ่ายคลิป\",\"dynamic island\",\"fps\",\"กล้องหน้า\",\"กล้องหลัง\",\"focus\"]\n",
    "keywords = keywords_option\n",
    "print(keywords)\n",
    "\n",
    "def keyword_filter(data):\n",
    "    \n",
    "    relevant_words = [word for word in data if word in keywords]\n",
    "    if not relevant_words:\n",
    "        return None\n",
    "    \n",
    "    data = \"\".join(word for word in data)\n",
    "    return data"
   ]
  },
  {
   "cell_type": "code",
   "execution_count": 23,
   "metadata": {},
   "outputs": [],
   "source": [
    "def question_filter(dataframe, text_column):\n",
    "    # Create a boolean mask to identify rows with question words\n",
    "    mask = dataframe[text_column].apply(lambda text: any(word in text for word in question_list))\n",
    "    # Invert the mask to keep only rows without question words\n",
    "    dataframe = dataframe.loc[~mask]\n",
    "\n",
    "    return dataframe"
   ]
  },
  {
   "cell_type": "code",
   "execution_count": 12,
   "metadata": {},
   "outputs": [],
   "source": [
    "custom_word = model.union(question_list)\n",
    "# print(custom_word)\n",
    "words = custom_word.union(thai_words())\n",
    "custom_dictionary_trie = Trie(words)\n",
    "\n",
    "def word_token(data):\n",
    "    data = \"\".join(u.lower() for u in data if u not in (\"?\", \".\", \";\", \":\", \"!\", '\"', \"ๆ\", \"ฯ\",\n",
    "                    \"/\", \"<\", \">\", \"^\", \"-\", \"*\", \"(\", \")\", \"%\", \"_\", \",\", \"#\", \"'\", \"{\", \"}\", \"…\",\"&\",\" \"))\n",
    "    data = normalize(data)\n",
    "    data = word_tokenize(data, custom_dict=custom_dictionary_trie, keep_whitespace=False)\n",
    "\n",
    "    return data\n",
    "\n",
    "# ********ดูcodeนี้ใหม่*********"
   ]
  },
  {
   "cell_type": "code",
   "execution_count": 13,
   "metadata": {},
   "outputs": [],
   "source": [
    "def tokenize_and_split_sentences(dataframe, text_column_name):\n",
    "    # Create a new DataFrame to store the tokenized sentences\n",
    "    new_dataframe = pd.DataFrame(columns=dataframe.columns)\n",
    "    rows_to_concat = []\n",
    "    \n",
    "    # Iterate over each row in the original DataFrame\n",
    "    for _, row in dataframe.iterrows():\n",
    "        text = row[text_column_name]\n",
    "        text = re.sub(r\"\\n\", '', text)\n",
    "        text = re.sub(r\"\\r\", '', text)\n",
    "        sentences = sent_tokenize(text)\n",
    "        \n",
    "        # Create a new row for each tokenized sentence\n",
    "        for sentence in sentences:\n",
    "            new_row = row.copy()\n",
    "            new_row[text_column_name] = sentence\n",
    "            rows_to_concat.append(new_row)\n",
    "    \n",
    "    # Convert the list of rows into a DataFrame\n",
    "    new_dataframe = pd.DataFrame(rows_to_concat)\n",
    "    new_dataframe.reset_index(drop=True, inplace=True)\n",
    "    \n",
    "    return new_dataframe"
   ]
  },
  {
   "cell_type": "code",
   "execution_count": 24,
   "metadata": {},
   "outputs": [
    {
     "name": "stdout",
     "output_type": "stream",
     "text": [
      "จำนวนข้อมูล 4,063 แถว\n"
     ]
    }
   ],
   "source": [
    "df_sent = tokenize_and_split_sentences(df, 'textDisplay')\n",
    "df_sent = df_sent.drop_duplicates()\n",
    "print(\"จำนวนข้อมูล\",f'{df_sent.shape[0]:,}',\"แถว\")"
   ]
  },
  {
   "cell_type": "code",
   "execution_count": 25,
   "metadata": {},
   "outputs": [
    {
     "data": {
      "text/html": [
       "<div>\n",
       "<style scoped>\n",
       "    .dataframe tbody tr th:only-of-type {\n",
       "        vertical-align: middle;\n",
       "    }\n",
       "\n",
       "    .dataframe tbody tr th {\n",
       "        vertical-align: top;\n",
       "    }\n",
       "\n",
       "    .dataframe thead th {\n",
       "        text-align: right;\n",
       "    }\n",
       "</style>\n",
       "<table border=\"1\" class=\"dataframe\">\n",
       "  <thead>\n",
       "    <tr style=\"text-align: right;\">\n",
       "      <th></th>\n",
       "      <th>textDisplay</th>\n",
       "      <th>sentiment</th>\n",
       "      <th>Filter_keyword</th>\n",
       "    </tr>\n",
       "  </thead>\n",
       "  <tbody>\n",
       "    <tr>\n",
       "      <th>0</th>\n",
       "      <td>ชอบกล้อง กับ ตัดต่อวีดีโอแค่นั้นแหละถ้าจะซื้อไ...</td>\n",
       "      <td>pos</td>\n",
       "      <td>[ชอบ, กล้อง, กับ, ตัดต่อ, วีดีโอ, แค่, นั้นแหล...</td>\n",
       "    </tr>\n",
       "    <tr>\n",
       "      <th>1</th>\n",
       "      <td>อยากทราบวิธีรักษาแบต 14 กับความร้อนของเครื่องค...</td>\n",
       "      <td>neg</td>\n",
       "      <td>[อยากทราบ, วิธี, รักษา, แบต, 14, กับ, ความร้อน...</td>\n",
       "    </tr>\n",
       "    <tr>\n",
       "      <th>2</th>\n",
       "      <td>นี่ซื้อมาใช้ได้ 1 เดือน</td>\n",
       "      <td>NaN</td>\n",
       "      <td>[นี่, ซื้อ, มา, ใช้ได้, 1, เดือน]</td>\n",
       "    </tr>\n",
       "    <tr>\n",
       "      <th>3</th>\n",
       "      <td>คุณภาพแบตลดไป 3% เหลือ 97%ถ้าหมดไป1ปี</td>\n",
       "      <td>NaN</td>\n",
       "      <td>[คุณภาพ, แบต, ลด, ไป, 3, เหลือ, 97, ถ้า, หมด, ...</td>\n",
       "    </tr>\n",
       "    <tr>\n",
       "      <th>4</th>\n",
       "      <td>มันจะเหลือถึง 70%ไหมน้อผมเป็นสาวกฝั่งแอนดรอยด์...</td>\n",
       "      <td>NaN</td>\n",
       "      <td>[มัน, จะ, เหลือ, ถึง, 70, ไหม, น้อผม, เป็น, สา...</td>\n",
       "    </tr>\n",
       "  </tbody>\n",
       "</table>\n",
       "</div>"
      ],
      "text/plain": [
       "                                         textDisplay sentiment  \\\n",
       "0  ชอบกล้อง กับ ตัดต่อวีดีโอแค่นั้นแหละถ้าจะซื้อไ...       pos   \n",
       "1  อยากทราบวิธีรักษาแบต 14 กับความร้อนของเครื่องค...       neg   \n",
       "2                           นี่ซื้อมาใช้ได้ 1 เดือน        NaN   \n",
       "3             คุณภาพแบตลดไป 3% เหลือ 97%ถ้าหมดไป1ปี        NaN   \n",
       "4  มันจะเหลือถึง 70%ไหมน้อผมเป็นสาวกฝั่งแอนดรอยด์...       NaN   \n",
       "\n",
       "                                      Filter_keyword  \n",
       "0  [ชอบ, กล้อง, กับ, ตัดต่อ, วีดีโอ, แค่, นั้นแหล...  \n",
       "1  [อยากทราบ, วิธี, รักษา, แบต, 14, กับ, ความร้อน...  \n",
       "2                  [นี่, ซื้อ, มา, ใช้ได้, 1, เดือน]  \n",
       "3  [คุณภาพ, แบต, ลด, ไป, 3, เหลือ, 97, ถ้า, หมด, ...  \n",
       "4  [มัน, จะ, เหลือ, ถึง, 70, ไหม, น้อผม, เป็น, สา...  "
      ]
     },
     "execution_count": 25,
     "metadata": {},
     "output_type": "execute_result"
    }
   ],
   "source": [
    "df_sent[\"Filter_keyword\"] = df_sent[\"textDisplay\"].apply(word_token)\n",
    "df_sent.head()"
   ]
  },
  {
   "cell_type": "code",
   "execution_count": 26,
   "metadata": {},
   "outputs": [
    {
     "name": "stdout",
     "output_type": "stream",
     "text": [
      "จำนวนข้อมูล 1,196 แถว\n"
     ]
    },
    {
     "data": {
      "text/html": [
       "<div>\n",
       "<style scoped>\n",
       "    .dataframe tbody tr th:only-of-type {\n",
       "        vertical-align: middle;\n",
       "    }\n",
       "\n",
       "    .dataframe tbody tr th {\n",
       "        vertical-align: top;\n",
       "    }\n",
       "\n",
       "    .dataframe thead th {\n",
       "        text-align: right;\n",
       "    }\n",
       "</style>\n",
       "<table border=\"1\" class=\"dataframe\">\n",
       "  <thead>\n",
       "    <tr style=\"text-align: right;\">\n",
       "      <th></th>\n",
       "      <th>textDisplay</th>\n",
       "      <th>sentiment</th>\n",
       "    </tr>\n",
       "  </thead>\n",
       "  <tbody>\n",
       "    <tr>\n",
       "      <th>0</th>\n",
       "      <td>ชอบกล้อง กับ ตัดต่อวีดีโอแค่นั้นแหละถ้าจะซื้อไ...</td>\n",
       "      <td>pos</td>\n",
       "    </tr>\n",
       "    <tr>\n",
       "      <th>1</th>\n",
       "      <td>อยากทราบวิธีรักษาแบต 14 กับความร้อนของเครื่องค...</td>\n",
       "      <td>neg</td>\n",
       "    </tr>\n",
       "    <tr>\n",
       "      <th>2</th>\n",
       "      <td>กล้องวูบวาบเป็นเพราะอะไรคะ</td>\n",
       "      <td>neg</td>\n",
       "    </tr>\n",
       "    <tr>\n",
       "      <th>3</th>\n",
       "      <td>ผมผู้ถือ 7Plus เมื่อไหร่มันจะเต็มจอสักที</td>\n",
       "      <td>neg</td>\n",
       "    </tr>\n",
       "    <tr>\n",
       "      <th>4</th>\n",
       "      <td>สงสัยต้อง 15 เอา แค่ c ก็พอก่อนละม้าง ไอ 18 ค่...</td>\n",
       "      <td>neg</td>\n",
       "    </tr>\n",
       "  </tbody>\n",
       "</table>\n",
       "</div>"
      ],
      "text/plain": [
       "                                         textDisplay sentiment\n",
       "0  ชอบกล้อง กับ ตัดต่อวีดีโอแค่นั้นแหละถ้าจะซื้อไ...       pos\n",
       "1  อยากทราบวิธีรักษาแบต 14 กับความร้อนของเครื่องค...       neg\n",
       "2                         กล้องวูบวาบเป็นเพราะอะไรคะ       neg\n",
       "3          ผมผู้ถือ 7Plus เมื่อไหร่มันจะเต็มจอสักที        neg\n",
       "4  สงสัยต้อง 15 เอา แค่ c ก็พอก่อนละม้าง ไอ 18 ค่...       neg"
      ]
     },
     "execution_count": 26,
     "metadata": {},
     "output_type": "execute_result"
    }
   ],
   "source": [
    "df_sent['Filter_keyword'] = df_sent['Filter_keyword'].apply(keyword_filter)\n",
    "df_sent = df_sent.dropna()\n",
    "df_sent.reset_index(drop=True, inplace=True)\n",
    "df_sent = df_sent.drop(columns=\"Filter_keyword\")\n",
    "print(\"จำนวนข้อมูล\",f'{df_sent.shape[0]:,}',\"แถว\")\n",
    "df_sent.head()"
   ]
  },
  {
   "cell_type": "code",
   "execution_count": 27,
   "metadata": {},
   "outputs": [
    {
     "name": "stdout",
     "output_type": "stream",
     "text": [
      "จำนวนข้อมูล 1,138 แถว\n"
     ]
    },
    {
     "data": {
      "text/html": [
       "<div>\n",
       "<style scoped>\n",
       "    .dataframe tbody tr th:only-of-type {\n",
       "        vertical-align: middle;\n",
       "    }\n",
       "\n",
       "    .dataframe tbody tr th {\n",
       "        vertical-align: top;\n",
       "    }\n",
       "\n",
       "    .dataframe thead th {\n",
       "        text-align: right;\n",
       "    }\n",
       "</style>\n",
       "<table border=\"1\" class=\"dataframe\">\n",
       "  <thead>\n",
       "    <tr style=\"text-align: right;\">\n",
       "      <th></th>\n",
       "      <th>textDisplay</th>\n",
       "      <th>sentiment</th>\n",
       "    </tr>\n",
       "  </thead>\n",
       "  <tbody>\n",
       "    <tr>\n",
       "      <th>0</th>\n",
       "      <td>ชอบกล้อง กับ ตัดต่อวีดีโอแค่นั้นแหละถ้าจะซื้อไ...</td>\n",
       "      <td>pos</td>\n",
       "    </tr>\n",
       "    <tr>\n",
       "      <th>1</th>\n",
       "      <td>ผมผู้ถือ 7Plus เมื่อไหร่มันจะเต็มจอสักที</td>\n",
       "      <td>neg</td>\n",
       "    </tr>\n",
       "    <tr>\n",
       "      <th>2</th>\n",
       "      <td>สงสัยต้อง 15 เอา แค่ c ก็พอก่อนละม้าง ไอ 18 ค่...</td>\n",
       "      <td>neg</td>\n",
       "    </tr>\n",
       "    <tr>\n",
       "      <th>3</th>\n",
       "      <td>ก็เงินเขาอะเขาก็ผิดหวังปะชิปตัวเดิมจาก13จอ60Hz...</td>\n",
       "      <td>neg</td>\n",
       "    </tr>\n",
       "    <tr>\n",
       "      <th>4</th>\n",
       "      <td>หน้าจอควรจะได้</td>\n",
       "      <td>neg</td>\n",
       "    </tr>\n",
       "    <tr>\n",
       "      <th>...</th>\n",
       "      <td>...</td>\n",
       "      <td>...</td>\n",
       "    </tr>\n",
       "    <tr>\n",
       "      <th>1133</th>\n",
       "      <td>สำหรับออย เอาเครื่องคิดเลขถ่ายก็สวยครับ</td>\n",
       "      <td>pos</td>\n",
       "    </tr>\n",
       "    <tr>\n",
       "      <th>1134</th>\n",
       "      <td>มันคุ้มกว่าแน่นอน เพิ่ม แค่ 3,000 ก็ได้หน้าจอท...</td>\n",
       "      <td>pos</td>\n",
       "    </tr>\n",
       "    <tr>\n",
       "      <th>1135</th>\n",
       "      <td>เซนเซอร์กล้องที่ ใหญ่กว่า และ ดีกว่าเยอะ พอควร.</td>\n",
       "      <td>pos</td>\n",
       "    </tr>\n",
       "    <tr>\n",
       "      <th>1136</th>\n",
       "      <td>แบตก็อึดกว่า   แต่ๆๆๆๆๆ.</td>\n",
       "      <td>pos</td>\n",
       "    </tr>\n",
       "    <tr>\n",
       "      <th>1137</th>\n",
       "      <td>โดยส่วนตัวไม่สนจอใหญ่</td>\n",
       "      <td>pos</td>\n",
       "    </tr>\n",
       "  </tbody>\n",
       "</table>\n",
       "<p>1138 rows × 2 columns</p>\n",
       "</div>"
      ],
      "text/plain": [
       "                                            textDisplay sentiment\n",
       "0     ชอบกล้อง กับ ตัดต่อวีดีโอแค่นั้นแหละถ้าจะซื้อไ...       pos\n",
       "1             ผมผู้ถือ 7Plus เมื่อไหร่มันจะเต็มจอสักที        neg\n",
       "2     สงสัยต้อง 15 เอา แค่ c ก็พอก่อนละม้าง ไอ 18 ค่...       neg\n",
       "3     ก็เงินเขาอะเขาก็ผิดหวังปะชิปตัวเดิมจาก13จอ60Hz...       neg\n",
       "4                                       หน้าจอควรจะได้        neg\n",
       "...                                                 ...       ...\n",
       "1133            สำหรับออย เอาเครื่องคิดเลขถ่ายก็สวยครับ       pos\n",
       "1134  มันคุ้มกว่าแน่นอน เพิ่ม แค่ 3,000 ก็ได้หน้าจอท...       pos\n",
       "1135  เซนเซอร์กล้องที่ ใหญ่กว่า และ ดีกว่าเยอะ พอควร.         pos\n",
       "1136                          แบตก็อึดกว่า   แต่ๆๆๆๆๆ.        pos\n",
       "1137                             โดยส่วนตัวไม่สนจอใหญ่        pos\n",
       "\n",
       "[1138 rows x 2 columns]"
      ]
     },
     "execution_count": 27,
     "metadata": {},
     "output_type": "execute_result"
    }
   ],
   "source": [
    "df_questionable_filter = question_filter(df_sent, \"textDisplay\")\n",
    "df_questionable_filter.reset_index(drop=True, inplace=True)\n",
    "print(\"จำนวนข้อมูล\",f'{df_questionable_filter.shape[0]:,}',\"แถว\")\n",
    "df_questionable_filter"
   ]
  },
  {
   "cell_type": "code",
   "execution_count": 28,
   "metadata": {},
   "outputs": [],
   "source": [
    "df_questionable_filter.to_excel(\"Corpus_after_remove_question_clean.xlsx\")"
   ]
  },
  {
   "cell_type": "code",
   "execution_count": 39,
   "metadata": {},
   "outputs": [
    {
     "name": "stdout",
     "output_type": "stream",
     "text": [
      "['หนัก', 'ว่า', 'บาก', ' ', 'เสย', 'เลย', 'ครับ', ' ', '14', ' ', 'plus', ' ', 'แบต', 'เยอะ', 'กว่า', ' ', 'มั้ย', 'ครับ']\n"
     ]
    }
   ],
   "source": [
    "text = 'หนักว่าบาก เสยเลยครับ 14 plus แบตเยอะกว่า มั้ยครับ'\n",
    "\n",
    "a = word_tokenize(text)\n",
    "print(a)"
   ]
  },
  {
   "cell_type": "code",
   "execution_count": 1,
   "metadata": {},
   "outputs": [],
   "source": [
    "from langdetect import detect\n",
    "def is_thai(text):\n",
    "    try:\n",
    "        return detect(text) == 'th'\n",
    "    except:\n",
    "        return False"
   ]
  },
  {
   "cell_type": "code",
   "execution_count": 3,
   "metadata": {},
   "outputs": [],
   "source": [
    "test = is_thai(\"ฉันชอบ iPhone14\")\n",
    "if test == \"th\":\n",
    "\n",
    "    print(test)"
   ]
  }
 ],
 "metadata": {
  "kernelspec": {
   "display_name": "Python 3",
   "language": "python",
   "name": "python3"
  },
  "language_info": {
   "codemirror_mode": {
    "name": "ipython",
    "version": 3
   },
   "file_extension": ".py",
   "mimetype": "text/x-python",
   "name": "python",
   "nbconvert_exporter": "python",
   "pygments_lexer": "ipython3",
   "version": "3.10.5"
  },
  "orig_nbformat": 4
 },
 "nbformat": 4,
 "nbformat_minor": 2
}
