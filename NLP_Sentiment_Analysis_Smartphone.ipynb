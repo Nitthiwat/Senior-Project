{
 "cells": [
  {
   "cell_type": "markdown",
   "metadata": {},
   "source": [
    "Sentiment Analysis Smartphone"
   ]
  },
  {
   "attachments": {},
   "cell_type": "markdown",
   "metadata": {},
   "source": [
    "ติดตั้ง Library Pythai NLP\n",
    "\n",
    "\n",
    "\n",
    "\n"
   ]
  },
  {
   "cell_type": "code",
   "execution_count": 1,
   "metadata": {},
   "outputs": [
    {
     "name": "stdout",
     "output_type": "stream",
     "text": [
      "Requirement already satisfied: pythainlp in c:\\python310\\lib\\site-packages (3.1.1)\n",
      "Requirement already satisfied: requests>=2.22.0 in c:\\python310\\lib\\site-packages (from pythainlp) (2.28.1)\n",
      "Requirement already satisfied: charset-normalizer<3,>=2 in c:\\python310\\lib\\site-packages (from requests>=2.22.0->pythainlp) (2.1.0)\n",
      "Requirement already satisfied: idna<4,>=2.5 in c:\\users\\lenovo\\appdata\\roaming\\python\\python310\\site-packages (from requests>=2.22.0->pythainlp) (3.3)\n",
      "Requirement already satisfied: certifi>=2017.4.17 in c:\\users\\lenovo\\appdata\\roaming\\python\\python310\\site-packages (from requests>=2.22.0->pythainlp) (2022.6.15)\n",
      "Requirement already satisfied: urllib3<1.27,>=1.21.1 in c:\\users\\lenovo\\appdata\\roaming\\python\\python310\\site-packages (from requests>=2.22.0->pythainlp) (1.26.10)\n"
     ]
    },
    {
     "name": "stderr",
     "output_type": "stream",
     "text": [
      "\n",
      "[notice] A new release of pip available: 22.2.2 -> 23.0.1\n",
      "[notice] To update, run: python.exe -m pip install --upgrade pip\n"
     ]
    }
   ],
   "source": [
    "!pip install pythainlp"
   ]
  },
  {
   "attachments": {},
   "cell_type": "markdown",
   "metadata": {},
   "source": [
    "Import Library ที่จะใช้"
   ]
  },
  {
   "cell_type": "code",
   "execution_count": 2,
   "metadata": {},
   "outputs": [],
   "source": [
    "import pandas as pd\n",
    "import matplotlib.pyplot as plt\n",
    "import numpy as np\n",
    "import re\n",
    "import json\n",
    "import requests\n",
    "from pythainlp import word_tokenize\n",
    "from pythainlp.util import normalize\n",
    "from pythainlp.tag import pos_tag\n",
    "from pythainlp.util import Trie\n",
    "\n",
    "from pythainlp.corpus.common import thai_stopwords\n",
    "from pythainlp.corpus.common import thai_words\n",
    "from sklearn.model_selection import train_test_split\n",
    "from sklearn.feature_extraction.text import CountVectorizer\n",
    "from sklearn.linear_model import LogisticRegression\n",
    "from sklearn import svm\n",
    "from sklearn.naive_bayes import MultinomialNB\n",
    "from sklearn.naive_bayes import GaussianNB\n",
    "from sklearn.metrics import classification_report\n",
    "from sklearn.metrics import accuracy_score, confusion_matrix, ConfusionMatrixDisplay\n",
    "thai_stopwords = list(thai_stopwords())"
   ]
  },
  {
   "attachments": {},
   "cell_type": "markdown",
   "metadata": {},
   "source": [
    "Load Files Model ของ iPhone ที่เป็นไฟล์ JSON\n"
   ]
  },
  {
   "cell_type": "code",
   "execution_count": 68,
   "metadata": {},
   "outputs": [],
   "source": [
    "with open('model_iphone.json', 'r', encoding=\"utf-8\") as file:\n",
    "    model_ip = json.load(file)"
   ]
  },
  {
   "attachments": {},
   "cell_type": "markdown",
   "metadata": {},
   "source": [
    "เก็บชื่อ Model ของ iPhone ไว้ใน List"
   ]
  },
  {
   "cell_type": "code",
   "execution_count": 69,
   "metadata": {},
   "outputs": [],
   "source": [
    "model_word = []\n",
    "for i in model_ip:\n",
    "    model_word.append(i)\n",
    "    for j in model_ip[i]:\n",
    "        model_word.append(j)\n",
    "\n",
    "model = {i for i in model_word}"
   ]
  },
  {
   "attachments": {},
   "cell_type": "markdown",
   "metadata": {},
   "source": [
    "Function วิเคราะห์ความรู้สึกของ AI For Thai"
   ]
  },
  {
   "cell_type": "code",
   "execution_count": 70,
   "metadata": {},
   "outputs": [],
   "source": [
    "url = \"https://api.aiforthai.in.th/ssense\"\n",
    "headers = {\n",
    "    'Apikey': \"FOFZpO9UFwSMquHMwVmZ7cjebmv0Yv8a\"\n",
    "}\n",
    "\n",
    "def analyze_sentiment_AIforthai(df, column_name):\n",
    "    api_key = \"FOFZpO9UFwSMquHMwVmZ7cjebmv0Yv8a\"\n",
    "    results_df = pd.DataFrame(columns=[\"comment\", \"sentiment\"])\n",
    "    for index, row in df.iterrows():\n",
    "        comment = row[column_name]\n",
    "        response = requests.post(\n",
    "            \"https://api.aiforthai.in.th/ssense\",\n",
    "            data={\"text\": comment},\n",
    "            headers={\"Apikey\": api_key}\n",
    "        )\n",
    "        sentiment = response.json()\n",
    "        results_df.loc[index] = [comment, sentiment]\n",
    "    \n",
    "    return results_df"
   ]
  },
  {
   "attachments": {},
   "cell_type": "markdown",
   "metadata": {},
   "source": [
    "Load Data เข้ามาเก็บไว้ใน DataFrame"
   ]
  },
  {
   "cell_type": "code",
   "execution_count": 71,
   "metadata": {},
   "outputs": [
    {
     "name": "stdout",
     "output_type": "stream",
     "text": [
      "Comment Data 1,002 rows\n"
     ]
    },
    {
     "data": {
      "text/html": [
       "<div>\n",
       "<style scoped>\n",
       "    .dataframe tbody tr th:only-of-type {\n",
       "        vertical-align: middle;\n",
       "    }\n",
       "\n",
       "    .dataframe tbody tr th {\n",
       "        vertical-align: top;\n",
       "    }\n",
       "\n",
       "    .dataframe thead th {\n",
       "        text-align: right;\n",
       "    }\n",
       "</style>\n",
       "<table border=\"1\" class=\"dataframe\">\n",
       "  <thead>\n",
       "    <tr style=\"text-align: right;\">\n",
       "      <th></th>\n",
       "      <th>text</th>\n",
       "    </tr>\n",
       "  </thead>\n",
       "  <tbody>\n",
       "    <tr>\n",
       "      <th>0</th>\n",
       "      <td>เป็นกับสี</td>\n",
       "    </tr>\n",
       "    <tr>\n",
       "      <th>1</th>\n",
       "      <td>อยากได้จัง ตังไม่พอ</td>\n",
       "    </tr>\n",
       "    <tr>\n",
       "      <th>2</th>\n",
       "      <td>ใส่เคส rhinoshield เข้ากับขอบฟิล์มกระจกเลนส์กล...</td>\n",
       "    </tr>\n",
       "    <tr>\n",
       "      <th>3</th>\n",
       "      <td>ไม่เคยใช้ไอโฟน อยากขอคำแนะนำใช้ 14 ตัวไหนดี ปก...</td>\n",
       "    </tr>\n",
       "    <tr>\n",
       "      <th>4</th>\n",
       "      <td>เลือกไม่ถูกค่ะช่วยเลือกที 13pm 14 14pro</td>\n",
       "    </tr>\n",
       "  </tbody>\n",
       "</table>\n",
       "</div>"
      ],
      "text/plain": [
       "                                                text\n",
       "0                                          เป็นกับสี\n",
       "1                                อยากได้จัง ตังไม่พอ\n",
       "2  ใส่เคส rhinoshield เข้ากับขอบฟิล์มกระจกเลนส์กล...\n",
       "3  ไม่เคยใช้ไอโฟน อยากขอคำแนะนำใช้ 14 ตัวไหนดี ปก...\n",
       "4            เลือกไม่ถูกค่ะช่วยเลือกที 13pm 14 14pro"
      ]
     },
     "execution_count": 71,
     "metadata": {},
     "output_type": "execute_result"
    }
   ],
   "source": [
    "df=pd.read_table(\"iphone14.txt\",names=['text'],header=None)\n",
    "print(\"Comment Data {:,} rows\".format(df.shape[0]))\n",
    "df.head()"
   ]
  },
  {
   "attachments": {},
   "cell_type": "markdown",
   "metadata": {},
   "source": [
    "# Preprocessing Data"
   ]
  },
  {
   "cell_type": "code",
   "execution_count": 7,
   "metadata": {},
   "outputs": [],
   "source": [
    "def showConfisionMatrix(label, predict):\n",
    "  cm = confusion_matrix(label, predict)\n",
    "  ac = accuracy_score(label, predict)\n",
    "  print(\"Accuracy score: {:.4f}\".format(ac))\n",
    "  disp = ConfusionMatrixDisplay(confusion_matrix=cm, display_labels=[\"neg\", \"neu\", \"pos\"])\n",
    "  fig, ax = plt.subplots(figsize=(5,5))\n",
    "  disp.plot(ax=ax, values_format=\",d\")"
   ]
  },
  {
   "attachments": {},
   "cell_type": "markdown",
   "metadata": {},
   "source": [
    "Function แก้ไขคำผิด ในส่วนของ Model Smartphone"
   ]
  },
  {
   "cell_type": "code",
   "execution_count": 73,
   "metadata": {},
   "outputs": [],
   "source": [
    "def changes_word_of_model(text, dict_word):\n",
    "    correct_text = []\n",
    "    for word in text:\n",
    "        for i in dict_word:\n",
    "            if word in dict_word[i]:\n",
    "                correct_word = i\n",
    "                break\n",
    "        else:\n",
    "            correct_word = word\n",
    "        correct_text.append(correct_word)\n",
    "    return \" \".join(correct_text)"
   ]
  },
  {
   "attachments": {},
   "cell_type": "markdown",
   "metadata": {},
   "source": [
    "Function แก้ไขคำที่ผิดของประโยค"
   ]
  },
  {
   "cell_type": "code",
   "execution_count": 74,
   "metadata": {},
   "outputs": [],
   "source": [
    "def changes_incorrect(text, dict_word):\n",
    "    text = text.split()\n",
    "    correct_text = []\n",
    "    for word in text:\n",
    "        for i in dict_word:\n",
    "            if word in dict_word[i]:\n",
    "                correct_word = i\n",
    "                break\n",
    "        else:\n",
    "            correct_word = word\n",
    "        correct_text.append(correct_word)\n",
    "    return \" \".join(correct_text)"
   ]
  },
  {
   "attachments": {},
   "cell_type": "markdown",
   "metadata": {},
   "source": [
    "Function ลบคำที่มีตัวสะกดซ้ำ"
   ]
  },
  {
   "cell_type": "code",
   "execution_count": 75,
   "metadata": {},
   "outputs": [],
   "source": [
    "def repeat_letter(text):\n",
    "    def _replace_rep(m):\n",
    "        c, _ = m.groups()\n",
    "        return f\"{c} \"\n",
    "\n",
    "    re_rep = re.compile(r\"(\\S)(\\1{2,})\")\n",
    "    return re_rep.sub(_replace_rep, text)"
   ]
  },
  {
   "attachments": {},
   "cell_type": "markdown",
   "metadata": {},
   "source": [
    "Function ลบอิโมจิ"
   ]
  },
  {
   "cell_type": "code",
   "execution_count": 76,
   "metadata": {},
   "outputs": [],
   "source": [
    "def remove_emojis(data):\n",
    "    emoj = re.compile(\"[\"\n",
    "                      u\"\\U0001F600-\\U0001F64F\"  # emoticons\n",
    "                      u\"\\U0001F300-\\U0001F5FF\"  # symbols & pictographs\n",
    "                      u\"\\U0001F680-\\U0001F6FF\"  # transport & map symbols\n",
    "                      u\"\\U0001F1E0-\\U0001F1FF\"  # flags (iOS)\n",
    "                      u\"\\U00002500-\\U00002BEF\"  # chinese char\n",
    "                      u\"\\U00002702-\\U000027B0\"\n",
    "                      u\"\\U00002702-\\U000027B0\"\n",
    "                      u\"\\U000024C2-\\U0001F251\"\n",
    "                      u\"\\U0001f926-\\U0001f937\"\n",
    "                      u\"\\U00010000-\\U0010ffff\"\n",
    "                      u\"\\u2640-\\u2642\"\n",
    "                      u\"\\u2600-\\u2B55\"\n",
    "                      u\"\\u200d\"\n",
    "                      u\"\\u23cf\"\n",
    "                      u\"\\u23e9\"\n",
    "                      u\"\\u231a\"\n",
    "                      u\"\\ufe0f\"  # dingbats\n",
    "                      u\"\\u3030\"\n",
    "                      \"]+\", re.UNICODE)\n",
    "    return re.sub(emoj, '', data)"
   ]
  },
  {
   "cell_type": "code",
   "execution_count": 77,
   "metadata": {},
   "outputs": [
    {
     "data": {
      "text/html": [
       "<div>\n",
       "<style scoped>\n",
       "    .dataframe tbody tr th:only-of-type {\n",
       "        vertical-align: middle;\n",
       "    }\n",
       "\n",
       "    .dataframe tbody tr th {\n",
       "        vertical-align: top;\n",
       "    }\n",
       "\n",
       "    .dataframe thead th {\n",
       "        text-align: right;\n",
       "    }\n",
       "</style>\n",
       "<table border=\"1\" class=\"dataframe\">\n",
       "  <thead>\n",
       "    <tr style=\"text-align: right;\">\n",
       "      <th></th>\n",
       "      <th>text</th>\n",
       "      <th>comment</th>\n",
       "    </tr>\n",
       "  </thead>\n",
       "  <tbody>\n",
       "    <tr>\n",
       "      <th>1</th>\n",
       "      <td>ไม่เคยใช้ไอโฟน อยากขอคำแนะนำใช้ 14 ตัวไหนดี ปก...</td>\n",
       "      <td>ไอโฟน|คำแนะนำ|iPhone 14|ตัว|ดี|ปกติ|ซัมซุง</td>\n",
       "    </tr>\n",
       "    <tr>\n",
       "      <th>2</th>\n",
       "      <td>เลือกไม่ถูกค่ะช่วยเลือกที 13pm 14 14pro</td>\n",
       "      <td>เลือก|เลือก|iPhone 13 Pro Max|iPhone 14|iPhone...</td>\n",
       "    </tr>\n",
       "    <tr>\n",
       "      <th>3</th>\n",
       "      <td>กำลังตัดสินใจอยู่เลยค่ะว่าจะเลือกตัวไหนดีระหว่...</td>\n",
       "      <td>ตัดสินใจ|อยู่เลย|เลือก|ตัว|ดี|iPhone 14 Plus|i...</td>\n",
       "    </tr>\n",
       "    <tr>\n",
       "      <th>4</th>\n",
       "      <td>เราเลือก14proมา ตอนแรกก็คิดว่ามันจะเกะกะไหมในส...</td>\n",
       "      <td>เลือก|iPhone 14 Pro|ตอนแรก|เกะกะ|ไหม|dynamicis...</td>\n",
       "    </tr>\n",
       "    <tr>\n",
       "      <th>5</th>\n",
       "      <td>กำลังตัดสินใจ 14 พลัส vs 13 โปรแม็กครับ</td>\n",
       "      <td>ตัดสินใจ|iPhone 14|พลัส|vs|iPhone 13|โปร|แม็ก</td>\n",
       "    </tr>\n",
       "    <tr>\n",
       "      <th>6</th>\n",
       "      <td>Iphone 14 ธรรมดาให้ฟิล 13 pro ไหมคะ?</td>\n",
       "      <td>iPhone 14|ธรรมดา|ฟิล|iPhone 13 Pro|ไหม</td>\n",
       "    </tr>\n",
       "    <tr>\n",
       "      <th>7</th>\n",
       "      <td>เล็งไอโฟน 14 ไว้ค่ะ ส่วนตัวไม่ชอบ dynamic isla...</td>\n",
       "      <td>เล็ง|ไอโฟน|iPhone 14|ส่วนตัว|ชอบ|dynamicisland...</td>\n",
       "    </tr>\n",
       "    <tr>\n",
       "      <th>8</th>\n",
       "      <td>ถ้าอยากขายดี ทำจอใหญ่ เลยเป็นตัวเริ่มต้น</td>\n",
       "      <td>ขายดี|ทำ|จอ|เป็นตัว|เริ่มต้น</td>\n",
       "    </tr>\n",
       "    <tr>\n",
       "      <th>9</th>\n",
       "      <td>14+ แบตโคตรอึด เล่นได้ทั้งวันจริงๆ</td>\n",
       "      <td>iPhone 14 Plus|แบต|โคตร|อึด|เล่น|ทั้งวัน</td>\n",
       "    </tr>\n",
       "  </tbody>\n",
       "</table>\n",
       "</div>"
      ],
      "text/plain": [
       "                                                text  \\\n",
       "1  ไม่เคยใช้ไอโฟน อยากขอคำแนะนำใช้ 14 ตัวไหนดี ปก...   \n",
       "2            เลือกไม่ถูกค่ะช่วยเลือกที 13pm 14 14pro   \n",
       "3  กำลังตัดสินใจอยู่เลยค่ะว่าจะเลือกตัวไหนดีระหว่...   \n",
       "4  เราเลือก14proมา ตอนแรกก็คิดว่ามันจะเกะกะไหมในส...   \n",
       "5            กำลังตัดสินใจ 14 พลัส vs 13 โปรแม็กครับ   \n",
       "6               Iphone 14 ธรรมดาให้ฟิล 13 pro ไหมคะ?   \n",
       "7  เล็งไอโฟน 14 ไว้ค่ะ ส่วนตัวไม่ชอบ dynamic isla...   \n",
       "8           ถ้าอยากขายดี ทำจอใหญ่ เลยเป็นตัวเริ่มต้น   \n",
       "9                 14+ แบตโคตรอึด เล่นได้ทั้งวันจริงๆ   \n",
       "\n",
       "                                             comment  \n",
       "1         ไอโฟน|คำแนะนำ|iPhone 14|ตัว|ดี|ปกติ|ซัมซุง  \n",
       "2  เลือก|เลือก|iPhone 13 Pro Max|iPhone 14|iPhone...  \n",
       "3  ตัดสินใจ|อยู่เลย|เลือก|ตัว|ดี|iPhone 14 Plus|i...  \n",
       "4  เลือก|iPhone 14 Pro|ตอนแรก|เกะกะ|ไหม|dynamicis...  \n",
       "5      ตัดสินใจ|iPhone 14|พลัส|vs|iPhone 13|โปร|แม็ก  \n",
       "6             iPhone 14|ธรรมดา|ฟิล|iPhone 13 Pro|ไหม  \n",
       "7  เล็ง|ไอโฟน|iPhone 14|ส่วนตัว|ชอบ|dynamicisland...  \n",
       "8                       ขายดี|ทำ|จอ|เป็นตัว|เริ่มต้น  \n",
       "9           iPhone 14 Plus|แบต|โคตร|อึด|เล่น|ทั้งวัน  "
      ]
     },
     "execution_count": 77,
     "metadata": {},
     "output_type": "execute_result"
    }
   ],
   "source": [
    "incorrect = {\n",
    "    \"ดี\": [\"ดร\"],\n",
    "    \"ศัพท์\": [\"ศัทพ์\"]\n",
    "}\n",
    "\n",
    "keywords_model = [i for i in model_ip]\n",
    "keywords_option = ['กล้อง', 'หน้าจอ','จอ', 'ดีไซน์', 'โปรเซสเซอร์', 'แบตเตอรี่','ชิพ']\n",
    "keywords = keywords_model+keywords_option\n",
    "words = model.union(thai_words())\n",
    "custom_dictionary_trie = Trie(words)\n",
    "\n",
    "def text_process(text):\n",
    "    final = \"\".join(u.lower() for u in text if u not in (\"?\", \".\", \";\", \":\", \"!\", '\"', \"ๆ\", \"ฯ\",\n",
    "                    \"/\", \"<\", \">\", \"^\", \"-\", \"*\", \"(\", \")\", \"%\", \"_\", \",\", \"#\", \"'\", \" \", \"{\", \"}\", \"…\",\"&\"))\n",
    "    final = repeat_letter(final)\n",
    "    final = normalize(final)\n",
    "    final = word_tokenize(\n",
    "        final, custom_dict=custom_dictionary_trie, keep_whitespace=False)\n",
    "    final = changes_word_of_model(final, model_ip)\n",
    "    final = changes_incorrect(final, incorrect)\n",
    "    final = word_tokenize(final,custom_dict=custom_dictionary_trie,keep_whitespace=False)\n",
    "    \n",
    "    relevant_words = [word for word in final if word in keywords]\n",
    "    if not relevant_words:\n",
    "        return None\n",
    "\n",
    "    tag_word = pos_tag(final,corpus=\"orchid_ud\")\n",
    "    tokens = [word for word in tag_word if word not in thai_stopwords]\n",
    "    # # print(tokens)\n",
    "\n",
    "    final = \"|\".join(word for word in final if word not in thai_stopwords)\n",
    "    return final\n",
    "\n",
    "\n",
    "\n",
    "df['comment'] = df['text'].apply(remove_emojis)\n",
    "df['comment'] = df['comment'].apply(text_process)\n",
    "df = df.dropna()\n",
    "df.to_csv(\"test_data.csv\", encoding=\"utf-8\")\n",
    "df.reset_index(drop=True, inplace=True)\n",
    "df.iloc[1:10]\n",
    "# df"
   ]
  },
  {
   "attachments": {},
   "cell_type": "markdown",
   "metadata": {},
   "source": [
    "Function AIForThai Sentiment Analysis ยังมี limit ของการวิเคราะห์อยู่"
   ]
  },
  {
   "cell_type": "code",
   "execution_count": 78,
   "metadata": {},
   "outputs": [],
   "source": [
    "def analyze_sentiment_AIforthai(df, column_name):\n",
    "    api_key = \"FOFZpO9UFwSMquHMwVmZ7cjebmv0Yv8a\"\n",
    "    results_df = pd.DataFrame(columns=[\"comment\", \"sentiment_data\"])\n",
    "    for index, row in df.iterrows():\n",
    "        comment = row[column_name]\n",
    "        response = requests.post(\n",
    "            \"https://api.aiforthai.in.th/ssense\",\n",
    "            data={\"text\": comment},\n",
    "            headers={\"Apikey\": api_key}\n",
    "        )\n",
    "        sentiment_data = dict(response.json())\n",
    "        if sentiment_data[\"sentiment\"][\"score\"] == \"0\":\n",
    "            sentiment_data = \"neu\"\n",
    "        else:\n",
    "            sentiment_data = sentiment_data[\"sentiment\"]['polarity'][:3]\n",
    "        results_df.loc[index] = [comment, sentiment_data]\n",
    "    return results_df"
   ]
  },
  {
   "cell_type": "code",
   "execution_count": 79,
   "metadata": {},
   "outputs": [
    {
     "data": {
      "text/html": [
       "<div>\n",
       "<style scoped>\n",
       "    .dataframe tbody tr th:only-of-type {\n",
       "        vertical-align: middle;\n",
       "    }\n",
       "\n",
       "    .dataframe tbody tr th {\n",
       "        vertical-align: top;\n",
       "    }\n",
       "\n",
       "    .dataframe thead th {\n",
       "        text-align: right;\n",
       "    }\n",
       "</style>\n",
       "<table border=\"1\" class=\"dataframe\">\n",
       "  <thead>\n",
       "    <tr style=\"text-align: right;\">\n",
       "      <th></th>\n",
       "      <th>comment</th>\n",
       "      <th>sentiment_data</th>\n",
       "    </tr>\n",
       "  </thead>\n",
       "  <tbody>\n",
       "    <tr>\n",
       "      <th>0</th>\n",
       "      <td>ใส่|เคส|rhinoshield|เข้ากับ|ขอบ|ฟิล์ม|กระจก|เล...</td>\n",
       "      <td>neu</td>\n",
       "    </tr>\n",
       "    <tr>\n",
       "      <th>1</th>\n",
       "      <td>ไอโฟน|คำแนะนำ|iPhone 14|ตัว|ดี|ปกติ|ซัมซุง</td>\n",
       "      <td>pos</td>\n",
       "    </tr>\n",
       "    <tr>\n",
       "      <th>2</th>\n",
       "      <td>เลือก|เลือก|iPhone 13 Pro Max|iPhone 14|iPhone...</td>\n",
       "      <td>neu</td>\n",
       "    </tr>\n",
       "    <tr>\n",
       "      <th>3</th>\n",
       "      <td>ตัดสินใจ|อยู่เลย|เลือก|ตัว|ดี|iPhone 14 Plus|i...</td>\n",
       "      <td>pos</td>\n",
       "    </tr>\n",
       "    <tr>\n",
       "      <th>4</th>\n",
       "      <td>เลือก|iPhone 14 Pro|ตอนแรก|เกะกะ|ไหม|dynamicis...</td>\n",
       "      <td>neg</td>\n",
       "    </tr>\n",
       "    <tr>\n",
       "      <th>...</th>\n",
       "      <td>...</td>\n",
       "      <td>...</td>\n",
       "    </tr>\n",
       "    <tr>\n",
       "      <th>115</th>\n",
       "      <td>ดีละ|ดูก่อน|งั้น|ซื้อ|iPhone 13|คุ้ม</td>\n",
       "      <td>pos</td>\n",
       "    </tr>\n",
       "    <tr>\n",
       "      <th>116</th>\n",
       "      <td>ตอนนี้|ผม|โยก|แอน|ดอย|ios|คุ้มค่า|ครับผม|ลอง|i...</td>\n",
       "      <td>pos</td>\n",
       "    </tr>\n",
       "    <tr>\n",
       "      <th>117</th>\n",
       "      <td>กล้อง|48|mp|ขาย|ดีกว่า</td>\n",
       "      <td>pos</td>\n",
       "    </tr>\n",
       "    <tr>\n",
       "      <th>118</th>\n",
       "      <td>ชอบ|ด่า|เหมือนกัน|รอ|iPhone 13|ต่างกัน|ผิดหวัง...</td>\n",
       "      <td>pos</td>\n",
       "    </tr>\n",
       "    <tr>\n",
       "      <th>119</th>\n",
       "      <td>สอบถาม|คะใน|เสียง|โทร|iPhone 14|ตัด|เสียงรบกวน...</td>\n",
       "      <td>neg</td>\n",
       "    </tr>\n",
       "  </tbody>\n",
       "</table>\n",
       "<p>120 rows × 2 columns</p>\n",
       "</div>"
      ],
      "text/plain": [
       "                                               comment sentiment_data\n",
       "0    ใส่|เคส|rhinoshield|เข้ากับ|ขอบ|ฟิล์ม|กระจก|เล...            neu\n",
       "1           ไอโฟน|คำแนะนำ|iPhone 14|ตัว|ดี|ปกติ|ซัมซุง            pos\n",
       "2    เลือก|เลือก|iPhone 13 Pro Max|iPhone 14|iPhone...            neu\n",
       "3    ตัดสินใจ|อยู่เลย|เลือก|ตัว|ดี|iPhone 14 Plus|i...            pos\n",
       "4    เลือก|iPhone 14 Pro|ตอนแรก|เกะกะ|ไหม|dynamicis...            neg\n",
       "..                                                 ...            ...\n",
       "115               ดีละ|ดูก่อน|งั้น|ซื้อ|iPhone 13|คุ้ม            pos\n",
       "116  ตอนนี้|ผม|โยก|แอน|ดอย|ios|คุ้มค่า|ครับผม|ลอง|i...            pos\n",
       "117                             กล้อง|48|mp|ขาย|ดีกว่า            pos\n",
       "118  ชอบ|ด่า|เหมือนกัน|รอ|iPhone 13|ต่างกัน|ผิดหวัง...            pos\n",
       "119  สอบถาม|คะใน|เสียง|โทร|iPhone 14|ตัด|เสียงรบกวน...            neg\n",
       "\n",
       "[120 rows x 2 columns]"
      ]
     },
     "execution_count": 79,
     "metadata": {},
     "output_type": "execute_result"
    }
   ],
   "source": [
    "results_df = analyze_sentiment_AIforthai(df[:120], \"comment\")\n",
    "results_df"
   ]
  },
  {
   "cell_type": "code",
   "execution_count": 81,
   "metadata": {},
   "outputs": [
    {
     "data": {
      "text/html": [
       "<div>\n",
       "<style scoped>\n",
       "    .dataframe tbody tr th:only-of-type {\n",
       "        vertical-align: middle;\n",
       "    }\n",
       "\n",
       "    .dataframe tbody tr th {\n",
       "        vertical-align: top;\n",
       "    }\n",
       "\n",
       "    .dataframe thead th {\n",
       "        text-align: right;\n",
       "    }\n",
       "</style>\n",
       "<table border=\"1\" class=\"dataframe\">\n",
       "  <thead>\n",
       "    <tr style=\"text-align: right;\">\n",
       "      <th></th>\n",
       "      <th>comment</th>\n",
       "      <th>sentiment_data</th>\n",
       "    </tr>\n",
       "  </thead>\n",
       "  <tbody>\n",
       "    <tr>\n",
       "      <th>120</th>\n",
       "      <td>เทียบ|iPhone 12|คับ</td>\n",
       "      <td>neu</td>\n",
       "    </tr>\n",
       "    <tr>\n",
       "      <th>121</th>\n",
       "      <td>iPhone 14|s|22|u|ตอนนี้|ราคา|ลงมา|29750|ตัว|ดี</td>\n",
       "      <td>pos</td>\n",
       "    </tr>\n",
       "    <tr>\n",
       "      <th>122</th>\n",
       "      <td>แวะ|ดู|iPhone 14|ซัก|เครื่อง|ดีกว่า|รีบ|เดิน|ก...</td>\n",
       "      <td>pos</td>\n",
       "    </tr>\n",
       "    <tr>\n",
       "      <th>123</th>\n",
       "      <td>ทางบ้าน|รีบ|กลับบ้าน|งาน|ด่วน|ซื้อ|ความโชคดี|พ...</td>\n",
       "      <td>neu</td>\n",
       "    </tr>\n",
       "    <tr>\n",
       "      <th>124</th>\n",
       "      <td>ผม|ซื้อ|iPhone 13|มินิ|มือ|แบตเตอรี่|โอเค|กล้อ...</td>\n",
       "      <td>pos</td>\n",
       "    </tr>\n",
       "    <tr>\n",
       "      <th>...</th>\n",
       "      <td>...</td>\n",
       "      <td>...</td>\n",
       "    </tr>\n",
       "    <tr>\n",
       "      <th>235</th>\n",
       "      <td>iPhone 14 Pro Max|มือ|2|ราคา</td>\n",
       "      <td>neu</td>\n",
       "    </tr>\n",
       "    <tr>\n",
       "      <th>236</th>\n",
       "      <td>iPhone 14|ดี|ไหม|iPhone 13|คุ้ม</td>\n",
       "      <td>pos</td>\n",
       "    </tr>\n",
       "    <tr>\n",
       "      <th>237</th>\n",
       "      <td>cpu|เก่า|หน้าจอ|iPhone 6|0|hz|ราคาแพง|กั๊ก|สเป...</td>\n",
       "      <td>neg</td>\n",
       "    </tr>\n",
       "    <tr>\n",
       "      <th>238</th>\n",
       "      <td>iPhone 14|ดี|iPhone 13|เหมือนกัน|สรุป|ผม|รอ|15...</td>\n",
       "      <td>pos</td>\n",
       "    </tr>\n",
       "    <tr>\n",
       "      <th>239</th>\n",
       "      <td>ลอง|s|iPhone X|ผม|ไม๊|ผลไม้|หนอน</td>\n",
       "      <td>neu</td>\n",
       "    </tr>\n",
       "  </tbody>\n",
       "</table>\n",
       "<p>120 rows × 2 columns</p>\n",
       "</div>"
      ],
      "text/plain": [
       "                                               comment sentiment_data\n",
       "120                                เทียบ|iPhone 12|คับ            neu\n",
       "121     iPhone 14|s|22|u|ตอนนี้|ราคา|ลงมา|29750|ตัว|ดี            pos\n",
       "122  แวะ|ดู|iPhone 14|ซัก|เครื่อง|ดีกว่า|รีบ|เดิน|ก...            pos\n",
       "123  ทางบ้าน|รีบ|กลับบ้าน|งาน|ด่วน|ซื้อ|ความโชคดี|พ...            neu\n",
       "124  ผม|ซื้อ|iPhone 13|มินิ|มือ|แบตเตอรี่|โอเค|กล้อ...            pos\n",
       "..                                                 ...            ...\n",
       "235                       iPhone 14 Pro Max|มือ|2|ราคา            neu\n",
       "236                    iPhone 14|ดี|ไหม|iPhone 13|คุ้ม            pos\n",
       "237  cpu|เก่า|หน้าจอ|iPhone 6|0|hz|ราคาแพง|กั๊ก|สเป...            neg\n",
       "238  iPhone 14|ดี|iPhone 13|เหมือนกัน|สรุป|ผม|รอ|15...            pos\n",
       "239                   ลอง|s|iPhone X|ผม|ไม๊|ผลไม้|หนอน            neu\n",
       "\n",
       "[120 rows x 2 columns]"
      ]
     },
     "execution_count": 81,
     "metadata": {},
     "output_type": "execute_result"
    }
   ],
   "source": [
    "results_df2 = analyze_sentiment_AIforthai(df[120:240], \"comment\")\n",
    "results_df2"
   ]
  },
  {
   "cell_type": "code",
   "execution_count": 84,
   "metadata": {},
   "outputs": [
    {
     "data": {
      "text/html": [
       "<div>\n",
       "<style scoped>\n",
       "    .dataframe tbody tr th:only-of-type {\n",
       "        vertical-align: middle;\n",
       "    }\n",
       "\n",
       "    .dataframe tbody tr th {\n",
       "        vertical-align: top;\n",
       "    }\n",
       "\n",
       "    .dataframe thead th {\n",
       "        text-align: right;\n",
       "    }\n",
       "</style>\n",
       "<table border=\"1\" class=\"dataframe\">\n",
       "  <thead>\n",
       "    <tr style=\"text-align: right;\">\n",
       "      <th></th>\n",
       "      <th>comment</th>\n",
       "      <th>sentiment_data</th>\n",
       "    </tr>\n",
       "  </thead>\n",
       "  <tbody>\n",
       "    <tr>\n",
       "      <th>240</th>\n",
       "      <td>ราคา|iPhone 13 Pro Max|ขึ่น|แน่</td>\n",
       "      <td>neu</td>\n",
       "    </tr>\n",
       "    <tr>\n",
       "      <th>241</th>\n",
       "      <td>เห็นด้วย|ข้อ|iPhone 13|ผม|พัง|5|หา|เครื่อง|iPh...</td>\n",
       "      <td>pos</td>\n",
       "    </tr>\n",
       "    <tr>\n",
       "      <th>242</th>\n",
       "      <td>ตอนนี้|iPhone 11|รอ|รุ่น|ใส่|พอร์ต|typec|พี่|ด...</td>\n",
       "      <td>pos</td>\n",
       "    </tr>\n",
       "    <tr>\n",
       "      <th>243</th>\n",
       "      <td>พี่|ทำ|คลิป|iPhone 13|rog|iPhone 6|เทียบ|เล่น|...</td>\n",
       "      <td>neu</td>\n",
       "    </tr>\n",
       "    <tr>\n",
       "      <th>244</th>\n",
       "      <td>มือถือ|ก|ทุกปี|สิ่งใหม่|ไอโฟน|iPhone 14 Pro|ดี...</td>\n",
       "      <td>pos</td>\n",
       "    </tr>\n",
       "    <tr>\n",
       "      <th>...</th>\n",
       "      <td>...</td>\n",
       "      <td>...</td>\n",
       "    </tr>\n",
       "    <tr>\n",
       "      <th>355</th>\n",
       "      <td>ก้|ซื้อ|iPhone 14|ดี|หวัง|iPhone 13</td>\n",
       "      <td>pos</td>\n",
       "    </tr>\n",
       "    <tr>\n",
       "      <th>356</th>\n",
       "      <td>รอ|ดู|iPhone 14 Plus</td>\n",
       "      <td>neu</td>\n",
       "    </tr>\n",
       "    <tr>\n",
       "      <th>357</th>\n",
       "      <td>ใจ|คนใช้|iPhone 13|รู้สึก|โล่งใจ|ตอนแรก|กลัว|i...</td>\n",
       "      <td>pos</td>\n",
       "    </tr>\n",
       "    <tr>\n",
       "      <th>358</th>\n",
       "      <td>ชอบ|ท้าย|คลิป|เนี๊ยะ|ผม|iPhone 13|ดู|จบ|อิมแพค|5</td>\n",
       "      <td>pos</td>\n",
       "    </tr>\n",
       "    <tr>\n",
       "      <th>359</th>\n",
       "      <td>เห็นด้วย|เหมือนกัน|ราคา|iPhone 6|0|hz|เหมือน|เ...</td>\n",
       "      <td>pos</td>\n",
       "    </tr>\n",
       "  </tbody>\n",
       "</table>\n",
       "<p>120 rows × 2 columns</p>\n",
       "</div>"
      ],
      "text/plain": [
       "                                               comment sentiment_data\n",
       "240                    ราคา|iPhone 13 Pro Max|ขึ่น|แน่            neu\n",
       "241  เห็นด้วย|ข้อ|iPhone 13|ผม|พัง|5|หา|เครื่อง|iPh...            pos\n",
       "242  ตอนนี้|iPhone 11|รอ|รุ่น|ใส่|พอร์ต|typec|พี่|ด...            pos\n",
       "243  พี่|ทำ|คลิป|iPhone 13|rog|iPhone 6|เทียบ|เล่น|...            neu\n",
       "244  มือถือ|ก|ทุกปี|สิ่งใหม่|ไอโฟน|iPhone 14 Pro|ดี...            pos\n",
       "..                                                 ...            ...\n",
       "355                ก้|ซื้อ|iPhone 14|ดี|หวัง|iPhone 13            pos\n",
       "356                               รอ|ดู|iPhone 14 Plus            neu\n",
       "357  ใจ|คนใช้|iPhone 13|รู้สึก|โล่งใจ|ตอนแรก|กลัว|i...            pos\n",
       "358   ชอบ|ท้าย|คลิป|เนี๊ยะ|ผม|iPhone 13|ดู|จบ|อิมแพค|5            pos\n",
       "359  เห็นด้วย|เหมือนกัน|ราคา|iPhone 6|0|hz|เหมือน|เ...            pos\n",
       "\n",
       "[120 rows x 2 columns]"
      ]
     },
     "execution_count": 84,
     "metadata": {},
     "output_type": "execute_result"
    }
   ],
   "source": [
    "results_df3 = analyze_sentiment_AIforthai(df[240:360], \"comment\")\n",
    "results_df3"
   ]
  },
  {
   "cell_type": "code",
   "execution_count": 85,
   "metadata": {},
   "outputs": [
    {
     "data": {
      "text/html": [
       "<div>\n",
       "<style scoped>\n",
       "    .dataframe tbody tr th:only-of-type {\n",
       "        vertical-align: middle;\n",
       "    }\n",
       "\n",
       "    .dataframe tbody tr th {\n",
       "        vertical-align: top;\n",
       "    }\n",
       "\n",
       "    .dataframe thead th {\n",
       "        text-align: right;\n",
       "    }\n",
       "</style>\n",
       "<table border=\"1\" class=\"dataframe\">\n",
       "  <thead>\n",
       "    <tr style=\"text-align: right;\">\n",
       "      <th></th>\n",
       "      <th>comment</th>\n",
       "      <th>sentiment_data</th>\n",
       "    </tr>\n",
       "  </thead>\n",
       "  <tbody>\n",
       "    <tr>\n",
       "      <th>360</th>\n",
       "      <td>ดี|รอ|iPhone 14 Pro|ถ่อย|iPhone 13 Pro|สี|เขีย...</td>\n",
       "      <td>pos</td>\n",
       "    </tr>\n",
       "    <tr>\n",
       "      <th>361</th>\n",
       "      <td>iPhone 13|บ่นว่า|iPhone 13|s|เจอ|iPhone 14|จุก...</td>\n",
       "      <td>pos</td>\n",
       "    </tr>\n",
       "    <tr>\n",
       "      <th>362</th>\n",
       "      <td>ราคา|ยืน|iPhone 7|iPhone 8|หมื่น|ทิม|คุก|คน|มี...</td>\n",
       "      <td>pos</td>\n",
       "    </tr>\n",
       "    <tr>\n",
       "      <th>363</th>\n",
       "      <td>หน้าจอ|ควรจะ|ขั้นต่ำ|90|fps|ต่อให้|เป็นตัว|ต่ำ</td>\n",
       "      <td>neg</td>\n",
       "    </tr>\n",
       "    <tr>\n",
       "      <th>364</th>\n",
       "      <td>รอ|พี่|ตั้ม|ทำ|iPhone 13 Mini|vsiphone|iPhone ...</td>\n",
       "      <td>neu</td>\n",
       "    </tr>\n",
       "    <tr>\n",
       "      <th>...</th>\n",
       "      <td>...</td>\n",
       "      <td>...</td>\n",
       "    </tr>\n",
       "    <tr>\n",
       "      <th>475</th>\n",
       "      <td>iPhone 14|ถ่าย|วิดีโอ|ซูม|ภาพ|แตก|แก้|หรอ|เพื่...</td>\n",
       "      <td>pos</td>\n",
       "    </tr>\n",
       "    <tr>\n",
       "      <th>476</th>\n",
       "      <td>จอ|ซัก|90|hz|โค|รต|ขายดี</td>\n",
       "      <td>pos</td>\n",
       "    </tr>\n",
       "    <tr>\n",
       "      <th>477</th>\n",
       "      <td>ซื้อ|iPhone 13|ชอบ|เลข|5|iPhone 14 Plus|ถ่ายรู...</td>\n",
       "      <td>pos</td>\n",
       "    </tr>\n",
       "    <tr>\n",
       "      <th>478</th>\n",
       "      <td>ซื้อ|iPhone 14 Plus|ใช้ได้|4|เลือก|สี|ขาว|ซื้อ...</td>\n",
       "      <td>pos</td>\n",
       "    </tr>\n",
       "    <tr>\n",
       "      <th>479</th>\n",
       "      <td>ดีมาก|คับ|เครื่อง|น้ำหนัก|เบา|กล้อง|สวย|จอ|iPh...</td>\n",
       "      <td>pos</td>\n",
       "    </tr>\n",
       "  </tbody>\n",
       "</table>\n",
       "<p>120 rows × 2 columns</p>\n",
       "</div>"
      ],
      "text/plain": [
       "                                               comment sentiment_data\n",
       "360  ดี|รอ|iPhone 14 Pro|ถ่อย|iPhone 13 Pro|สี|เขีย...            pos\n",
       "361  iPhone 13|บ่นว่า|iPhone 13|s|เจอ|iPhone 14|จุก...            pos\n",
       "362  ราคา|ยืน|iPhone 7|iPhone 8|หมื่น|ทิม|คุก|คน|มี...            pos\n",
       "363     หน้าจอ|ควรจะ|ขั้นต่ำ|90|fps|ต่อให้|เป็นตัว|ต่ำ            neg\n",
       "364  รอ|พี่|ตั้ม|ทำ|iPhone 13 Mini|vsiphone|iPhone ...            neu\n",
       "..                                                 ...            ...\n",
       "475  iPhone 14|ถ่าย|วิดีโอ|ซูม|ภาพ|แตก|แก้|หรอ|เพื่...            pos\n",
       "476                           จอ|ซัก|90|hz|โค|รต|ขายดี            pos\n",
       "477  ซื้อ|iPhone 13|ชอบ|เลข|5|iPhone 14 Plus|ถ่ายรู...            pos\n",
       "478  ซื้อ|iPhone 14 Plus|ใช้ได้|4|เลือก|สี|ขาว|ซื้อ...            pos\n",
       "479  ดีมาก|คับ|เครื่อง|น้ำหนัก|เบา|กล้อง|สวย|จอ|iPh...            pos\n",
       "\n",
       "[120 rows x 2 columns]"
      ]
     },
     "execution_count": 85,
     "metadata": {},
     "output_type": "execute_result"
    }
   ],
   "source": [
    "results_df4 = analyze_sentiment_AIforthai(df[360:480], \"comment\")\n",
    "results_df4"
   ]
  },
  {
   "cell_type": "code",
   "execution_count": 86,
   "metadata": {},
   "outputs": [
    {
     "data": {
      "text/html": [
       "<div>\n",
       "<style scoped>\n",
       "    .dataframe tbody tr th:only-of-type {\n",
       "        vertical-align: middle;\n",
       "    }\n",
       "\n",
       "    .dataframe tbody tr th {\n",
       "        vertical-align: top;\n",
       "    }\n",
       "\n",
       "    .dataframe thead th {\n",
       "        text-align: right;\n",
       "    }\n",
       "</style>\n",
       "<table border=\"1\" class=\"dataframe\">\n",
       "  <thead>\n",
       "    <tr style=\"text-align: right;\">\n",
       "      <th></th>\n",
       "      <th>comment</th>\n",
       "      <th>sentiment_data</th>\n",
       "    </tr>\n",
       "  </thead>\n",
       "  <tbody>\n",
       "    <tr>\n",
       "      <th>480</th>\n",
       "      <td>คหสต|iPhone 14|iPhone 14 Plus|ชิพ|ios|16|จอ|iP...</td>\n",
       "      <td>neu</td>\n",
       "    </tr>\n",
       "    <tr>\n",
       "      <th>481</th>\n",
       "      <td>เห้อ|iPhone 14|mini|ร้าย|ซื้อ|iPhone 13 Mini|ว...</td>\n",
       "      <td>neg</td>\n",
       "    </tr>\n",
       "    <tr>\n",
       "      <th>482</th>\n",
       "      <td>คน|นึง|ไอโฟน|iPhone 7|iPhone 14|รู้สึก|โอเค|ตั...</td>\n",
       "      <td>pos</td>\n",
       "    </tr>\n",
       "    <tr>\n",
       "      <th>483</th>\n",
       "      <td>คน|iPhone 14|เอาจริง|กลาง|พอกับ|ทุกปี|ที่ผ่านม...</td>\n",
       "      <td>pos</td>\n",
       "    </tr>\n",
       "    <tr>\n",
       "      <th>484</th>\n",
       "      <td>การตลาด|คน|ไอ|iPhone 8|iPhone 11|ซื้อ|ไอ|iPhon...</td>\n",
       "      <td>pos</td>\n",
       "    </tr>\n",
       "    <tr>\n",
       "      <th>...</th>\n",
       "      <td>...</td>\n",
       "      <td>...</td>\n",
       "    </tr>\n",
       "    <tr>\n",
       "      <th>593</th>\n",
       "      <td>bionic|16|น้า|ส|ซื้อ|iPhone 14|สัปดาห์|นึง</td>\n",
       "      <td>neu</td>\n",
       "    </tr>\n",
       "    <tr>\n",
       "      <th>594</th>\n",
       "      <td>โดยรวม|พอใจ|นะคะ|ชิน|จอ|เดิม|แอ|รด|รอย|ราคา|แพ...</td>\n",
       "      <td>neg</td>\n",
       "    </tr>\n",
       "    <tr>\n",
       "      <th>595</th>\n",
       "      <td>iPhone 12|iPhone 13|รุ่น|โปร|รอ|15|ความเปลี่ยน...</td>\n",
       "      <td>neu</td>\n",
       "    </tr>\n",
       "    <tr>\n",
       "      <th>596</th>\n",
       "      <td>iPhone 13 Pro|promax|ดีกว่า</td>\n",
       "      <td>pos</td>\n",
       "    </tr>\n",
       "    <tr>\n",
       "      <th>597</th>\n",
       "      <td>iPhone 14 Plus|ดี|น้ำหนัก|ไปหา|iPhone 13 Pro M...</td>\n",
       "      <td>pos</td>\n",
       "    </tr>\n",
       "  </tbody>\n",
       "</table>\n",
       "<p>118 rows × 2 columns</p>\n",
       "</div>"
      ],
      "text/plain": [
       "                                               comment sentiment_data\n",
       "480  คหสต|iPhone 14|iPhone 14 Plus|ชิพ|ios|16|จอ|iP...            neu\n",
       "481  เห้อ|iPhone 14|mini|ร้าย|ซื้อ|iPhone 13 Mini|ว...            neg\n",
       "482  คน|นึง|ไอโฟน|iPhone 7|iPhone 14|รู้สึก|โอเค|ตั...            pos\n",
       "483  คน|iPhone 14|เอาจริง|กลาง|พอกับ|ทุกปี|ที่ผ่านม...            pos\n",
       "484  การตลาด|คน|ไอ|iPhone 8|iPhone 11|ซื้อ|ไอ|iPhon...            pos\n",
       "..                                                 ...            ...\n",
       "593         bionic|16|น้า|ส|ซื้อ|iPhone 14|สัปดาห์|นึง            neu\n",
       "594  โดยรวม|พอใจ|นะคะ|ชิน|จอ|เดิม|แอ|รด|รอย|ราคา|แพ...            neg\n",
       "595  iPhone 12|iPhone 13|รุ่น|โปร|รอ|15|ความเปลี่ยน...            neu\n",
       "596                        iPhone 13 Pro|promax|ดีกว่า            pos\n",
       "597  iPhone 14 Plus|ดี|น้ำหนัก|ไปหา|iPhone 13 Pro M...            pos\n",
       "\n",
       "[118 rows x 2 columns]"
      ]
     },
     "execution_count": 86,
     "metadata": {},
     "output_type": "execute_result"
    }
   ],
   "source": [
    "results_df5 = analyze_sentiment_AIforthai(df[480:600], \"comment\")\n",
    "results_df5"
   ]
  },
  {
   "cell_type": "code",
   "execution_count": 52,
   "metadata": {},
   "outputs": [
    {
     "data": {
      "text/html": [
       "<div>\n",
       "<style scoped>\n",
       "    .dataframe tbody tr th:only-of-type {\n",
       "        vertical-align: middle;\n",
       "    }\n",
       "\n",
       "    .dataframe tbody tr th {\n",
       "        vertical-align: top;\n",
       "    }\n",
       "\n",
       "    .dataframe thead th {\n",
       "        text-align: right;\n",
       "    }\n",
       "</style>\n",
       "<table border=\"1\" class=\"dataframe\">\n",
       "  <thead>\n",
       "    <tr style=\"text-align: right;\">\n",
       "      <th></th>\n",
       "      <th>comment</th>\n",
       "      <th>sentiment_data</th>\n",
       "    </tr>\n",
       "  </thead>\n",
       "  <tbody>\n",
       "  </tbody>\n",
       "</table>\n",
       "</div>"
      ],
      "text/plain": [
       "Empty DataFrame\n",
       "Columns: [comment, sentiment_data]\n",
       "Index: []"
      ]
     },
     "execution_count": 52,
     "metadata": {},
     "output_type": "execute_result"
    }
   ],
   "source": [
    "results_df6 = analyze_sentiment_AIforthai(df[600:720], \"comment\")\n",
    "results_df6"
   ]
  },
  {
   "cell_type": "code",
   "execution_count": 20,
   "metadata": {},
   "outputs": [],
   "source": [
    "# results_df7 = analyze_sentiment_AIforthai(df[720:840], \"comment\")\n",
    "# results_df7"
   ]
  },
  {
   "cell_type": "code",
   "execution_count": 21,
   "metadata": {},
   "outputs": [],
   "source": [
    "# results_df8 = analyze_sentiment_AIforthai(df[840:960], \"comment\")\n",
    "# results_df8"
   ]
  },
  {
   "cell_type": "code",
   "execution_count": 22,
   "metadata": {},
   "outputs": [],
   "source": [
    "# results_df9 = analyze_sentiment_AIforthai(df[960:1080], \"comment\")\n",
    "# results_df9"
   ]
  },
  {
   "cell_type": "code",
   "execution_count": 87,
   "metadata": {},
   "outputs": [
    {
     "data": {
      "text/html": [
       "<div>\n",
       "<style scoped>\n",
       "    .dataframe tbody tr th:only-of-type {\n",
       "        vertical-align: middle;\n",
       "    }\n",
       "\n",
       "    .dataframe tbody tr th {\n",
       "        vertical-align: top;\n",
       "    }\n",
       "\n",
       "    .dataframe thead th {\n",
       "        text-align: right;\n",
       "    }\n",
       "</style>\n",
       "<table border=\"1\" class=\"dataframe\">\n",
       "  <thead>\n",
       "    <tr style=\"text-align: right;\">\n",
       "      <th></th>\n",
       "      <th>comment</th>\n",
       "      <th>sentiment_data</th>\n",
       "    </tr>\n",
       "  </thead>\n",
       "  <tbody>\n",
       "    <tr>\n",
       "      <th>0</th>\n",
       "      <td>ใส่|เคส|rhinoshield|เข้ากับ|ขอบ|ฟิล์ม|กระจก|เล...</td>\n",
       "      <td>neu</td>\n",
       "    </tr>\n",
       "    <tr>\n",
       "      <th>1</th>\n",
       "      <td>ไอโฟน|คำแนะนำ|iPhone 14|ตัว|ดี|ปกติ|ซัมซุง</td>\n",
       "      <td>pos</td>\n",
       "    </tr>\n",
       "    <tr>\n",
       "      <th>2</th>\n",
       "      <td>เลือก|เลือก|iPhone 13 Pro Max|iPhone 14|iPhone...</td>\n",
       "      <td>neu</td>\n",
       "    </tr>\n",
       "    <tr>\n",
       "      <th>3</th>\n",
       "      <td>ตัดสินใจ|อยู่เลย|เลือก|ตัว|ดี|iPhone 14 Plus|i...</td>\n",
       "      <td>pos</td>\n",
       "    </tr>\n",
       "    <tr>\n",
       "      <th>4</th>\n",
       "      <td>เลือก|iPhone 14 Pro|ตอนแรก|เกะกะ|ไหม|dynamicis...</td>\n",
       "      <td>neg</td>\n",
       "    </tr>\n",
       "    <tr>\n",
       "      <th>...</th>\n",
       "      <td>...</td>\n",
       "      <td>...</td>\n",
       "    </tr>\n",
       "    <tr>\n",
       "      <th>593</th>\n",
       "      <td>bionic|16|น้า|ส|ซื้อ|iPhone 14|สัปดาห์|นึง</td>\n",
       "      <td>neu</td>\n",
       "    </tr>\n",
       "    <tr>\n",
       "      <th>594</th>\n",
       "      <td>โดยรวม|พอใจ|นะคะ|ชิน|จอ|เดิม|แอ|รด|รอย|ราคา|แพ...</td>\n",
       "      <td>neg</td>\n",
       "    </tr>\n",
       "    <tr>\n",
       "      <th>595</th>\n",
       "      <td>iPhone 12|iPhone 13|รุ่น|โปร|รอ|15|ความเปลี่ยน...</td>\n",
       "      <td>neu</td>\n",
       "    </tr>\n",
       "    <tr>\n",
       "      <th>596</th>\n",
       "      <td>iPhone 13 Pro|promax|ดีกว่า</td>\n",
       "      <td>pos</td>\n",
       "    </tr>\n",
       "    <tr>\n",
       "      <th>597</th>\n",
       "      <td>iPhone 14 Plus|ดี|น้ำหนัก|ไปหา|iPhone 13 Pro M...</td>\n",
       "      <td>pos</td>\n",
       "    </tr>\n",
       "  </tbody>\n",
       "</table>\n",
       "<p>598 rows × 2 columns</p>\n",
       "</div>"
      ],
      "text/plain": [
       "                                               comment sentiment_data\n",
       "0    ใส่|เคส|rhinoshield|เข้ากับ|ขอบ|ฟิล์ม|กระจก|เล...            neu\n",
       "1           ไอโฟน|คำแนะนำ|iPhone 14|ตัว|ดี|ปกติ|ซัมซุง            pos\n",
       "2    เลือก|เลือก|iPhone 13 Pro Max|iPhone 14|iPhone...            neu\n",
       "3    ตัดสินใจ|อยู่เลย|เลือก|ตัว|ดี|iPhone 14 Plus|i...            pos\n",
       "4    เลือก|iPhone 14 Pro|ตอนแรก|เกะกะ|ไหม|dynamicis...            neg\n",
       "..                                                 ...            ...\n",
       "593         bionic|16|น้า|ส|ซื้อ|iPhone 14|สัปดาห์|นึง            neu\n",
       "594  โดยรวม|พอใจ|นะคะ|ชิน|จอ|เดิม|แอ|รด|รอย|ราคา|แพ...            neg\n",
       "595  iPhone 12|iPhone 13|รุ่น|โปร|รอ|15|ความเปลี่ยน...            neu\n",
       "596                        iPhone 13 Pro|promax|ดีกว่า            pos\n",
       "597  iPhone 14 Plus|ดี|น้ำหนัก|ไปหา|iPhone 13 Pro M...            pos\n",
       "\n",
       "[598 rows x 2 columns]"
      ]
     },
     "execution_count": 87,
     "metadata": {},
     "output_type": "execute_result"
    }
   ],
   "source": [
    "final_result = pd.concat([results_df,results_df2,results_df3,results_df4,results_df5,results_df6,results_df7,results_df8,results_df9])\n",
    "final_result.to_csv(\"final_data.csv\")\n",
    "final_result"
   ]
  },
  {
   "cell_type": "code",
   "execution_count": 88,
   "metadata": {},
   "outputs": [
    {
     "data": {
      "text/plain": [
       "pos    293\n",
       "neu    226\n",
       "neg     79\n",
       "Name: sentiment_data, dtype: int64"
      ]
     },
     "execution_count": 88,
     "metadata": {},
     "output_type": "execute_result"
    }
   ],
   "source": [
    "final_result['sentiment_data'].value_counts()"
   ]
  },
  {
   "attachments": {},
   "cell_type": "markdown",
   "metadata": {},
   "source": [
    "สร้าง Visualization ของ WordCloud เพื่อดูความถี่ของข้อมูล"
   ]
  },
  {
   "cell_type": "code",
   "execution_count": 25,
   "metadata": {},
   "outputs": [],
   "source": [
    "# from wordcloud import WordCloud\n",
    "\n",
    "# # df_pos = df[df['sentiment'] == 'pos']\n",
    "# pos_word_all = \"|\".join(text for text in df['comment'])\n",
    "# # pos_word_all\n",
    "# reg = r\"[ก-๙a-zA-Z0-9']+\"\n",
    "# fp = 'THSarabunNew.ttf'\n",
    "# wordcloud = WordCloud(stopwords=thai_stopwords,background_color = 'white', max_words=500, height = 500, width=1000, font_path=fp, regexp=reg).generate(pos_word_all)\n",
    "# plt.figure(figsize = (16,8))\n",
    "# plt.imshow(wordcloud)\n",
    "# plt.axis('off')\n",
    "# plt.show()"
   ]
  },
  {
   "attachments": {},
   "cell_type": "markdown",
   "metadata": {},
   "source": [
    "ตัวอย่างที่ทดลองจากไฟล์ data.csv ขึ้นละอันกับข้างบน"
   ]
  },
  {
   "cell_type": "code",
   "execution_count": 3,
   "metadata": {},
   "outputs": [
    {
     "data": {
      "text/plain": [
       "pos    88\n",
       "neu    68\n",
       "neg    24\n",
       "Name: sentiment_data, dtype: int64"
      ]
     },
     "execution_count": 3,
     "metadata": {},
     "output_type": "execute_result"
    }
   ],
   "source": [
    "from sklearn.model_selection import train_test_split\n",
    "data = pd.read_csv(\"final_data.csv\",index_col=0)\n",
    "data = data.dropna()\n",
    "\n",
    "X = data['comment']\n",
    "y = data['sentiment_data']\n",
    "\n",
    "\n",
    "X_train, X_test, y_train, y_test = train_test_split(X, y, test_size=0.3, random_state=101,stratify=y)\n",
    "y_test.value_counts()\n",
    "# train, test = train_test_split(df['comment'], train_size=0.7, random_state=7)"
   ]
  },
  {
   "cell_type": "code",
   "execution_count": 4,
   "metadata": {},
   "outputs": [],
   "source": [
    "from sklearn.feature_extraction.text import CountVectorizer\n",
    "\n",
    "cvec = CountVectorizer(analyzer=lambda x:x.split('|'))\n",
    "X_train = cvec.fit_transform(X_train)\n",
    "X_test = cvec.transform(X_test)\n",
    "\n",
    "# cvec.fit_transform(X_train)\n",
    "# cvec.vocabulary_"
   ]
  },
  {
   "cell_type": "code",
   "execution_count": null,
   "metadata": {},
   "outputs": [],
   "source": [
    "# train_bow = cvec.transform(X_train)\n",
    "# pd.DataFrame(train_bow.toarray(), columns=cvec.get_feature_names_out(),index=X_train)"
   ]
  },
  {
   "cell_type": "code",
   "execution_count": 5,
   "metadata": {},
   "outputs": [
    {
     "data": {
      "text/html": [
       "<style>#sk-container-id-1 {color: black;background-color: white;}#sk-container-id-1 pre{padding: 0;}#sk-container-id-1 div.sk-toggleable {background-color: white;}#sk-container-id-1 label.sk-toggleable__label {cursor: pointer;display: block;width: 100%;margin-bottom: 0;padding: 0.3em;box-sizing: border-box;text-align: center;}#sk-container-id-1 label.sk-toggleable__label-arrow:before {content: \"▸\";float: left;margin-right: 0.25em;color: #696969;}#sk-container-id-1 label.sk-toggleable__label-arrow:hover:before {color: black;}#sk-container-id-1 div.sk-estimator:hover label.sk-toggleable__label-arrow:before {color: black;}#sk-container-id-1 div.sk-toggleable__content {max-height: 0;max-width: 0;overflow: hidden;text-align: left;background-color: #f0f8ff;}#sk-container-id-1 div.sk-toggleable__content pre {margin: 0.2em;color: black;border-radius: 0.25em;background-color: #f0f8ff;}#sk-container-id-1 input.sk-toggleable__control:checked~div.sk-toggleable__content {max-height: 200px;max-width: 100%;overflow: auto;}#sk-container-id-1 input.sk-toggleable__control:checked~label.sk-toggleable__label-arrow:before {content: \"▾\";}#sk-container-id-1 div.sk-estimator input.sk-toggleable__control:checked~label.sk-toggleable__label {background-color: #d4ebff;}#sk-container-id-1 div.sk-label input.sk-toggleable__control:checked~label.sk-toggleable__label {background-color: #d4ebff;}#sk-container-id-1 input.sk-hidden--visually {border: 0;clip: rect(1px 1px 1px 1px);clip: rect(1px, 1px, 1px, 1px);height: 1px;margin: -1px;overflow: hidden;padding: 0;position: absolute;width: 1px;}#sk-container-id-1 div.sk-estimator {font-family: monospace;background-color: #f0f8ff;border: 1px dotted black;border-radius: 0.25em;box-sizing: border-box;margin-bottom: 0.5em;}#sk-container-id-1 div.sk-estimator:hover {background-color: #d4ebff;}#sk-container-id-1 div.sk-parallel-item::after {content: \"\";width: 100%;border-bottom: 1px solid gray;flex-grow: 1;}#sk-container-id-1 div.sk-label:hover label.sk-toggleable__label {background-color: #d4ebff;}#sk-container-id-1 div.sk-serial::before {content: \"\";position: absolute;border-left: 1px solid gray;box-sizing: border-box;top: 0;bottom: 0;left: 50%;z-index: 0;}#sk-container-id-1 div.sk-serial {display: flex;flex-direction: column;align-items: center;background-color: white;padding-right: 0.2em;padding-left: 0.2em;position: relative;}#sk-container-id-1 div.sk-item {position: relative;z-index: 1;}#sk-container-id-1 div.sk-parallel {display: flex;align-items: stretch;justify-content: center;background-color: white;position: relative;}#sk-container-id-1 div.sk-item::before, #sk-container-id-1 div.sk-parallel-item::before {content: \"\";position: absolute;border-left: 1px solid gray;box-sizing: border-box;top: 0;bottom: 0;left: 50%;z-index: -1;}#sk-container-id-1 div.sk-parallel-item {display: flex;flex-direction: column;z-index: 1;position: relative;background-color: white;}#sk-container-id-1 div.sk-parallel-item:first-child::after {align-self: flex-end;width: 50%;}#sk-container-id-1 div.sk-parallel-item:last-child::after {align-self: flex-start;width: 50%;}#sk-container-id-1 div.sk-parallel-item:only-child::after {width: 0;}#sk-container-id-1 div.sk-dashed-wrapped {border: 1px dashed gray;margin: 0 0.4em 0.5em 0.4em;box-sizing: border-box;padding-bottom: 0.4em;background-color: white;}#sk-container-id-1 div.sk-label label {font-family: monospace;font-weight: bold;display: inline-block;line-height: 1.2em;}#sk-container-id-1 div.sk-label-container {text-align: center;}#sk-container-id-1 div.sk-container {/* jupyter's `normalize.less` sets `[hidden] { display: none; }` but bootstrap.min.css set `[hidden] { display: none !important; }` so we also need the `!important` here to be able to override the default hidden behavior on the sphinx rendered scikit-learn.org. See: https://github.com/scikit-learn/scikit-learn/issues/21755 */display: inline-block !important;position: relative;}#sk-container-id-1 div.sk-text-repr-fallback {display: none;}</style><div id=\"sk-container-id-1\" class=\"sk-top-container\"><div class=\"sk-text-repr-fallback\"><pre>LogisticRegression()</pre><b>In a Jupyter environment, please rerun this cell to show the HTML representation or trust the notebook. <br />On GitHub, the HTML representation is unable to render, please try loading this page with nbviewer.org.</b></div><div class=\"sk-container\" hidden><div class=\"sk-item\"><div class=\"sk-estimator sk-toggleable\"><input class=\"sk-toggleable__control sk-hidden--visually\" id=\"sk-estimator-id-1\" type=\"checkbox\" checked><label for=\"sk-estimator-id-1\" class=\"sk-toggleable__label sk-toggleable__label-arrow\">LogisticRegression</label><div class=\"sk-toggleable__content\"><pre>LogisticRegression()</pre></div></div></div></div></div>"
      ],
      "text/plain": [
       "LogisticRegression()"
      ]
     },
     "execution_count": 5,
     "metadata": {},
     "output_type": "execute_result"
    }
   ],
   "source": [
    "model1 = LogisticRegression()\n",
    "model1.fit(X_train, y_train)\n",
    "\n",
    "# model1 = LogisticRegression()\n",
    "# model1.fit(train_bow, y_train)"
   ]
  },
  {
   "cell_type": "code",
   "execution_count": 17,
   "metadata": {},
   "outputs": [
    {
     "name": "stdout",
     "output_type": "stream",
     "text": [
      "Accuracy score: 0.7056\n",
      "------------------------------------------------------------\n",
      "              precision    recall  f1-score   support\n",
      "\n",
      "         neg       0.04      0.11      0.06         9\n",
      "         neu       0.84      0.65      0.73        88\n",
      "         pos       0.78      0.83      0.81        83\n",
      "\n",
      "    accuracy                           0.71       180\n",
      "   macro avg       0.55      0.53      0.53       180\n",
      "weighted avg       0.77      0.71      0.73       180\n",
      "\n"
     ]
    },
    {
     "data": {
      "image/png": "[encoded data removed]",
      "text/plain": [
       "<Figure size 500x500 with 2 Axes>"
      ]
     },
     "metadata": {},
     "output_type": "display_data"
    }
   ],
   "source": [
    "# test_bow = cvec.transform(X_test)\n",
    "prediction1 = model1.predict(X_test)\n",
    "showConfisionMatrix(y_test, prediction1)\n",
    "print(\"--\"*30)\n",
    "print(classification_report(prediction1,y_test))"
   ]
  },
  {
   "cell_type": "code",
   "execution_count": 18,
   "metadata": {},
   "outputs": [
    {
     "data": {
      "text/html": [
       "<style>#sk-container-id-2 {color: black;background-color: white;}#sk-container-id-2 pre{padding: 0;}#sk-container-id-2 div.sk-toggleable {background-color: white;}#sk-container-id-2 label.sk-toggleable__label {cursor: pointer;display: block;width: 100%;margin-bottom: 0;padding: 0.3em;box-sizing: border-box;text-align: center;}#sk-container-id-2 label.sk-toggleable__label-arrow:before {content: \"▸\";float: left;margin-right: 0.25em;color: #696969;}#sk-container-id-2 label.sk-toggleable__label-arrow:hover:before {color: black;}#sk-container-id-2 div.sk-estimator:hover label.sk-toggleable__label-arrow:before {color: black;}#sk-container-id-2 div.sk-toggleable__content {max-height: 0;max-width: 0;overflow: hidden;text-align: left;background-color: #f0f8ff;}#sk-container-id-2 div.sk-toggleable__content pre {margin: 0.2em;color: black;border-radius: 0.25em;background-color: #f0f8ff;}#sk-container-id-2 input.sk-toggleable__control:checked~div.sk-toggleable__content {max-height: 200px;max-width: 100%;overflow: auto;}#sk-container-id-2 input.sk-toggleable__control:checked~label.sk-toggleable__label-arrow:before {content: \"▾\";}#sk-container-id-2 div.sk-estimator input.sk-toggleable__control:checked~label.sk-toggleable__label {background-color: #d4ebff;}#sk-container-id-2 div.sk-label input.sk-toggleable__control:checked~label.sk-toggleable__label {background-color: #d4ebff;}#sk-container-id-2 input.sk-hidden--visually {border: 0;clip: rect(1px 1px 1px 1px);clip: rect(1px, 1px, 1px, 1px);height: 1px;margin: -1px;overflow: hidden;padding: 0;position: absolute;width: 1px;}#sk-container-id-2 div.sk-estimator {font-family: monospace;background-color: #f0f8ff;border: 1px dotted black;border-radius: 0.25em;box-sizing: border-box;margin-bottom: 0.5em;}#sk-container-id-2 div.sk-estimator:hover {background-color: #d4ebff;}#sk-container-id-2 div.sk-parallel-item::after {content: \"\";width: 100%;border-bottom: 1px solid gray;flex-grow: 1;}#sk-container-id-2 div.sk-label:hover label.sk-toggleable__label {background-color: #d4ebff;}#sk-container-id-2 div.sk-serial::before {content: \"\";position: absolute;border-left: 1px solid gray;box-sizing: border-box;top: 0;bottom: 0;left: 50%;z-index: 0;}#sk-container-id-2 div.sk-serial {display: flex;flex-direction: column;align-items: center;background-color: white;padding-right: 0.2em;padding-left: 0.2em;position: relative;}#sk-container-id-2 div.sk-item {position: relative;z-index: 1;}#sk-container-id-2 div.sk-parallel {display: flex;align-items: stretch;justify-content: center;background-color: white;position: relative;}#sk-container-id-2 div.sk-item::before, #sk-container-id-2 div.sk-parallel-item::before {content: \"\";position: absolute;border-left: 1px solid gray;box-sizing: border-box;top: 0;bottom: 0;left: 50%;z-index: -1;}#sk-container-id-2 div.sk-parallel-item {display: flex;flex-direction: column;z-index: 1;position: relative;background-color: white;}#sk-container-id-2 div.sk-parallel-item:first-child::after {align-self: flex-end;width: 50%;}#sk-container-id-2 div.sk-parallel-item:last-child::after {align-self: flex-start;width: 50%;}#sk-container-id-2 div.sk-parallel-item:only-child::after {width: 0;}#sk-container-id-2 div.sk-dashed-wrapped {border: 1px dashed gray;margin: 0 0.4em 0.5em 0.4em;box-sizing: border-box;padding-bottom: 0.4em;background-color: white;}#sk-container-id-2 div.sk-label label {font-family: monospace;font-weight: bold;display: inline-block;line-height: 1.2em;}#sk-container-id-2 div.sk-label-container {text-align: center;}#sk-container-id-2 div.sk-container {/* jupyter's `normalize.less` sets `[hidden] { display: none; }` but bootstrap.min.css set `[hidden] { display: none !important; }` so we also need the `!important` here to be able to override the default hidden behavior on the sphinx rendered scikit-learn.org. See: https://github.com/scikit-learn/scikit-learn/issues/21755 */display: inline-block !important;position: relative;}#sk-container-id-2 div.sk-text-repr-fallback {display: none;}</style><div id=\"sk-container-id-2\" class=\"sk-top-container\"><div class=\"sk-text-repr-fallback\"><pre>SVC()</pre><b>In a Jupyter environment, please rerun this cell to show the HTML representation or trust the notebook. <br />On GitHub, the HTML representation is unable to render, please try loading this page with nbviewer.org.</b></div><div class=\"sk-container\" hidden><div class=\"sk-item\"><div class=\"sk-estimator sk-toggleable\"><input class=\"sk-toggleable__control sk-hidden--visually\" id=\"sk-estimator-id-2\" type=\"checkbox\" checked><label for=\"sk-estimator-id-2\" class=\"sk-toggleable__label sk-toggleable__label-arrow\">SVC</label><div class=\"sk-toggleable__content\"><pre>SVC()</pre></div></div></div></div></div>"
      ],
      "text/plain": [
       "SVC()"
      ]
     },
     "execution_count": 18,
     "metadata": {},
     "output_type": "execute_result"
    }
   ],
   "source": [
    "model2 = svm.SVC()\n",
    "model2.fit(X_train, y_train)"
   ]
  },
  {
   "cell_type": "code",
   "execution_count": 19,
   "metadata": {},
   "outputs": [
    {
     "name": "stdout",
     "output_type": "stream",
     "text": [
      "Accuracy score: 0.6722\n",
      "------------------------------------------------------------\n",
      "              precision    recall  f1-score   support\n",
      "\n",
      "         neg       0.00      0.00      0.00         0\n",
      "         neu       0.82      0.60      0.69        94\n",
      "         pos       0.74      0.76      0.75        86\n",
      "\n",
      "    accuracy                           0.67       180\n",
      "   macro avg       0.52      0.45      0.48       180\n",
      "weighted avg       0.78      0.67      0.72       180\n",
      "\n"
     ]
    },
    {
     "name": "stderr",
     "output_type": "stream",
     "text": [
      "c:\\Python310\\lib\\site-packages\\sklearn\\metrics\\_classification.py:1344: UndefinedMetricWarning: Recall and F-score are ill-defined and being set to 0.0 in labels with no true samples. Use `zero_division` parameter to control this behavior.\n",
      "  _warn_prf(average, modifier, msg_start, len(result))\n",
      "c:\\Python310\\lib\\site-packages\\sklearn\\metrics\\_classification.py:1344: UndefinedMetricWarning: Recall and F-score are ill-defined and being set to 0.0 in labels with no true samples. Use `zero_division` parameter to control this behavior.\n",
      "  _warn_prf(average, modifier, msg_start, len(result))\n",
      "c:\\Python310\\lib\\site-packages\\sklearn\\metrics\\_classification.py:1344: UndefinedMetricWarning: Recall and F-score are ill-defined and being set to 0.0 in labels with no true samples. Use `zero_division` parameter to control this behavior.\n",
      "  _warn_prf(average, modifier, msg_start, len(result))\n"
     ]
    },
    {
     "data": {
      "image/png": "[encoded data removed]",
      "text/plain": [
       "<Figure size 500x500 with 2 Axes>"
      ]
     },
     "metadata": {},
     "output_type": "display_data"
    }
   ],
   "source": [
    "prediction2 = model2.predict(X_test)\n",
    "showConfisionMatrix(y_test, prediction2)\n",
    "print(\"--\"*30)\n",
    "print(classification_report(prediction2,y_test))"
   ]
  },
  {
   "cell_type": "code",
   "execution_count": 20,
   "metadata": {},
   "outputs": [
    {
     "data": {
      "text/html": [
       "<style>#sk-container-id-3 {color: black;background-color: white;}#sk-container-id-3 pre{padding: 0;}#sk-container-id-3 div.sk-toggleable {background-color: white;}#sk-container-id-3 label.sk-toggleable__label {cursor: pointer;display: block;width: 100%;margin-bottom: 0;padding: 0.3em;box-sizing: border-box;text-align: center;}#sk-container-id-3 label.sk-toggleable__label-arrow:before {content: \"▸\";float: left;margin-right: 0.25em;color: #696969;}#sk-container-id-3 label.sk-toggleable__label-arrow:hover:before {color: black;}#sk-container-id-3 div.sk-estimator:hover label.sk-toggleable__label-arrow:before {color: black;}#sk-container-id-3 div.sk-toggleable__content {max-height: 0;max-width: 0;overflow: hidden;text-align: left;background-color: #f0f8ff;}#sk-container-id-3 div.sk-toggleable__content pre {margin: 0.2em;color: black;border-radius: 0.25em;background-color: #f0f8ff;}#sk-container-id-3 input.sk-toggleable__control:checked~div.sk-toggleable__content {max-height: 200px;max-width: 100%;overflow: auto;}#sk-container-id-3 input.sk-toggleable__control:checked~label.sk-toggleable__label-arrow:before {content: \"▾\";}#sk-container-id-3 div.sk-estimator input.sk-toggleable__control:checked~label.sk-toggleable__label {background-color: #d4ebff;}#sk-container-id-3 div.sk-label input.sk-toggleable__control:checked~label.sk-toggleable__label {background-color: #d4ebff;}#sk-container-id-3 input.sk-hidden--visually {border: 0;clip: rect(1px 1px 1px 1px);clip: rect(1px, 1px, 1px, 1px);height: 1px;margin: -1px;overflow: hidden;padding: 0;position: absolute;width: 1px;}#sk-container-id-3 div.sk-estimator {font-family: monospace;background-color: #f0f8ff;border: 1px dotted black;border-radius: 0.25em;box-sizing: border-box;margin-bottom: 0.5em;}#sk-container-id-3 div.sk-estimator:hover {background-color: #d4ebff;}#sk-container-id-3 div.sk-parallel-item::after {content: \"\";width: 100%;border-bottom: 1px solid gray;flex-grow: 1;}#sk-container-id-3 div.sk-label:hover label.sk-toggleable__label {background-color: #d4ebff;}#sk-container-id-3 div.sk-serial::before {content: \"\";position: absolute;border-left: 1px solid gray;box-sizing: border-box;top: 0;bottom: 0;left: 50%;z-index: 0;}#sk-container-id-3 div.sk-serial {display: flex;flex-direction: column;align-items: center;background-color: white;padding-right: 0.2em;padding-left: 0.2em;position: relative;}#sk-container-id-3 div.sk-item {position: relative;z-index: 1;}#sk-container-id-3 div.sk-parallel {display: flex;align-items: stretch;justify-content: center;background-color: white;position: relative;}#sk-container-id-3 div.sk-item::before, #sk-container-id-3 div.sk-parallel-item::before {content: \"\";position: absolute;border-left: 1px solid gray;box-sizing: border-box;top: 0;bottom: 0;left: 50%;z-index: -1;}#sk-container-id-3 div.sk-parallel-item {display: flex;flex-direction: column;z-index: 1;position: relative;background-color: white;}#sk-container-id-3 div.sk-parallel-item:first-child::after {align-self: flex-end;width: 50%;}#sk-container-id-3 div.sk-parallel-item:last-child::after {align-self: flex-start;width: 50%;}#sk-container-id-3 div.sk-parallel-item:only-child::after {width: 0;}#sk-container-id-3 div.sk-dashed-wrapped {border: 1px dashed gray;margin: 0 0.4em 0.5em 0.4em;box-sizing: border-box;padding-bottom: 0.4em;background-color: white;}#sk-container-id-3 div.sk-label label {font-family: monospace;font-weight: bold;display: inline-block;line-height: 1.2em;}#sk-container-id-3 div.sk-label-container {text-align: center;}#sk-container-id-3 div.sk-container {/* jupyter's `normalize.less` sets `[hidden] { display: none; }` but bootstrap.min.css set `[hidden] { display: none !important; }` so we also need the `!important` here to be able to override the default hidden behavior on the sphinx rendered scikit-learn.org. See: https://github.com/scikit-learn/scikit-learn/issues/21755 */display: inline-block !important;position: relative;}#sk-container-id-3 div.sk-text-repr-fallback {display: none;}</style><div id=\"sk-container-id-3\" class=\"sk-top-container\"><div class=\"sk-text-repr-fallback\"><pre>MultinomialNB()</pre><b>In a Jupyter environment, please rerun this cell to show the HTML representation or trust the notebook. <br />On GitHub, the HTML representation is unable to render, please try loading this page with nbviewer.org.</b></div><div class=\"sk-container\" hidden><div class=\"sk-item\"><div class=\"sk-estimator sk-toggleable\"><input class=\"sk-toggleable__control sk-hidden--visually\" id=\"sk-estimator-id-3\" type=\"checkbox\" checked><label for=\"sk-estimator-id-3\" class=\"sk-toggleable__label sk-toggleable__label-arrow\">MultinomialNB</label><div class=\"sk-toggleable__content\"><pre>MultinomialNB()</pre></div></div></div></div></div>"
      ],
      "text/plain": [
       "MultinomialNB()"
      ]
     },
     "execution_count": 20,
     "metadata": {},
     "output_type": "execute_result"
    }
   ],
   "source": [
    "model3 = MultinomialNB()\n",
    "model3.fit(X_train, y_train)"
   ]
  },
  {
   "cell_type": "code",
   "execution_count": 23,
   "metadata": {},
   "outputs": [
    {
     "name": "stdout",
     "output_type": "stream",
     "text": [
      "Accuracy score: 0.5889\n",
      "------------------------------------------------------------\n",
      "              precision    recall  f1-score   support\n",
      "\n",
      "         neg       0.00      0.00      0.00         0\n",
      "         neu       0.82      0.60      0.69        94\n",
      "         pos       0.74      0.76      0.75        86\n",
      "\n",
      "    accuracy                           0.67       180\n",
      "   macro avg       0.52      0.45      0.48       180\n",
      "weighted avg       0.78      0.67      0.72       180\n",
      "\n"
     ]
    },
    {
     "name": "stderr",
     "output_type": "stream",
     "text": [
      "c:\\Python310\\lib\\site-packages\\sklearn\\metrics\\_classification.py:1344: UndefinedMetricWarning: Recall and F-score are ill-defined and being set to 0.0 in labels with no true samples. Use `zero_division` parameter to control this behavior.\n",
      "  _warn_prf(average, modifier, msg_start, len(result))\n",
      "c:\\Python310\\lib\\site-packages\\sklearn\\metrics\\_classification.py:1344: UndefinedMetricWarning: Recall and F-score are ill-defined and being set to 0.0 in labels with no true samples. Use `zero_division` parameter to control this behavior.\n",
      "  _warn_prf(average, modifier, msg_start, len(result))\n",
      "c:\\Python310\\lib\\site-packages\\sklearn\\metrics\\_classification.py:1344: UndefinedMetricWarning: Recall and F-score are ill-defined and being set to 0.0 in labels with no true samples. Use `zero_division` parameter to control this behavior.\n",
      "  _warn_prf(average, modifier, msg_start, len(result))\n"
     ]
    },
    {
     "data": {
      "image/png": "[encoded data removed]",
      "text/plain": [
       "<Figure size 500x500 with 2 Axes>"
      ]
     },
     "metadata": {},
     "output_type": "display_data"
    }
   ],
   "source": [
    "prediction3 = model3.predict(X_test)\n",
    "showConfisionMatrix(y_test, prediction3)\n",
    "print(\"--\"*30)\n",
    "print(classification_report(prediction2,y_test))"
   ]
  }
 ],
 "metadata": {
  "kernelspec": {
   "display_name": "Python 3",
   "language": "python",
   "name": "python3"
  },
  "language_info": {
   "codemirror_mode": {
    "name": "ipython",
    "version": 3
   },
   "file_extension": ".py",
   "mimetype": "text/x-python",
   "name": "python",
   "nbconvert_exporter": "python",
   "pygments_lexer": "ipython3",
   "version": "3.10.5"
  },
  "orig_nbformat": 4,
  "vscode": {
   "interpreter": {
    "hash": "369f2c481f4da34e4445cda3fffd2e751bd1c4d706f27375911949ba6bb62e1c"
   }
  }
 },
 "nbformat": 4,
 "nbformat_minor": 2
}
