{
 "cells": [
  {
   "cell_type": "markdown",
   "metadata": {},
   "source": [
    "Sentiment Analysis Smartphone"
   ]
  },
  {
   "cell_type": "markdown",
   "metadata": {},
   "source": [
    "ติดตั้ง Library Pythai NLP\n",
    "\n",
    "\n",
    "\n",
    "\n"
   ]
  },
  {
   "cell_type": "code",
   "execution_count": 10,
   "metadata": {},
   "outputs": [
    {
     "name": "stdout",
     "output_type": "stream",
     "text": [
      "Requirement already satisfied: pythainlp in c:\\python310\\lib\\site-packages (3.1.1)\n",
      "Requirement already satisfied: requests>=2.22.0 in c:\\python310\\lib\\site-packages (from pythainlp) (2.28.1)\n",
      "Requirement already satisfied: charset-normalizer<3,>=2 in c:\\python310\\lib\\site-packages (from requests>=2.22.0->pythainlp) (2.1.0)\n",
      "Requirement already satisfied: idna<4,>=2.5 in c:\\users\\lenovo\\appdata\\roaming\\python\\python310\\site-packages (from requests>=2.22.0->pythainlp) (3.3)\n",
      "Requirement already satisfied: certifi>=2017.4.17 in c:\\users\\lenovo\\appdata\\roaming\\python\\python310\\site-packages (from requests>=2.22.0->pythainlp) (2022.6.15)\n",
      "Requirement already satisfied: urllib3<1.27,>=1.21.1 in c:\\users\\lenovo\\appdata\\roaming\\python\\python310\\site-packages (from requests>=2.22.0->pythainlp) (1.26.10)\n"
     ]
    },
    {
     "name": "stderr",
     "output_type": "stream",
     "text": [
      "\n",
      "[notice] A new release of pip available: 22.2.2 -> 23.0.1\n",
      "[notice] To update, run: python.exe -m pip install --upgrade pip\n"
     ]
    }
   ],
   "source": [
    "!pip install pythainlp"
   ]
  },
  {
   "cell_type": "markdown",
   "metadata": {},
   "source": [
    "Import Library ที่จะใช้"
   ]
  },
  {
   "cell_type": "code",
   "execution_count": 1,
   "metadata": {},
   "outputs": [],
   "source": [
    "import pandas as pd\n",
    "import matplotlib.pyplot as plt\n",
    "import seaborn as sns\n",
    "import numpy as np\n",
    "import re\n",
    "import json\n",
    "import requests\n",
    "from pythainlp import word_tokenize\n",
    "from pythainlp.util import normalize\n",
    "from pythainlp.tag import pos_tag\n",
    "from pythainlp.util import Trie\n",
    "\n",
    "from pythainlp.corpus.common import thai_stopwords\n",
    "from pythainlp.corpus.common import thai_words\n",
    "from sklearn.model_selection import train_test_split\n",
    "from sklearn.feature_extraction.text import CountVectorizer\n",
    "from sklearn.linear_model import LogisticRegression\n",
    "from sklearn import svm\n",
    "from sklearn.naive_bayes import MultinomialNB\n",
    "from sklearn.metrics import classification_report\n",
    "from sklearn.metrics import accuracy_score, confusion_matrix, ConfusionMatrixDisplay\n",
    "thai_stopwords = list(thai_stopwords())"
   ]
  },
  {
   "cell_type": "markdown",
   "metadata": {},
   "source": [
    "Load Files Model ของ iPhone ที่เป็นไฟล์ JSON\n"
   ]
  },
  {
   "cell_type": "code",
   "execution_count": 2,
   "metadata": {},
   "outputs": [],
   "source": [
    "with open('model_iphone.json', 'r', encoding=\"utf-8\") as file:\n",
    "    model_ip = json.load(file)"
   ]
  },
  {
   "cell_type": "markdown",
   "metadata": {},
   "source": [
    "เก็บชื่อ Model ของ iPhone ไว้ใน List"
   ]
  },
  {
   "cell_type": "code",
   "execution_count": 3,
   "metadata": {},
   "outputs": [],
   "source": [
    "model_word = []\n",
    "for i in model_ip:\n",
    "    model_word.append(i)\n",
    "    for j in model_ip[i]:\n",
    "        model_word.append(j)\n",
    "\n",
    "model = {i for i in model_word}"
   ]
  },
  {
   "cell_type": "markdown",
   "metadata": {},
   "source": [
    "# Load Data To Dataframe"
   ]
  },
  {
   "cell_type": "code",
   "execution_count": 4,
   "metadata": {},
   "outputs": [
    {
     "name": "stdout",
     "output_type": "stream",
     "text": [
      "Comment Data 2,331 rows\n"
     ]
    },
    {
     "data": {
      "text/html": [
       "<div>\n",
       "<style scoped>\n",
       "    .dataframe tbody tr th:only-of-type {\n",
       "        vertical-align: middle;\n",
       "    }\n",
       "\n",
       "    .dataframe tbody tr th {\n",
       "        vertical-align: top;\n",
       "    }\n",
       "\n",
       "    .dataframe thead th {\n",
       "        text-align: right;\n",
       "    }\n",
       "</style>\n",
       "<table border=\"1\" class=\"dataframe\">\n",
       "  <thead>\n",
       "    <tr style=\"text-align: right;\">\n",
       "      <th></th>\n",
       "      <th>comment</th>\n",
       "    </tr>\n",
       "  </thead>\n",
       "  <tbody>\n",
       "    <tr>\n",
       "      <th>0</th>\n",
       "      <td>เป็นกับสี</td>\n",
       "    </tr>\n",
       "    <tr>\n",
       "      <th>1</th>\n",
       "      <td>อยากได้จัง ตังไม่พอ</td>\n",
       "    </tr>\n",
       "    <tr>\n",
       "      <th>2</th>\n",
       "      <td>ใส่เคส rhinoshield เข้ากับขอบฟิล์มกระจกเลนส์กล...</td>\n",
       "    </tr>\n",
       "    <tr>\n",
       "      <th>3</th>\n",
       "      <td>ไม่เคยใช้ไอโฟน อยากขอคำแนะนำใช้ 14 ตัวไหนดี ปก...</td>\n",
       "    </tr>\n",
       "    <tr>\n",
       "      <th>4</th>\n",
       "      <td>เลือกไม่ถูกค่ะช่วยเลือกที 13pm 14 14pro</td>\n",
       "    </tr>\n",
       "  </tbody>\n",
       "</table>\n",
       "</div>"
      ],
      "text/plain": [
       "                                             comment\n",
       "0                                          เป็นกับสี\n",
       "1                                อยากได้จัง ตังไม่พอ\n",
       "2  ใส่เคส rhinoshield เข้ากับขอบฟิล์มกระจกเลนส์กล...\n",
       "3  ไม่เคยใช้ไอโฟน อยากขอคำแนะนำใช้ 14 ตัวไหนดี ปก...\n",
       "4            เลือกไม่ถูกค่ะช่วยเลือกที 13pm 14 14pro"
      ]
     },
     "execution_count": 4,
     "metadata": {},
     "output_type": "execute_result"
    }
   ],
   "source": [
    "df=pd.read_table(\"iphone14_new.txt\",names=['comment'],header=None)\n",
    "print(\"Comment Data {:,} rows\".format(df.shape[0]))\n",
    "df.head()"
   ]
  },
  {
   "cell_type": "markdown",
   "metadata": {},
   "source": [
    "# Preprocessing Data"
   ]
  },
  {
   "cell_type": "code",
   "execution_count": 5,
   "metadata": {},
   "outputs": [],
   "source": [
    "def showConfisionMatrix(label, predict):\n",
    "  cm = confusion_matrix(label, predict)\n",
    "  ac = accuracy_score(label, predict)\n",
    "  print(\"Accuracy score: {:.4f}\".format(ac))\n",
    "  print(\"--\"*30)\n",
    "  print(classification_report(predict,label))\n",
    "  disp = ConfusionMatrixDisplay(confusion_matrix=cm, display_labels=[\"neg\", \"pos\"])\n",
    "  fig ,ax = plt.subplots(figsize=(5,5))\n",
    "  disp.plot(ax=ax, values_format=\",d\")"
   ]
  },
  {
   "cell_type": "markdown",
   "metadata": {},
   "source": [
    "Function แก้ไขคำผิด ในส่วนของ Model Smartphone"
   ]
  },
  {
   "cell_type": "code",
   "execution_count": 6,
   "metadata": {},
   "outputs": [],
   "source": [
    "def changes_word_of_model(text, dict_word):\n",
    "    correct_text = []\n",
    "    for word in text:\n",
    "        for i in dict_word:\n",
    "            if word in dict_word[i]:\n",
    "                correct_word = i\n",
    "                break\n",
    "        else:\n",
    "            correct_word = word\n",
    "        correct_text.append(correct_word)\n",
    "    return \" \".join(correct_text)"
   ]
  },
  {
   "cell_type": "markdown",
   "metadata": {},
   "source": [
    "Function แก้ไขคำที่ผิดของประโยค"
   ]
  },
  {
   "cell_type": "code",
   "execution_count": 7,
   "metadata": {},
   "outputs": [],
   "source": [
    "def changes_incorrect(text, dict_word):\n",
    "    text = text.split()\n",
    "    correct_text = []\n",
    "    for word in text:\n",
    "        for i in dict_word:\n",
    "            if word in dict_word[i]:\n",
    "                correct_word = i\n",
    "                break\n",
    "        else:\n",
    "            correct_word = word\n",
    "        correct_text.append(correct_word)\n",
    "    return \" \".join(correct_text)"
   ]
  },
  {
   "cell_type": "markdown",
   "metadata": {},
   "source": [
    "Function ลบคำที่มีตัวสะกดซ้ำ"
   ]
  },
  {
   "cell_type": "code",
   "execution_count": 8,
   "metadata": {},
   "outputs": [],
   "source": [
    "def repeat_letter(text):\n",
    "    def _replace_rep(m):\n",
    "        c, _ = m.groups()\n",
    "        return f\"{c} \"\n",
    "\n",
    "    re_rep = re.compile(r\"(\\S)(\\1{2,})\")\n",
    "    return re_rep.sub(_replace_rep, text)"
   ]
  },
  {
   "cell_type": "markdown",
   "metadata": {},
   "source": [
    "Function ลบอิโมจิ"
   ]
  },
  {
   "cell_type": "code",
   "execution_count": 9,
   "metadata": {},
   "outputs": [],
   "source": [
    "def remove_emojis(data):\n",
    "    emoj = re.compile(\"[\"\n",
    "                      u\"\\U0001F600-\\U0001F64F\"  # emoticons\n",
    "                      u\"\\U0001F300-\\U0001F5FF\"  # symbols & pictographs\n",
    "                      u\"\\U0001F680-\\U0001F6FF\"  # transport & map symbols\n",
    "                      u\"\\U0001F1E0-\\U0001F1FF\"  # flags (iOS)\n",
    "                      u\"\\U00002500-\\U00002BEF\"  # chinese char\n",
    "                      u\"\\U00002702-\\U000027B0\"\n",
    "                      u\"\\U00002702-\\U000027B0\"\n",
    "                      u\"\\U000024C2-\\U0001F251\"\n",
    "                      u\"\\U0001f926-\\U0001f937\"\n",
    "                      u\"\\U00010000-\\U0010ffff\"\n",
    "                      u\"\\u2640-\\u2642\"\n",
    "                      u\"\\u2600-\\u2B55\"\n",
    "                      u\"\\u200d\"\n",
    "                      u\"\\u23cf\"\n",
    "                      u\"\\u23e9\"\n",
    "                      u\"\\u231a\"\n",
    "                      u\"\\ufe0f\"  # dingbats\n",
    "                      u\"\\u3030\"\n",
    "                      \"]+\", re.UNICODE)\n",
    "    return re.sub(emoj, '', data)"
   ]
  },
  {
   "cell_type": "code",
   "execution_count": 10,
   "metadata": {},
   "outputs": [
    {
     "data": {
      "text/html": [
       "<div>\n",
       "<style scoped>\n",
       "    .dataframe tbody tr th:only-of-type {\n",
       "        vertical-align: middle;\n",
       "    }\n",
       "\n",
       "    .dataframe tbody tr th {\n",
       "        vertical-align: top;\n",
       "    }\n",
       "\n",
       "    .dataframe thead th {\n",
       "        text-align: right;\n",
       "    }\n",
       "</style>\n",
       "<table border=\"1\" class=\"dataframe\">\n",
       "  <thead>\n",
       "    <tr style=\"text-align: right;\">\n",
       "      <th></th>\n",
       "      <th>comment</th>\n",
       "      <th>clean_data</th>\n",
       "    </tr>\n",
       "  </thead>\n",
       "  <tbody>\n",
       "    <tr>\n",
       "      <th>1</th>\n",
       "      <td>ไม่เคยใช้ไอโฟน อยากขอคำแนะนำใช้ 14 ตัวไหนดี ปก...</td>\n",
       "      <td>ไอโฟน|คำแนะนำ|iPhone 14|ตัว|ดี|ปกติ|ซัมซุง</td>\n",
       "    </tr>\n",
       "    <tr>\n",
       "      <th>2</th>\n",
       "      <td>เลือกไม่ถูกค่ะช่วยเลือกที 13pm 14 14pro</td>\n",
       "      <td>เลือก|เลือก|iPhone 13 Pro Max|pro</td>\n",
       "    </tr>\n",
       "    <tr>\n",
       "      <th>3</th>\n",
       "      <td>กำลังตัดสินใจอยู่เลยค่ะว่าจะเลือกตัวไหนดีระหว่...</td>\n",
       "      <td>ตัดสินใจ|อยู่เลย|เลือก|ตัว|ดี|iPhone 14 Plus|i...</td>\n",
       "    </tr>\n",
       "    <tr>\n",
       "      <th>4</th>\n",
       "      <td>เราเลือก14proมา ตอนแรกก็คิดว่ามันจะเกะกะไหมในส...</td>\n",
       "      <td>เลือก|iPhone 14 Pro|ตอนแรก|เกะกะ|ไหม|dynamicis...</td>\n",
       "    </tr>\n",
       "    <tr>\n",
       "      <th>5</th>\n",
       "      <td>กำลังตัดสินใจ 14 พลัส vs 13 โปรแม็กครับ</td>\n",
       "      <td>ตัดสินใจ|iPhone 14 Plus|vs|iPhone 13 Pro Max</td>\n",
       "    </tr>\n",
       "    <tr>\n",
       "      <th>6</th>\n",
       "      <td>Iphone 14 ธรรมดาให้ฟิล 13 pro ไหมคะ?</td>\n",
       "      <td>iPhone 14|ธรรมดา|ฟิล|iPhone 13 Pro|ไหม</td>\n",
       "    </tr>\n",
       "    <tr>\n",
       "      <th>7</th>\n",
       "      <td>เล็งไอโฟน 14 ไว้ค่ะ ส่วนตัวไม่ชอบ dynamic isla...</td>\n",
       "      <td>เล็ง|ไอโฟน|iPhone 14|ส่วนตัว|ชอบ|dynamicisland...</td>\n",
       "    </tr>\n",
       "    <tr>\n",
       "      <th>8</th>\n",
       "      <td>ถ้าอยากขายดี ทำจอใหญ่ เลยเป็นตัวเริ่มต้น</td>\n",
       "      <td>ขายดี|ทำ|จอ|เป็นตัว|เริ่มต้น</td>\n",
       "    </tr>\n",
       "    <tr>\n",
       "      <th>9</th>\n",
       "      <td>14+ แบตโคตรอึด เล่นได้ทั้งวันจริงๆ</td>\n",
       "      <td>iPhone 14 Plus|แบต|โคตร|อึด|เล่น|ทั้งวัน</td>\n",
       "    </tr>\n",
       "    <tr>\n",
       "      <th>10</th>\n",
       "      <td>พิจารณาจากฟีเจอร์+ราคาแล้ว 13 pro max ฟรีเมี่ย...</td>\n",
       "      <td>พิจารณา|ฟีเจอร์|+|ราคา|iPhone 13 Pro Max|ฟรี|เ...</td>\n",
       "    </tr>\n",
       "  </tbody>\n",
       "</table>\n",
       "</div>"
      ],
      "text/plain": [
       "                                              comment  \\\n",
       "1   ไม่เคยใช้ไอโฟน อยากขอคำแนะนำใช้ 14 ตัวไหนดี ปก...   \n",
       "2             เลือกไม่ถูกค่ะช่วยเลือกที 13pm 14 14pro   \n",
       "3   กำลังตัดสินใจอยู่เลยค่ะว่าจะเลือกตัวไหนดีระหว่...   \n",
       "4   เราเลือก14proมา ตอนแรกก็คิดว่ามันจะเกะกะไหมในส...   \n",
       "5             กำลังตัดสินใจ 14 พลัส vs 13 โปรแม็กครับ   \n",
       "6                Iphone 14 ธรรมดาให้ฟิล 13 pro ไหมคะ?   \n",
       "7   เล็งไอโฟน 14 ไว้ค่ะ ส่วนตัวไม่ชอบ dynamic isla...   \n",
       "8            ถ้าอยากขายดี ทำจอใหญ่ เลยเป็นตัวเริ่มต้น   \n",
       "9                  14+ แบตโคตรอึด เล่นได้ทั้งวันจริงๆ   \n",
       "10  พิจารณาจากฟีเจอร์+ราคาแล้ว 13 pro max ฟรีเมี่ย...   \n",
       "\n",
       "                                           clean_data  \n",
       "1          ไอโฟน|คำแนะนำ|iPhone 14|ตัว|ดี|ปกติ|ซัมซุง  \n",
       "2                   เลือก|เลือก|iPhone 13 Pro Max|pro  \n",
       "3   ตัดสินใจ|อยู่เลย|เลือก|ตัว|ดี|iPhone 14 Plus|i...  \n",
       "4   เลือก|iPhone 14 Pro|ตอนแรก|เกะกะ|ไหม|dynamicis...  \n",
       "5        ตัดสินใจ|iPhone 14 Plus|vs|iPhone 13 Pro Max  \n",
       "6              iPhone 14|ธรรมดา|ฟิล|iPhone 13 Pro|ไหม  \n",
       "7   เล็ง|ไอโฟน|iPhone 14|ส่วนตัว|ชอบ|dynamicisland...  \n",
       "8                        ขายดี|ทำ|จอ|เป็นตัว|เริ่มต้น  \n",
       "9            iPhone 14 Plus|แบต|โคตร|อึด|เล่น|ทั้งวัน  \n",
       "10  พิจารณา|ฟีเจอร์|+|ราคา|iPhone 13 Pro Max|ฟรี|เ...  "
      ]
     },
     "execution_count": 10,
     "metadata": {},
     "output_type": "execute_result"
    }
   ],
   "source": [
    "# incorrect = {\n",
    "#     \"ดี\": [\"ดร\"],\n",
    "#     \"ศัพท์\": [\"ศัทพ์\"]\n",
    "# }\n",
    "\n",
    "keywords_model = [i for i in model_ip]\n",
    "keywords_option = ['กล้อง', 'หน้าจอ','จอ', 'ดีไซน์', 'โปรเซสเซอร์', 'แบตเตอรี่','ชิพ']\n",
    "keywords = keywords_model+keywords_option\n",
    "words = model.union(thai_words())\n",
    "custom_dictionary_trie = Trie(words)\n",
    "\n",
    "def text_process(data):\n",
    "    data = \"\".join(u.lower() for u in data if u not in (\"?\", \".\", \";\", \":\", \"!\", '\"', \"ๆ\", \"ฯ\",\n",
    "                    \"/\", \"<\", \">\", \"^\", \"-\", \"*\", \"(\", \")\", \"%\", \"_\", \",\", \"#\", \"'\", \" \", \"{\", \"}\", \"…\",\"&\"))\n",
    "    data = re.sub(r\"(\\d{1,})[g][b]\", '', data)\n",
    "    data = re.sub(r\"(\\d{2,})[h][z]\", '', data)\n",
    "    data = re.sub(r\"[0-9]{3,}\", '', data)\n",
    "    data = repeat_letter(data)\n",
    "    data = normalize(data)\n",
    "    data = word_tokenize(\n",
    "        data, custom_dict=custom_dictionary_trie, keep_whitespace=False)\n",
    "    data = changes_word_of_model(data, model_ip)\n",
    "    # final = changes_incorrect(final, incorrect)\n",
    "    data = word_tokenize(data,custom_dict=custom_dictionary_trie,keep_whitespace=False)\n",
    "    \n",
    "    relevant_words = [word for word in data if word in keywords]\n",
    "    if not relevant_words:\n",
    "        return None\n",
    "\n",
    "    tag_word = pos_tag(data,corpus=\"orchid_ud\")\n",
    "    tokens = [word for word in tag_word if word not in thai_stopwords]\n",
    "    # # # print(tokens)\n",
    "\n",
    "    data = \"|\".join(word for word in data if word not in thai_stopwords)\n",
    "    return data\n",
    "\n",
    "\n",
    "\n",
    "df['clean_data'] = df['comment'].apply(remove_emojis)\n",
    "df['clean_data'] = df['clean_data'].apply(text_process)\n",
    "df = df.dropna()\n",
    "df = df.drop_duplicates()\n",
    "# df.to_csv(\"testttttttt.csv\", encoding=\"utf-8\")\n",
    "df.reset_index(drop=True, inplace=True)\n",
    "df.iloc[1:11]\n",
    "# df"
   ]
  },
  {
   "cell_type": "code",
   "execution_count": 13,
   "metadata": {},
   "outputs": [
    {
     "name": "stdout",
     "output_type": "stream",
     "text": [
      "<class 'pandas.core.frame.DataFrame'>\n",
      "RangeIndex: 913 entries, 0 to 912\n",
      "Data columns (total 2 columns):\n",
      " #   Column      Non-Null Count  Dtype \n",
      "---  ------      --------------  ----- \n",
      " 0   comment     913 non-null    object\n",
      " 1   clean_data  913 non-null    object\n",
      "dtypes: object(2)\n",
      "memory usage: 14.4+ KB\n"
     ]
    }
   ],
   "source": [
    "df.info()"
   ]
  },
  {
   "cell_type": "markdown",
   "metadata": {},
   "source": [
    "Function AIForThai Sentiment Analysis"
   ]
  },
  {
   "cell_type": "code",
   "execution_count": 11,
   "metadata": {},
   "outputs": [],
   "source": [
    "def analyze_sentiment_AIforthai(df, column_name):\n",
    "    api_key = \"FOFZpO9UFwSMquHMwVmZ7cjebmv0Yv8a\"\n",
    "    results_df = pd.DataFrame(columns=[\"comment\", \"sentiment_data\"])\n",
    "    for index, row in df.iterrows():\n",
    "        comment = row[column_name]\n",
    "        response = requests.post(\n",
    "            \"https://api.aiforthai.in.th/ssense\",\n",
    "            data={\"text\": comment},\n",
    "            headers={\"Apikey\": api_key}\n",
    "        )\n",
    "        sentiment_data = dict(response.json())\n",
    "        if sentiment_data[\"sentiment\"][\"score\"] == \"0\":\n",
    "            sentiment_data = \"neu\"\n",
    "        else:\n",
    "            sentiment_data = sentiment_data[\"sentiment\"]['polarity'][:3]\n",
    "        results_df.loc[index] = [comment, sentiment_data]\n",
    "    return results_df"
   ]
  },
  {
   "cell_type": "code",
   "execution_count": 14,
   "metadata": {},
   "outputs": [
    {
     "data": {
      "text/html": [
       "<div>\n",
       "<style scoped>\n",
       "    .dataframe tbody tr th:only-of-type {\n",
       "        vertical-align: middle;\n",
       "    }\n",
       "\n",
       "    .dataframe tbody tr th {\n",
       "        vertical-align: top;\n",
       "    }\n",
       "\n",
       "    .dataframe thead th {\n",
       "        text-align: right;\n",
       "    }\n",
       "</style>\n",
       "<table border=\"1\" class=\"dataframe\">\n",
       "  <thead>\n",
       "    <tr style=\"text-align: right;\">\n",
       "      <th></th>\n",
       "      <th>comment</th>\n",
       "      <th>sentiment_data</th>\n",
       "    </tr>\n",
       "  </thead>\n",
       "  <tbody>\n",
       "    <tr>\n",
       "      <th>0</th>\n",
       "      <td>ใส่|เคส|rhinoshield|เข้ากับ|ขอบ|ฟิล์ม|กระจก|เล...</td>\n",
       "      <td>neu</td>\n",
       "    </tr>\n",
       "    <tr>\n",
       "      <th>1</th>\n",
       "      <td>ไอโฟน|คำแนะนำ|iPhone 14|ตัว|ดี|ปกติ|ซัมซุง</td>\n",
       "      <td>pos</td>\n",
       "    </tr>\n",
       "    <tr>\n",
       "      <th>2</th>\n",
       "      <td>เลือก|เลือก|iPhone 13 Pro Max|pro</td>\n",
       "      <td>neu</td>\n",
       "    </tr>\n",
       "    <tr>\n",
       "      <th>3</th>\n",
       "      <td>ตัดสินใจ|อยู่เลย|เลือก|ตัว|ดี|iPhone 14 Plus|i...</td>\n",
       "      <td>pos</td>\n",
       "    </tr>\n",
       "    <tr>\n",
       "      <th>4</th>\n",
       "      <td>เลือก|iPhone 14 Pro|ตอนแรก|เกะกะ|ไหม|dynamicis...</td>\n",
       "      <td>neg</td>\n",
       "    </tr>\n",
       "    <tr>\n",
       "      <th>...</th>\n",
       "      <td>...</td>\n",
       "      <td>...</td>\n",
       "    </tr>\n",
       "    <tr>\n",
       "      <th>115</th>\n",
       "      <td>จบ|iPhone 12|ต่อไป|พับ|ระบบ|เอน|ดร|อย</td>\n",
       "      <td>neu</td>\n",
       "    </tr>\n",
       "    <tr>\n",
       "      <th>116</th>\n",
       "      <td>iPhone 14 Pro|ผม|เปิดไฟ|ร์|word|iPhone XS|ls|ล...</td>\n",
       "      <td>neu</td>\n",
       "    </tr>\n",
       "    <tr>\n",
       "      <th>117</th>\n",
       "      <td>รอ|ดู|15|ดีกว่า|iPhone 11|พัง</td>\n",
       "      <td>neg</td>\n",
       "    </tr>\n",
       "    <tr>\n",
       "      <th>118</th>\n",
       "      <td>iphone|ดู|iPhone 13|ซื้อ|iPhone 14|คุ้ม</td>\n",
       "      <td>pos</td>\n",
       "    </tr>\n",
       "    <tr>\n",
       "      <th>119</th>\n",
       "      <td>ดัน|ทำ|ตึ่ง|หน้าจอ|เหมือน|android|ลำบาก</td>\n",
       "      <td>neg</td>\n",
       "    </tr>\n",
       "  </tbody>\n",
       "</table>\n",
       "<p>120 rows × 2 columns</p>\n",
       "</div>"
      ],
      "text/plain": [
       "                                               comment sentiment_data\n",
       "0    ใส่|เคส|rhinoshield|เข้ากับ|ขอบ|ฟิล์ม|กระจก|เล...            neu\n",
       "1           ไอโฟน|คำแนะนำ|iPhone 14|ตัว|ดี|ปกติ|ซัมซุง            pos\n",
       "2                    เลือก|เลือก|iPhone 13 Pro Max|pro            neu\n",
       "3    ตัดสินใจ|อยู่เลย|เลือก|ตัว|ดี|iPhone 14 Plus|i...            pos\n",
       "4    เลือก|iPhone 14 Pro|ตอนแรก|เกะกะ|ไหม|dynamicis...            neg\n",
       "..                                                 ...            ...\n",
       "115              จบ|iPhone 12|ต่อไป|พับ|ระบบ|เอน|ดร|อย            neu\n",
       "116  iPhone 14 Pro|ผม|เปิดไฟ|ร์|word|iPhone XS|ls|ล...            neu\n",
       "117                      รอ|ดู|15|ดีกว่า|iPhone 11|พัง            neg\n",
       "118            iphone|ดู|iPhone 13|ซื้อ|iPhone 14|คุ้ม            pos\n",
       "119            ดัน|ทำ|ตึ่ง|หน้าจอ|เหมือน|android|ลำบาก            neg\n",
       "\n",
       "[120 rows x 2 columns]"
      ]
     },
     "execution_count": 14,
     "metadata": {},
     "output_type": "execute_result"
    }
   ],
   "source": [
    "results_df = analyze_sentiment_AIforthai(df[:120], \"clean_data\")\n",
    "results_df"
   ]
  },
  {
   "cell_type": "code",
   "execution_count": 15,
   "metadata": {},
   "outputs": [
    {
     "data": {
      "text/html": [
       "<div>\n",
       "<style scoped>\n",
       "    .dataframe tbody tr th:only-of-type {\n",
       "        vertical-align: middle;\n",
       "    }\n",
       "\n",
       "    .dataframe tbody tr th {\n",
       "        vertical-align: top;\n",
       "    }\n",
       "\n",
       "    .dataframe thead th {\n",
       "        text-align: right;\n",
       "    }\n",
       "</style>\n",
       "<table border=\"1\" class=\"dataframe\">\n",
       "  <thead>\n",
       "    <tr style=\"text-align: right;\">\n",
       "      <th></th>\n",
       "      <th>comment</th>\n",
       "      <th>sentiment_data</th>\n",
       "    </tr>\n",
       "  </thead>\n",
       "  <tbody>\n",
       "    <tr>\n",
       "      <th>120</th>\n",
       "      <td>พี่|iPhone 13 Pro|iPhone 14|ผม|อยากรู้|แรง|อ่ะ...</td>\n",
       "      <td>neu</td>\n",
       "    </tr>\n",
       "    <tr>\n",
       "      <th>121</th>\n",
       "      <td>iPhone 6s|iPhone 14|ดีขึ้น</td>\n",
       "      <td>pos</td>\n",
       "    </tr>\n",
       "    <tr>\n",
       "      <th>122</th>\n",
       "      <td>ตัวเรา|ไอโฟน|iPhone 14|ธรรมดา|คนใช้|แอน|ดร|อย|...</td>\n",
       "      <td>neu</td>\n",
       "    </tr>\n",
       "    <tr>\n",
       "      <th>123</th>\n",
       "      <td>ใจ|คน|ชื้อ|se|3|ผม|ชื้อ|iPhone 14|ลอง|ใข้|ดู|ล...</td>\n",
       "      <td>neu</td>\n",
       "    </tr>\n",
       "    <tr>\n",
       "      <th>124</th>\n",
       "      <td>iPhone 14|รู้สึก|แบต</td>\n",
       "      <td>neu</td>\n",
       "    </tr>\n",
       "    <tr>\n",
       "      <th>...</th>\n",
       "      <td>...</td>\n",
       "      <td>...</td>\n",
       "    </tr>\n",
       "    <tr>\n",
       "      <th>235</th>\n",
       "      <td>ผม|iPhone 8|+|4|ปี</td>\n",
       "      <td>neu</td>\n",
       "    </tr>\n",
       "    <tr>\n",
       "      <th>236</th>\n",
       "      <td>iPhone 12|เจอ|แอน|ดร|อย|จอ|ฟา|ส|ชา|จ|w|โลก|ผม</td>\n",
       "      <td>neu</td>\n",
       "    </tr>\n",
       "    <tr>\n",
       "      <th>237</th>\n",
       "      <td>ป้า|ผม|iPhone 6s|ตอนนี้|ใช้ได้|แบต|2|รอบ|ตอนนี...</td>\n",
       "      <td>pos</td>\n",
       "    </tr>\n",
       "    <tr>\n",
       "      <th>238</th>\n",
       "      <td>ย้อม|เกินไป|เล่น|ใส่|เดิม|แบบนี้|ซื้อ|iPhone 1...</td>\n",
       "      <td>pos</td>\n",
       "    </tr>\n",
       "    <tr>\n",
       "      <th>239</th>\n",
       "      <td>iPhone 14|ซื้อ|iPhone 13 Pro Max|ดีกว่า</td>\n",
       "      <td>pos</td>\n",
       "    </tr>\n",
       "  </tbody>\n",
       "</table>\n",
       "<p>120 rows × 2 columns</p>\n",
       "</div>"
      ],
      "text/plain": [
       "                                               comment sentiment_data\n",
       "120  พี่|iPhone 13 Pro|iPhone 14|ผม|อยากรู้|แรง|อ่ะ...            neu\n",
       "121                         iPhone 6s|iPhone 14|ดีขึ้น            pos\n",
       "122  ตัวเรา|ไอโฟน|iPhone 14|ธรรมดา|คนใช้|แอน|ดร|อย|...            neu\n",
       "123  ใจ|คน|ชื้อ|se|3|ผม|ชื้อ|iPhone 14|ลอง|ใข้|ดู|ล...            neu\n",
       "124                               iPhone 14|รู้สึก|แบต            neu\n",
       "..                                                 ...            ...\n",
       "235                                 ผม|iPhone 8|+|4|ปี            neu\n",
       "236      iPhone 12|เจอ|แอน|ดร|อย|จอ|ฟา|ส|ชา|จ|w|โลก|ผม            neu\n",
       "237  ป้า|ผม|iPhone 6s|ตอนนี้|ใช้ได้|แบต|2|รอบ|ตอนนี...            pos\n",
       "238  ย้อม|เกินไป|เล่น|ใส่|เดิม|แบบนี้|ซื้อ|iPhone 1...            pos\n",
       "239            iPhone 14|ซื้อ|iPhone 13 Pro Max|ดีกว่า            pos\n",
       "\n",
       "[120 rows x 2 columns]"
      ]
     },
     "execution_count": 15,
     "metadata": {},
     "output_type": "execute_result"
    }
   ],
   "source": [
    "results_df2 = analyze_sentiment_AIforthai(df[120:240], \"clean_data\")\n",
    "results_df2"
   ]
  },
  {
   "cell_type": "code",
   "execution_count": 17,
   "metadata": {},
   "outputs": [
    {
     "data": {
      "text/html": [
       "<div>\n",
       "<style scoped>\n",
       "    .dataframe tbody tr th:only-of-type {\n",
       "        vertical-align: middle;\n",
       "    }\n",
       "\n",
       "    .dataframe tbody tr th {\n",
       "        vertical-align: top;\n",
       "    }\n",
       "\n",
       "    .dataframe thead th {\n",
       "        text-align: right;\n",
       "    }\n",
       "</style>\n",
       "<table border=\"1\" class=\"dataframe\">\n",
       "  <thead>\n",
       "    <tr style=\"text-align: right;\">\n",
       "      <th></th>\n",
       "      <th>comment</th>\n",
       "      <th>sentiment_data</th>\n",
       "    </tr>\n",
       "  </thead>\n",
       "  <tbody>\n",
       "    <tr>\n",
       "      <th>240</th>\n",
       "      <td>iPhone 11|3|ปี|เวลา|สะ|ออกมา|แบบนี้|จ่าย|ซื้อ|...</td>\n",
       "      <td>neu</td>\n",
       "    </tr>\n",
       "    <tr>\n",
       "      <th>241</th>\n",
       "      <td>iPhone 14|คุ้ม|ผม|กั๊ก|สเปค</td>\n",
       "      <td>pos</td>\n",
       "    </tr>\n",
       "    <tr>\n",
       "      <th>242</th>\n",
       "      <td>สอบถาม|ย้าย|แอน|ดร|อย|ios|ลังเล|iPhone 13|iPho...</td>\n",
       "      <td>pos</td>\n",
       "    </tr>\n",
       "    <tr>\n",
       "      <th>243</th>\n",
       "      <td>พี่|คนใช้|iPhone 11|เก่า|พัง|อยู่แล้ว|iPhone 1...</td>\n",
       "      <td>neg</td>\n",
       "    </tr>\n",
       "    <tr>\n",
       "      <th>244</th>\n",
       "      <td>เหมือน|iPhone 14|ออกมา|ขัดตาทัพ|งั้น|รอ|15|ควา...</td>\n",
       "      <td>pos</td>\n",
       "    </tr>\n",
       "    <tr>\n",
       "      <th>...</th>\n",
       "      <td>...</td>\n",
       "      <td>...</td>\n",
       "    </tr>\n",
       "    <tr>\n",
       "      <th>355</th>\n",
       "      <td>รู้สึก|iPhone 13 Pro|หวด</td>\n",
       "      <td>neu</td>\n",
       "    </tr>\n",
       "    <tr>\n",
       "      <th>356</th>\n",
       "      <td>iPhone 13 Mini|vs|iPhone 12|ฮะ|พี่</td>\n",
       "      <td>neu</td>\n",
       "    </tr>\n",
       "    <tr>\n",
       "      <th>357</th>\n",
       "      <td>iPhone 14|เปิดตัว|ผม|iPhone 13 Pro</td>\n",
       "      <td>neu</td>\n",
       "    </tr>\n",
       "    <tr>\n",
       "      <th>358</th>\n",
       "      <td>แบบนี้|ผม|iPhone XR|iPhone 14|ดี|ทำ|งา|นอ|อนล|...</td>\n",
       "      <td>pos</td>\n",
       "    </tr>\n",
       "    <tr>\n",
       "      <th>359</th>\n",
       "      <td>ติ่ง|ไอโฟน|iPhone 14|ดีมาก|สวย|กวน</td>\n",
       "      <td>pos</td>\n",
       "    </tr>\n",
       "  </tbody>\n",
       "</table>\n",
       "<p>120 rows × 2 columns</p>\n",
       "</div>"
      ],
      "text/plain": [
       "                                               comment sentiment_data\n",
       "240  iPhone 11|3|ปี|เวลา|สะ|ออกมา|แบบนี้|จ่าย|ซื้อ|...            neu\n",
       "241                        iPhone 14|คุ้ม|ผม|กั๊ก|สเปค            pos\n",
       "242  สอบถาม|ย้าย|แอน|ดร|อย|ios|ลังเล|iPhone 13|iPho...            pos\n",
       "243  พี่|คนใช้|iPhone 11|เก่า|พัง|อยู่แล้ว|iPhone 1...            neg\n",
       "244  เหมือน|iPhone 14|ออกมา|ขัดตาทัพ|งั้น|รอ|15|ควา...            pos\n",
       "..                                                 ...            ...\n",
       "355                           รู้สึก|iPhone 13 Pro|หวด            neu\n",
       "356                 iPhone 13 Mini|vs|iPhone 12|ฮะ|พี่            neu\n",
       "357                 iPhone 14|เปิดตัว|ผม|iPhone 13 Pro            neu\n",
       "358  แบบนี้|ผม|iPhone XR|iPhone 14|ดี|ทำ|งา|นอ|อนล|...            pos\n",
       "359                 ติ่ง|ไอโฟน|iPhone 14|ดีมาก|สวย|กวน            pos\n",
       "\n",
       "[120 rows x 2 columns]"
      ]
     },
     "execution_count": 17,
     "metadata": {},
     "output_type": "execute_result"
    }
   ],
   "source": [
    "results_df3 = analyze_sentiment_AIforthai(df[240:360], \"clean_data\")\n",
    "results_df3"
   ]
  },
  {
   "cell_type": "code",
   "execution_count": 20,
   "metadata": {},
   "outputs": [
    {
     "data": {
      "text/html": [
       "<div>\n",
       "<style scoped>\n",
       "    .dataframe tbody tr th:only-of-type {\n",
       "        vertical-align: middle;\n",
       "    }\n",
       "\n",
       "    .dataframe tbody tr th {\n",
       "        vertical-align: top;\n",
       "    }\n",
       "\n",
       "    .dataframe thead th {\n",
       "        text-align: right;\n",
       "    }\n",
       "</style>\n",
       "<table border=\"1\" class=\"dataframe\">\n",
       "  <thead>\n",
       "    <tr style=\"text-align: right;\">\n",
       "      <th></th>\n",
       "      <th>comment</th>\n",
       "      <th>sentiment_data</th>\n",
       "    </tr>\n",
       "  </thead>\n",
       "  <tbody>\n",
       "    <tr>\n",
       "      <th>360</th>\n",
       "      <td>ผม|iPhone 6s|iPhone 6|ปีก|ว่าแต่|คุ้มค่า|iPhon...</td>\n",
       "      <td>pos</td>\n",
       "    </tr>\n",
       "    <tr>\n",
       "      <th>361</th>\n",
       "      <td>ถอย|iPhone 14|iPhone 11|ตอนแรก|เล็ง|iPhone 13 ...</td>\n",
       "      <td>neg</td>\n",
       "    </tr>\n",
       "    <tr>\n",
       "      <th>362</th>\n",
       "      <td>ห่าง|iPhone 14|โปร|แทนที่จะ|ไดนามิก|ชิป|ตัวใหม...</td>\n",
       "      <td>neg</td>\n",
       "    </tr>\n",
       "    <tr>\n",
       "      <th>363</th>\n",
       "      <td>iPhone 13 Pro Max|ดีกว่า</td>\n",
       "      <td>pos</td>\n",
       "    </tr>\n",
       "    <tr>\n",
       "      <th>364</th>\n",
       "      <td>รัก|ตั้ม|ซื้อ|ไอโฟน|iPhone 14|โปร|์แม็ส|รัก|ชอ...</td>\n",
       "      <td>pos</td>\n",
       "    </tr>\n",
       "    <tr>\n",
       "      <th>...</th>\n",
       "      <td>...</td>\n",
       "      <td>...</td>\n",
       "    </tr>\n",
       "    <tr>\n",
       "      <th>475</th>\n",
       "      <td>iPhone 14|สีม่วง|ไอติม|รส|เผือก</td>\n",
       "      <td>neu</td>\n",
       "    </tr>\n",
       "    <tr>\n",
       "      <th>476</th>\n",
       "      <td>iPhone 14|สี|ขาว|ไอติม|กะทิ</td>\n",
       "      <td>neu</td>\n",
       "    </tr>\n",
       "    <tr>\n",
       "      <th>477</th>\n",
       "      <td>iPhone 14|สีแดง|ไอติม|สต|รอ|เบอ|รี่</td>\n",
       "      <td>neu</td>\n",
       "    </tr>\n",
       "    <tr>\n",
       "      <th>478</th>\n",
       "      <td>iPhone 14|สี|ดำ|ไอติม|ถั่วดำ</td>\n",
       "      <td>neu</td>\n",
       "    </tr>\n",
       "    <tr>\n",
       "      <th>479</th>\n",
       "      <td>iPhone 13|สู้|s|22|iPhone 14|โดน|s|23|ชิพ|ตัว|...</td>\n",
       "      <td>pos</td>\n",
       "    </tr>\n",
       "  </tbody>\n",
       "</table>\n",
       "<p>120 rows × 2 columns</p>\n",
       "</div>"
      ],
      "text/plain": [
       "                                               comment sentiment_data\n",
       "360  ผม|iPhone 6s|iPhone 6|ปีก|ว่าแต่|คุ้มค่า|iPhon...            pos\n",
       "361  ถอย|iPhone 14|iPhone 11|ตอนแรก|เล็ง|iPhone 13 ...            neg\n",
       "362  ห่าง|iPhone 14|โปร|แทนที่จะ|ไดนามิก|ชิป|ตัวใหม...            neg\n",
       "363                           iPhone 13 Pro Max|ดีกว่า            pos\n",
       "364  รัก|ตั้ม|ซื้อ|ไอโฟน|iPhone 14|โปร|์แม็ส|รัก|ชอ...            pos\n",
       "..                                                 ...            ...\n",
       "475                    iPhone 14|สีม่วง|ไอติม|รส|เผือก            neu\n",
       "476                        iPhone 14|สี|ขาว|ไอติม|กะทิ            neu\n",
       "477                iPhone 14|สีแดง|ไอติม|สต|รอ|เบอ|รี่            neu\n",
       "478                       iPhone 14|สี|ดำ|ไอติม|ถั่วดำ            neu\n",
       "479  iPhone 13|สู้|s|22|iPhone 14|โดน|s|23|ชิพ|ตัว|...            pos\n",
       "\n",
       "[120 rows x 2 columns]"
      ]
     },
     "execution_count": 20,
     "metadata": {},
     "output_type": "execute_result"
    }
   ],
   "source": [
    "results_df4 = analyze_sentiment_AIforthai(df[360:480], \"clean_data\")\n",
    "results_df4"
   ]
  },
  {
   "cell_type": "code",
   "execution_count": 21,
   "metadata": {},
   "outputs": [
    {
     "data": {
      "text/html": [
       "<div>\n",
       "<style scoped>\n",
       "    .dataframe tbody tr th:only-of-type {\n",
       "        vertical-align: middle;\n",
       "    }\n",
       "\n",
       "    .dataframe tbody tr th {\n",
       "        vertical-align: top;\n",
       "    }\n",
       "\n",
       "    .dataframe thead th {\n",
       "        text-align: right;\n",
       "    }\n",
       "</style>\n",
       "<table border=\"1\" class=\"dataframe\">\n",
       "  <thead>\n",
       "    <tr style=\"text-align: right;\">\n",
       "      <th></th>\n",
       "      <th>comment</th>\n",
       "      <th>sentiment_data</th>\n",
       "    </tr>\n",
       "  </thead>\n",
       "  <tbody>\n",
       "    <tr>\n",
       "      <th>480</th>\n",
       "      <td>iPhone 14 Pro|ro|ผม|ซื้อ|3|เดือน|โดน|แกะ|เครื่...</td>\n",
       "      <td>neg</td>\n",
       "    </tr>\n",
       "    <tr>\n",
       "      <th>481</th>\n",
       "      <td>รีวิว|s|23|iPhone 14|ตัว|ธรรมดา</td>\n",
       "      <td>neu</td>\n",
       "    </tr>\n",
       "    <tr>\n",
       "      <th>482</th>\n",
       "      <td>ทราบ|ติด|ฟิล์ม|กล้อง|ไหม|มีส่วนช่วย|รอย|กันกระ...</td>\n",
       "      <td>neg</td>\n",
       "    </tr>\n",
       "    <tr>\n",
       "      <th>483</th>\n",
       "      <td>ซื้อ|iPhone 13 Pro|iPhone 13 Pro Max|หา|เคส|เห...</td>\n",
       "      <td>neu</td>\n",
       "    </tr>\n",
       "    <tr>\n",
       "      <th>484</th>\n",
       "      <td>ด่า|สัก|iPhone X</td>\n",
       "      <td>neg</td>\n",
       "    </tr>\n",
       "    <tr>\n",
       "      <th>...</th>\n",
       "      <td>...</td>\n",
       "      <td>...</td>\n",
       "    </tr>\n",
       "    <tr>\n",
       "      <th>595</th>\n",
       "      <td>ผลิตภัณฑ์|จอ|promotion|สักพัก|iPhone 14 Plus|จ...</td>\n",
       "      <td>neu</td>\n",
       "    </tr>\n",
       "    <tr>\n",
       "      <th>596</th>\n",
       "      <td>ส่วนตัว|ชอบ|รูปร่าง|iPhone 14 Plus|รู้สึก|เพรี...</td>\n",
       "      <td>pos</td>\n",
       "    </tr>\n",
       "    <tr>\n",
       "      <th>597</th>\n",
       "      <td>+|สำหรับ|ของเก่า|ย้อมแมวขาย|คน|รุ่น|สแกน|หน้า|...</td>\n",
       "      <td>neg</td>\n",
       "    </tr>\n",
       "    <tr>\n",
       "      <th>598</th>\n",
       "      <td>iPhone X|ตัดสินใจ|iPhone 14 Pro Max|iPhone 14 ...</td>\n",
       "      <td>pos</td>\n",
       "    </tr>\n",
       "    <tr>\n",
       "      <th>599</th>\n",
       "      <td>เทคโนโลยี|โลก|เดินหน้า|คงที่|ถดถอย|นวัตกรรม|หย...</td>\n",
       "      <td>neg</td>\n",
       "    </tr>\n",
       "  </tbody>\n",
       "</table>\n",
       "<p>120 rows × 2 columns</p>\n",
       "</div>"
      ],
      "text/plain": [
       "                                               comment sentiment_data\n",
       "480  iPhone 14 Pro|ro|ผม|ซื้อ|3|เดือน|โดน|แกะ|เครื่...            neg\n",
       "481                    รีวิว|s|23|iPhone 14|ตัว|ธรรมดา            neu\n",
       "482  ทราบ|ติด|ฟิล์ม|กล้อง|ไหม|มีส่วนช่วย|รอย|กันกระ...            neg\n",
       "483  ซื้อ|iPhone 13 Pro|iPhone 13 Pro Max|หา|เคส|เห...            neu\n",
       "484                                   ด่า|สัก|iPhone X            neg\n",
       "..                                                 ...            ...\n",
       "595  ผลิตภัณฑ์|จอ|promotion|สักพัก|iPhone 14 Plus|จ...            neu\n",
       "596  ส่วนตัว|ชอบ|รูปร่าง|iPhone 14 Plus|รู้สึก|เพรี...            pos\n",
       "597  +|สำหรับ|ของเก่า|ย้อมแมวขาย|คน|รุ่น|สแกน|หน้า|...            neg\n",
       "598  iPhone X|ตัดสินใจ|iPhone 14 Pro Max|iPhone 14 ...            pos\n",
       "599  เทคโนโลยี|โลก|เดินหน้า|คงที่|ถดถอย|นวัตกรรม|หย...            neg\n",
       "\n",
       "[120 rows x 2 columns]"
      ]
     },
     "execution_count": 21,
     "metadata": {},
     "output_type": "execute_result"
    }
   ],
   "source": [
    "results_df5 = analyze_sentiment_AIforthai(df[480:600], \"clean_data\")\n",
    "results_df5"
   ]
  },
  {
   "cell_type": "code",
   "execution_count": 22,
   "metadata": {},
   "outputs": [
    {
     "data": {
      "text/html": [
       "<div>\n",
       "<style scoped>\n",
       "    .dataframe tbody tr th:only-of-type {\n",
       "        vertical-align: middle;\n",
       "    }\n",
       "\n",
       "    .dataframe tbody tr th {\n",
       "        vertical-align: top;\n",
       "    }\n",
       "\n",
       "    .dataframe thead th {\n",
       "        text-align: right;\n",
       "    }\n",
       "</style>\n",
       "<table border=\"1\" class=\"dataframe\">\n",
       "  <thead>\n",
       "    <tr style=\"text-align: right;\">\n",
       "      <th></th>\n",
       "      <th>comment</th>\n",
       "      <th>sentiment_data</th>\n",
       "    </tr>\n",
       "  </thead>\n",
       "  <tbody>\n",
       "    <tr>\n",
       "      <th>600</th>\n",
       "      <td>ไอโฟน|iPhone 14 Pro Max|ขาย|ศูย|ais|สาขา|ไหม</td>\n",
       "      <td>neu</td>\n",
       "    </tr>\n",
       "    <tr>\n",
       "      <th>601</th>\n",
       "      <td>ตอนแรก|เปิดตัว|อยากได้|iPhone 14 Plus|ดู|สเป็ค...</td>\n",
       "      <td>pos</td>\n",
       "    </tr>\n",
       "    <tr>\n",
       "      <th>602</th>\n",
       "      <td>คลิป|20|นาที|เข้าถึง|รีวิว|นาที|iPhone 13|iPho...</td>\n",
       "      <td>neu</td>\n",
       "    </tr>\n",
       "    <tr>\n",
       "      <th>603</th>\n",
       "      <td>iPhone 13|ram|4|gb</td>\n",
       "      <td>neu</td>\n",
       "    </tr>\n",
       "    <tr>\n",
       "      <th>604</th>\n",
       "      <td>iPhone 14|ram|iPhone 6|gb</td>\n",
       "      <td>neu</td>\n",
       "    </tr>\n",
       "    <tr>\n",
       "      <th>...</th>\n",
       "      <td>...</td>\n",
       "      <td>...</td>\n",
       "    </tr>\n",
       "    <tr>\n",
       "      <th>715</th>\n",
       "      <td>dynamicisland|มาจาก|ทัช|บาร์|macbook|เดี๋ยว|อี...</td>\n",
       "      <td>pos</td>\n",
       "    </tr>\n",
       "    <tr>\n",
       "      <th>716</th>\n",
       "      <td>เวลา|ติด|ฟิล์ม|หน้าจอ|ล่ะ|ตัว|ฟิล์ม|เว้น|รู|กล...</td>\n",
       "      <td>neu</td>\n",
       "    </tr>\n",
       "    <tr>\n",
       "      <th>717</th>\n",
       "      <td>samsunggalaxy|22|+กเบ|iPhone 14 Pro|ro|ดีกว่า</td>\n",
       "      <td>pos</td>\n",
       "    </tr>\n",
       "    <tr>\n",
       "      <th>718</th>\n",
       "      <td>หน้าจอ|burn|ไหม|อนาคต</td>\n",
       "      <td>neu</td>\n",
       "    </tr>\n",
       "    <tr>\n",
       "      <th>719</th>\n",
       "      <td>ตอนนี้|iPhone 13 Pro Max|ดู|ช่อง|เมีย|บ|s|22|u...</td>\n",
       "      <td>neu</td>\n",
       "    </tr>\n",
       "  </tbody>\n",
       "</table>\n",
       "<p>120 rows × 2 columns</p>\n",
       "</div>"
      ],
      "text/plain": [
       "                                               comment sentiment_data\n",
       "600       ไอโฟน|iPhone 14 Pro Max|ขาย|ศูย|ais|สาขา|ไหม            neu\n",
       "601  ตอนแรก|เปิดตัว|อยากได้|iPhone 14 Plus|ดู|สเป็ค...            pos\n",
       "602  คลิป|20|นาที|เข้าถึง|รีวิว|นาที|iPhone 13|iPho...            neu\n",
       "603                                 iPhone 13|ram|4|gb            neu\n",
       "604                          iPhone 14|ram|iPhone 6|gb            neu\n",
       "..                                                 ...            ...\n",
       "715  dynamicisland|มาจาก|ทัช|บาร์|macbook|เดี๋ยว|อี...            pos\n",
       "716  เวลา|ติด|ฟิล์ม|หน้าจอ|ล่ะ|ตัว|ฟิล์ม|เว้น|รู|กล...            neu\n",
       "717      samsunggalaxy|22|+กเบ|iPhone 14 Pro|ro|ดีกว่า            pos\n",
       "718                              หน้าจอ|burn|ไหม|อนาคต            neu\n",
       "719  ตอนนี้|iPhone 13 Pro Max|ดู|ช่อง|เมีย|บ|s|22|u...            neu\n",
       "\n",
       "[120 rows x 2 columns]"
      ]
     },
     "execution_count": 22,
     "metadata": {},
     "output_type": "execute_result"
    }
   ],
   "source": [
    "results_df6 = analyze_sentiment_AIforthai(df[600:720], \"clean_data\")\n",
    "results_df6"
   ]
  },
  {
   "cell_type": "code",
   "execution_count": 23,
   "metadata": {},
   "outputs": [
    {
     "data": {
      "text/html": [
       "<div>\n",
       "<style scoped>\n",
       "    .dataframe tbody tr th:only-of-type {\n",
       "        vertical-align: middle;\n",
       "    }\n",
       "\n",
       "    .dataframe tbody tr th {\n",
       "        vertical-align: top;\n",
       "    }\n",
       "\n",
       "    .dataframe thead th {\n",
       "        text-align: right;\n",
       "    }\n",
       "</style>\n",
       "<table border=\"1\" class=\"dataframe\">\n",
       "  <thead>\n",
       "    <tr style=\"text-align: right;\">\n",
       "      <th></th>\n",
       "      <th>comment</th>\n",
       "      <th>sentiment_data</th>\n",
       "    </tr>\n",
       "  </thead>\n",
       "  <tbody>\n",
       "    <tr>\n",
       "      <th>720</th>\n",
       "      <td>อยากได้|อยากได้|ถอย|iPhone 13|2|เดือน|ลอง|หันม...</td>\n",
       "      <td>pos</td>\n",
       "    </tr>\n",
       "    <tr>\n",
       "      <th>721</th>\n",
       "      <td>ลบ|ตอน|ดู|หนัง|กด|ค้าง|ลบ|รู|กล้อง|ดี</td>\n",
       "      <td>pos</td>\n",
       "    </tr>\n",
       "    <tr>\n",
       "      <th>722</th>\n",
       "      <td>อยากได้|iPhone 13 Pro|m|มือ|สั่น</td>\n",
       "      <td>pos</td>\n",
       "    </tr>\n",
       "    <tr>\n",
       "      <th>723</th>\n",
       "      <td>เจอ|กล้อง|หน้า|บัง|appyoutube|ผม|คิดหนัก</td>\n",
       "      <td>neg</td>\n",
       "    </tr>\n",
       "    <tr>\n",
       "      <th>724</th>\n",
       "      <td>ผม|ลอง|เทียบ|iPhone 13 Pro|iPhone 14 Pro|ro|เร...</td>\n",
       "      <td>pos</td>\n",
       "    </tr>\n",
       "    <tr>\n",
       "      <th>...</th>\n",
       "      <td>...</td>\n",
       "      <td>...</td>\n",
       "    </tr>\n",
       "    <tr>\n",
       "      <th>835</th>\n",
       "      <td>andlikeapple|’|sbatteryitdoesn|’|tannouncenumb...</td>\n",
       "      <td>neu</td>\n",
       "    </tr>\n",
       "    <tr>\n",
       "      <th>836</th>\n",
       "      <td>ทำ|สแกน|นิ้ว|จอ|ห|ติ|ส</td>\n",
       "      <td>neu</td>\n",
       "    </tr>\n",
       "    <tr>\n",
       "      <th>837</th>\n",
       "      <td>ว้าว|รู|กล้อง|แคปซูล|แก้|ขยาย|าน|สวยงาม|สไตล์|...</td>\n",
       "      <td>pos</td>\n",
       "    </tr>\n",
       "    <tr>\n",
       "      <th>838</th>\n",
       "      <td>อยากรู้|การใช้งาน|ทั้งวัน|แบ็ต|เต|อร|รี่|หรอ|อ...</td>\n",
       "      <td>pos</td>\n",
       "    </tr>\n",
       "    <tr>\n",
       "      <th>839</th>\n",
       "      <td>iPhone 7 Plus|เวลา</td>\n",
       "      <td>neu</td>\n",
       "    </tr>\n",
       "  </tbody>\n",
       "</table>\n",
       "<p>120 rows × 2 columns</p>\n",
       "</div>"
      ],
      "text/plain": [
       "                                               comment sentiment_data\n",
       "720  อยากได้|อยากได้|ถอย|iPhone 13|2|เดือน|ลอง|หันม...            pos\n",
       "721              ลบ|ตอน|ดู|หนัง|กด|ค้าง|ลบ|รู|กล้อง|ดี            pos\n",
       "722                   อยากได้|iPhone 13 Pro|m|มือ|สั่น            pos\n",
       "723           เจอ|กล้อง|หน้า|บัง|appyoutube|ผม|คิดหนัก            neg\n",
       "724  ผม|ลอง|เทียบ|iPhone 13 Pro|iPhone 14 Pro|ro|เร...            pos\n",
       "..                                                 ...            ...\n",
       "835  andlikeapple|’|sbatteryitdoesn|’|tannouncenumb...            neu\n",
       "836                             ทำ|สแกน|นิ้ว|จอ|ห|ติ|ส            neu\n",
       "837  ว้าว|รู|กล้อง|แคปซูล|แก้|ขยาย|าน|สวยงาม|สไตล์|...            pos\n",
       "838  อยากรู้|การใช้งาน|ทั้งวัน|แบ็ต|เต|อร|รี่|หรอ|อ...            pos\n",
       "839                                 iPhone 7 Plus|เวลา            neu\n",
       "\n",
       "[120 rows x 2 columns]"
      ]
     },
     "execution_count": 23,
     "metadata": {},
     "output_type": "execute_result"
    }
   ],
   "source": [
    "results_df7 = analyze_sentiment_AIforthai(df[720:840], \"clean_data\")\n",
    "results_df7"
   ]
  },
  {
   "cell_type": "code",
   "execution_count": 24,
   "metadata": {},
   "outputs": [
    {
     "data": {
      "text/html": [
       "<div>\n",
       "<style scoped>\n",
       "    .dataframe tbody tr th:only-of-type {\n",
       "        vertical-align: middle;\n",
       "    }\n",
       "\n",
       "    .dataframe tbody tr th {\n",
       "        vertical-align: top;\n",
       "    }\n",
       "\n",
       "    .dataframe thead th {\n",
       "        text-align: right;\n",
       "    }\n",
       "</style>\n",
       "<table border=\"1\" class=\"dataframe\">\n",
       "  <thead>\n",
       "    <tr style=\"text-align: right;\">\n",
       "      <th></th>\n",
       "      <th>comment</th>\n",
       "      <th>sentiment_data</th>\n",
       "    </tr>\n",
       "  </thead>\n",
       "  <tbody>\n",
       "    <tr>\n",
       "      <th>840</th>\n",
       "      <td>จอ|แอบ|ดับ|เหมือน|เครื่อง|มั้ง|lgv|50|ล็อก|จอ|...</td>\n",
       "      <td>neg</td>\n",
       "    </tr>\n",
       "    <tr>\n",
       "      <th>841</th>\n",
       "      <td>ไทย|เปิดตัว|แพง|เจอ|ประเทศ|ญี่ปุ่น|แพง|45|พัน|...</td>\n",
       "      <td>neg</td>\n",
       "    </tr>\n",
       "    <tr>\n",
       "      <th>842</th>\n",
       "      <td>รู้สึก|เหมือน|เหมือน|แอน|ดร|อย|ติ่ง|หน้าจอ|ยัน...</td>\n",
       "      <td>pos</td>\n",
       "    </tr>\n",
       "    <tr>\n",
       "      <th>843</th>\n",
       "      <td>ติ่ง|ยืด|หด|ก้อ|บัง|จอ|ยุ|ดี|ดู|เหมือน|เครื่อง...</td>\n",
       "      <td>pos</td>\n",
       "    </tr>\n",
       "    <tr>\n",
       "      <th>844</th>\n",
       "      <td>ดู|พี่|อู๋|ปีก่อน|คน|รีวิว|เรื่อง|พี่|อู๋|ที่ม...</td>\n",
       "      <td>pos</td>\n",
       "    </tr>\n",
       "    <tr>\n",
       "      <th>...</th>\n",
       "      <td>...</td>\n",
       "      <td>...</td>\n",
       "    </tr>\n",
       "    <tr>\n",
       "      <th>908</th>\n",
       "      <td>ผม|iphone|แนะนำ|iPhone 13|ดี|iPhone 14|ดี</td>\n",
       "      <td>pos</td>\n",
       "    </tr>\n",
       "    <tr>\n",
       "      <th>909</th>\n",
       "      <td>กล้อง|ถ่าย|คลิป|ชัด</td>\n",
       "      <td>pos</td>\n",
       "    </tr>\n",
       "    <tr>\n",
       "      <th>910</th>\n",
       "      <td>iPhone 14 Pro|แน่|รู้|สี|ดี|สวย|สี</td>\n",
       "      <td>pos</td>\n",
       "    </tr>\n",
       "    <tr>\n",
       "      <th>911</th>\n",
       "      <td>แพง|มีระดับ|หา|ช่อง|ภาพ|เสียง|ว้าว|iphone|อีกแ...</td>\n",
       "      <td>neu</td>\n",
       "    </tr>\n",
       "    <tr>\n",
       "      <th>912</th>\n",
       "      <td>ทวิ|ต|iPhone 14 Pro|iPhone 14 Pro Max|แน่</td>\n",
       "      <td>neu</td>\n",
       "    </tr>\n",
       "  </tbody>\n",
       "</table>\n",
       "<p>73 rows × 2 columns</p>\n",
       "</div>"
      ],
      "text/plain": [
       "                                               comment sentiment_data\n",
       "840  จอ|แอบ|ดับ|เหมือน|เครื่อง|มั้ง|lgv|50|ล็อก|จอ|...            neg\n",
       "841  ไทย|เปิดตัว|แพง|เจอ|ประเทศ|ญี่ปุ่น|แพง|45|พัน|...            neg\n",
       "842  รู้สึก|เหมือน|เหมือน|แอน|ดร|อย|ติ่ง|หน้าจอ|ยัน...            pos\n",
       "843  ติ่ง|ยืด|หด|ก้อ|บัง|จอ|ยุ|ดี|ดู|เหมือน|เครื่อง...            pos\n",
       "844  ดู|พี่|อู๋|ปีก่อน|คน|รีวิว|เรื่อง|พี่|อู๋|ที่ม...            pos\n",
       "..                                                 ...            ...\n",
       "908          ผม|iphone|แนะนำ|iPhone 13|ดี|iPhone 14|ดี            pos\n",
       "909                                กล้อง|ถ่าย|คลิป|ชัด            pos\n",
       "910                 iPhone 14 Pro|แน่|รู้|สี|ดี|สวย|สี            pos\n",
       "911  แพง|มีระดับ|หา|ช่อง|ภาพ|เสียง|ว้าว|iphone|อีกแ...            neu\n",
       "912          ทวิ|ต|iPhone 14 Pro|iPhone 14 Pro Max|แน่            neu\n",
       "\n",
       "[73 rows x 2 columns]"
      ]
     },
     "execution_count": 24,
     "metadata": {},
     "output_type": "execute_result"
    }
   ],
   "source": [
    "results_df8 = analyze_sentiment_AIforthai(df[840:960], \"clean_data\")\n",
    "results_df8"
   ]
  },
  {
   "cell_type": "code",
   "execution_count": 27,
   "metadata": {},
   "outputs": [
    {
     "data": {
      "text/html": [
       "<div>\n",
       "<style scoped>\n",
       "    .dataframe tbody tr th:only-of-type {\n",
       "        vertical-align: middle;\n",
       "    }\n",
       "\n",
       "    .dataframe tbody tr th {\n",
       "        vertical-align: top;\n",
       "    }\n",
       "\n",
       "    .dataframe thead th {\n",
       "        text-align: right;\n",
       "    }\n",
       "</style>\n",
       "<table border=\"1\" class=\"dataframe\">\n",
       "  <thead>\n",
       "    <tr style=\"text-align: right;\">\n",
       "      <th></th>\n",
       "      <th>comment</th>\n",
       "      <th>sentiment_data</th>\n",
       "    </tr>\n",
       "  </thead>\n",
       "  <tbody>\n",
       "    <tr>\n",
       "      <th>0</th>\n",
       "      <td>ไอโฟน|คำแนะนำ|iPhone 14|ตัว|ดี|ปกติ|ซัมซุง</td>\n",
       "      <td>pos</td>\n",
       "    </tr>\n",
       "    <tr>\n",
       "      <th>1</th>\n",
       "      <td>ตัดสินใจ|อยู่เลย|เลือก|ตัว|ดี|iPhone 14 Plus|i...</td>\n",
       "      <td>pos</td>\n",
       "    </tr>\n",
       "    <tr>\n",
       "      <th>2</th>\n",
       "      <td>เลือก|iPhone 14 Pro|ตอนแรก|เกะกะ|ไหม|dynamicis...</td>\n",
       "      <td>neg</td>\n",
       "    </tr>\n",
       "    <tr>\n",
       "      <th>3</th>\n",
       "      <td>เล็ง|ไอโฟน|iPhone 14|ส่วนตัว|ชอบ|dynamicisland...</td>\n",
       "      <td>pos</td>\n",
       "    </tr>\n",
       "    <tr>\n",
       "      <th>4</th>\n",
       "      <td>ขายดี|ทำ|จอ|เป็นตัว|เริ่มต้น</td>\n",
       "      <td>pos</td>\n",
       "    </tr>\n",
       "    <tr>\n",
       "      <th>...</th>\n",
       "      <td>...</td>\n",
       "      <td>...</td>\n",
       "    </tr>\n",
       "    <tr>\n",
       "      <th>544</th>\n",
       "      <td>ตอนแรก|ซื้อ|promax|dynamixisland|ตอนนี้|คิดดู|...</td>\n",
       "      <td>pos</td>\n",
       "    </tr>\n",
       "    <tr>\n",
       "      <th>545</th>\n",
       "      <td>ว้าว|เรย|iPhone 13 Pro|ต่อไป|มีปัญหา|จอ|บาก|อย...</td>\n",
       "      <td>neg</td>\n",
       "    </tr>\n",
       "    <tr>\n",
       "      <th>546</th>\n",
       "      <td>ผม|iphone|แนะนำ|iPhone 13|ดี|iPhone 14|ดี</td>\n",
       "      <td>pos</td>\n",
       "    </tr>\n",
       "    <tr>\n",
       "      <th>547</th>\n",
       "      <td>กล้อง|ถ่าย|คลิป|ชัด</td>\n",
       "      <td>pos</td>\n",
       "    </tr>\n",
       "    <tr>\n",
       "      <th>548</th>\n",
       "      <td>iPhone 14 Pro|แน่|รู้|สี|ดี|สวย|สี</td>\n",
       "      <td>pos</td>\n",
       "    </tr>\n",
       "  </tbody>\n",
       "</table>\n",
       "<p>549 rows × 2 columns</p>\n",
       "</div>"
      ],
      "text/plain": [
       "                                               comment sentiment_data\n",
       "0           ไอโฟน|คำแนะนำ|iPhone 14|ตัว|ดี|ปกติ|ซัมซุง            pos\n",
       "1    ตัดสินใจ|อยู่เลย|เลือก|ตัว|ดี|iPhone 14 Plus|i...            pos\n",
       "2    เลือก|iPhone 14 Pro|ตอนแรก|เกะกะ|ไหม|dynamicis...            neg\n",
       "3    เล็ง|ไอโฟน|iPhone 14|ส่วนตัว|ชอบ|dynamicisland...            pos\n",
       "4                         ขายดี|ทำ|จอ|เป็นตัว|เริ่มต้น            pos\n",
       "..                                                 ...            ...\n",
       "544  ตอนแรก|ซื้อ|promax|dynamixisland|ตอนนี้|คิดดู|...            pos\n",
       "545  ว้าว|เรย|iPhone 13 Pro|ต่อไป|มีปัญหา|จอ|บาก|อย...            neg\n",
       "546          ผม|iphone|แนะนำ|iPhone 13|ดี|iPhone 14|ดี            pos\n",
       "547                                กล้อง|ถ่าย|คลิป|ชัด            pos\n",
       "548                 iPhone 14 Pro|แน่|รู้|สี|ดี|สวย|สี            pos\n",
       "\n",
       "[549 rows x 2 columns]"
      ]
     },
     "execution_count": 27,
     "metadata": {},
     "output_type": "execute_result"
    }
   ],
   "source": [
    "final_result = pd.concat([results_df,results_df2,results_df3,results_df4,results_df5,results_df6,results_df7,results_df8])\n",
    "final_result = final_result[final_result[\"sentiment_data\"]!=\"neu\"]\n",
    "final_result.reset_index(drop=True, inplace=True)\n",
    "final_result.to_csv(\"final_data.csv\")\n",
    "final_result"
   ]
  },
  {
   "cell_type": "code",
   "execution_count": 28,
   "metadata": {},
   "outputs": [
    {
     "data": {
      "text/plain": [
       "pos    418\n",
       "neg    131\n",
       "Name: sentiment_data, dtype: int64"
      ]
     },
     "execution_count": 28,
     "metadata": {},
     "output_type": "execute_result"
    }
   ],
   "source": [
    "final_result['sentiment_data'].value_counts()"
   ]
  },
  {
   "cell_type": "markdown",
   "metadata": {},
   "source": [
    "สร้าง Visualization ของ WordCloud เพื่อดูความถี่ของข้อมูล"
   ]
  },
  {
   "cell_type": "code",
   "execution_count": 63,
   "metadata": {},
   "outputs": [],
   "source": [
    "# from wordcloud import WordCloud\n",
    "\n",
    "# pos_word_all = final_result[final_result['sentiment_data'] == 'neg']\n",
    "# pos_word_all = \"|\".join(text for text in final_result['comment'])\n",
    "# # pos_word_all\n",
    "# reg = r\"[ก-๙a-zA-Z0-9']+\"\n",
    "# fp = 'THSarabunNew.ttf'\n",
    "# wordcloud = WordCloud(stopwords=thai_stopwords,background_color = 'white', max_words=500, height = 500, width=1000, font_path=fp, regexp=reg).generate(pos_word_all)\n",
    "# plt.figure(figsize = (10,8))\n",
    "# plt.imshow(wordcloud)\n",
    "# plt.axis('off')\n",
    "# plt.show()"
   ]
  },
  {
   "cell_type": "markdown",
   "metadata": {},
   "source": [
    "ตัวอย่างที่ทดลองจากไฟล์ data.csv ขึ้นละอันกับข้างบน"
   ]
  },
  {
   "cell_type": "code",
   "execution_count": 84,
   "metadata": {},
   "outputs": [
    {
     "data": {
      "text/plain": [
       "pos    126\n",
       "neg     39\n",
       "Name: sentiment_data, dtype: int64"
      ]
     },
     "execution_count": 84,
     "metadata": {},
     "output_type": "execute_result"
    }
   ],
   "source": [
    "from sklearn.model_selection import train_test_split\n",
    "data = pd.read_csv(\"final_data.csv\",index_col=0)\n",
    "# data = data[data[\"sentiment_data\"]!=\"neu\"]\n",
    "\n",
    "X = data['comment']\n",
    "y = data['sentiment_data']\n",
    "\n",
    "X_train, X_test, y_train, y_test = train_test_split(X, y, test_size=0.3, random_state=0,stratify=y)\n",
    "y_test.value_counts()"
   ]
  },
  {
   "cell_type": "code",
   "execution_count": 85,
   "metadata": {},
   "outputs": [],
   "source": [
    "from sklearn.feature_extraction.text import CountVectorizer\n",
    "\n",
    "cvec = CountVectorizer(analyzer=lambda x:x.split('|'))\n",
    "X_train = cvec.fit_transform(X_train)\n",
    "X_test = cvec.transform(X_test)"
   ]
  },
  {
   "cell_type": "code",
   "execution_count": 95,
   "metadata": {},
   "outputs": [
    {
     "data": {
      "text/html": [
       "<style>#sk-container-id-10 {color: black;background-color: white;}#sk-container-id-10 pre{padding: 0;}#sk-container-id-10 div.sk-toggleable {background-color: white;}#sk-container-id-10 label.sk-toggleable__label {cursor: pointer;display: block;width: 100%;margin-bottom: 0;padding: 0.3em;box-sizing: border-box;text-align: center;}#sk-container-id-10 label.sk-toggleable__label-arrow:before {content: \"▸\";float: left;margin-right: 0.25em;color: #696969;}#sk-container-id-10 label.sk-toggleable__label-arrow:hover:before {color: black;}#sk-container-id-10 div.sk-estimator:hover label.sk-toggleable__label-arrow:before {color: black;}#sk-container-id-10 div.sk-toggleable__content {max-height: 0;max-width: 0;overflow: hidden;text-align: left;background-color: #f0f8ff;}#sk-container-id-10 div.sk-toggleable__content pre {margin: 0.2em;color: black;border-radius: 0.25em;background-color: #f0f8ff;}#sk-container-id-10 input.sk-toggleable__control:checked~div.sk-toggleable__content {max-height: 200px;max-width: 100%;overflow: auto;}#sk-container-id-10 input.sk-toggleable__control:checked~label.sk-toggleable__label-arrow:before {content: \"▾\";}#sk-container-id-10 div.sk-estimator input.sk-toggleable__control:checked~label.sk-toggleable__label {background-color: #d4ebff;}#sk-container-id-10 div.sk-label input.sk-toggleable__control:checked~label.sk-toggleable__label {background-color: #d4ebff;}#sk-container-id-10 input.sk-hidden--visually {border: 0;clip: rect(1px 1px 1px 1px);clip: rect(1px, 1px, 1px, 1px);height: 1px;margin: -1px;overflow: hidden;padding: 0;position: absolute;width: 1px;}#sk-container-id-10 div.sk-estimator {font-family: monospace;background-color: #f0f8ff;border: 1px dotted black;border-radius: 0.25em;box-sizing: border-box;margin-bottom: 0.5em;}#sk-container-id-10 div.sk-estimator:hover {background-color: #d4ebff;}#sk-container-id-10 div.sk-parallel-item::after {content: \"\";width: 100%;border-bottom: 1px solid gray;flex-grow: 1;}#sk-container-id-10 div.sk-label:hover label.sk-toggleable__label {background-color: #d4ebff;}#sk-container-id-10 div.sk-serial::before {content: \"\";position: absolute;border-left: 1px solid gray;box-sizing: border-box;top: 0;bottom: 0;left: 50%;z-index: 0;}#sk-container-id-10 div.sk-serial {display: flex;flex-direction: column;align-items: center;background-color: white;padding-right: 0.2em;padding-left: 0.2em;position: relative;}#sk-container-id-10 div.sk-item {position: relative;z-index: 1;}#sk-container-id-10 div.sk-parallel {display: flex;align-items: stretch;justify-content: center;background-color: white;position: relative;}#sk-container-id-10 div.sk-item::before, #sk-container-id-10 div.sk-parallel-item::before {content: \"\";position: absolute;border-left: 1px solid gray;box-sizing: border-box;top: 0;bottom: 0;left: 50%;z-index: -1;}#sk-container-id-10 div.sk-parallel-item {display: flex;flex-direction: column;z-index: 1;position: relative;background-color: white;}#sk-container-id-10 div.sk-parallel-item:first-child::after {align-self: flex-end;width: 50%;}#sk-container-id-10 div.sk-parallel-item:last-child::after {align-self: flex-start;width: 50%;}#sk-container-id-10 div.sk-parallel-item:only-child::after {width: 0;}#sk-container-id-10 div.sk-dashed-wrapped {border: 1px dashed gray;margin: 0 0.4em 0.5em 0.4em;box-sizing: border-box;padding-bottom: 0.4em;background-color: white;}#sk-container-id-10 div.sk-label label {font-family: monospace;font-weight: bold;display: inline-block;line-height: 1.2em;}#sk-container-id-10 div.sk-label-container {text-align: center;}#sk-container-id-10 div.sk-container {/* jupyter's `normalize.less` sets `[hidden] { display: none; }` but bootstrap.min.css set `[hidden] { display: none !important; }` so we also need the `!important` here to be able to override the default hidden behavior on the sphinx rendered scikit-learn.org. See: https://github.com/scikit-learn/scikit-learn/issues/21755 */display: inline-block !important;position: relative;}#sk-container-id-10 div.sk-text-repr-fallback {display: none;}</style><div id=\"sk-container-id-10\" class=\"sk-top-container\"><div class=\"sk-text-repr-fallback\"><pre>LogisticRegression()</pre><b>In a Jupyter environment, please rerun this cell to show the HTML representation or trust the notebook. <br />On GitHub, the HTML representation is unable to render, please try loading this page with nbviewer.org.</b></div><div class=\"sk-container\" hidden><div class=\"sk-item\"><div class=\"sk-estimator sk-toggleable\"><input class=\"sk-toggleable__control sk-hidden--visually\" id=\"sk-estimator-id-10\" type=\"checkbox\" checked><label for=\"sk-estimator-id-10\" class=\"sk-toggleable__label sk-toggleable__label-arrow\">LogisticRegression</label><div class=\"sk-toggleable__content\"><pre>LogisticRegression()</pre></div></div></div></div></div>"
      ],
      "text/plain": [
       "LogisticRegression()"
      ]
     },
     "execution_count": 95,
     "metadata": {},
     "output_type": "execute_result"
    }
   ],
   "source": [
    "model1 = LogisticRegression()\n",
    "model1.fit(X_train, y_train)"
   ]
  },
  {
   "cell_type": "code",
   "execution_count": 96,
   "metadata": {},
   "outputs": [
    {
     "name": "stdout",
     "output_type": "stream",
     "text": [
      "Accuracy score: 0.8364\n",
      "------------------------------------------------------------\n",
      "              precision    recall  f1-score   support\n",
      "\n",
      "         neg       0.33      0.93      0.49        14\n",
      "         pos       0.99      0.83      0.90       151\n",
      "\n",
      "    accuracy                           0.84       165\n",
      "   macro avg       0.66      0.88      0.70       165\n",
      "weighted avg       0.94      0.84      0.87       165\n",
      "\n"
     ]
    },
    {
     "data": {
      "image/png": "[encoded data removed]",
      "text/plain": [
       "<Figure size 500x500 with 2 Axes>"
      ]
     },
     "metadata": {},
     "output_type": "display_data"
    }
   ],
   "source": [
    "prediction1 = model1.predict(X_test)\n",
    "# print(\"-\"*20+\"LogisticRegression Model\"+\"-\"*20)\n",
    "acc1 = accuracy_score(y_test, prediction1)\n",
    "showConfisionMatrix(y_test, prediction1)"
   ]
  },
  {
   "cell_type": "code",
   "execution_count": null,
   "metadata": {},
   "outputs": [],
   "source": [
    "model2 = svm.SVC()\n",
    "model2.fit(X_train, y_train)"
   ]
  },
  {
   "cell_type": "code",
   "execution_count": 46,
   "metadata": {},
   "outputs": [
    {
     "name": "stdout",
     "output_type": "stream",
     "text": [
      "Accuracy score: 0.7636\n",
      "------------------------------------------------------------\n",
      "              precision    recall  f1-score   support\n",
      "\n",
      "         neg       0.00      0.00      0.00         0\n",
      "         pos       1.00      0.76      0.87       165\n",
      "\n",
      "    accuracy                           0.76       165\n",
      "   macro avg       0.50      0.38      0.43       165\n",
      "weighted avg       1.00      0.76      0.87       165\n",
      "\n"
     ]
    },
    {
     "name": "stderr",
     "output_type": "stream",
     "text": [
      "c:\\Python310\\lib\\site-packages\\sklearn\\metrics\\_classification.py:1344: UndefinedMetricWarning: Recall and F-score are ill-defined and being set to 0.0 in labels with no true samples. Use `zero_division` parameter to control this behavior.\n",
      "  _warn_prf(average, modifier, msg_start, len(result))\n",
      "c:\\Python310\\lib\\site-packages\\sklearn\\metrics\\_classification.py:1344: UndefinedMetricWarning: Recall and F-score are ill-defined and being set to 0.0 in labels with no true samples. Use `zero_division` parameter to control this behavior.\n",
      "  _warn_prf(average, modifier, msg_start, len(result))\n",
      "c:\\Python310\\lib\\site-packages\\sklearn\\metrics\\_classification.py:1344: UndefinedMetricWarning: Recall and F-score are ill-defined and being set to 0.0 in labels with no true samples. Use `zero_division` parameter to control this behavior.\n",
      "  _warn_prf(average, modifier, msg_start, len(result))\n"
     ]
    },
    {
     "data": {
      "image/png": "[encoded data removed]",
      "text/plain": [
       "<Figure size 500x500 with 2 Axes>"
      ]
     },
     "metadata": {},
     "output_type": "display_data"
    }
   ],
   "source": [
    "prediction2 = model2.predict(X_test)\n",
    "# print(\"-\"*15+\"Support Vector Machine Model\"+\"-\"*15)\n",
    "acc2 = accuracy_score(y_test, prediction2)\n",
    "showConfisionMatrix(y_test, prediction2)"
   ]
  },
  {
   "cell_type": "code",
   "execution_count": 47,
   "metadata": {},
   "outputs": [
    {
     "data": {
      "text/html": [
       "<style>#sk-container-id-6 {color: black;background-color: white;}#sk-container-id-6 pre{padding: 0;}#sk-container-id-6 div.sk-toggleable {background-color: white;}#sk-container-id-6 label.sk-toggleable__label {cursor: pointer;display: block;width: 100%;margin-bottom: 0;padding: 0.3em;box-sizing: border-box;text-align: center;}#sk-container-id-6 label.sk-toggleable__label-arrow:before {content: \"▸\";float: left;margin-right: 0.25em;color: #696969;}#sk-container-id-6 label.sk-toggleable__label-arrow:hover:before {color: black;}#sk-container-id-6 div.sk-estimator:hover label.sk-toggleable__label-arrow:before {color: black;}#sk-container-id-6 div.sk-toggleable__content {max-height: 0;max-width: 0;overflow: hidden;text-align: left;background-color: #f0f8ff;}#sk-container-id-6 div.sk-toggleable__content pre {margin: 0.2em;color: black;border-radius: 0.25em;background-color: #f0f8ff;}#sk-container-id-6 input.sk-toggleable__control:checked~div.sk-toggleable__content {max-height: 200px;max-width: 100%;overflow: auto;}#sk-container-id-6 input.sk-toggleable__control:checked~label.sk-toggleable__label-arrow:before {content: \"▾\";}#sk-container-id-6 div.sk-estimator input.sk-toggleable__control:checked~label.sk-toggleable__label {background-color: #d4ebff;}#sk-container-id-6 div.sk-label input.sk-toggleable__control:checked~label.sk-toggleable__label {background-color: #d4ebff;}#sk-container-id-6 input.sk-hidden--visually {border: 0;clip: rect(1px 1px 1px 1px);clip: rect(1px, 1px, 1px, 1px);height: 1px;margin: -1px;overflow: hidden;padding: 0;position: absolute;width: 1px;}#sk-container-id-6 div.sk-estimator {font-family: monospace;background-color: #f0f8ff;border: 1px dotted black;border-radius: 0.25em;box-sizing: border-box;margin-bottom: 0.5em;}#sk-container-id-6 div.sk-estimator:hover {background-color: #d4ebff;}#sk-container-id-6 div.sk-parallel-item::after {content: \"\";width: 100%;border-bottom: 1px solid gray;flex-grow: 1;}#sk-container-id-6 div.sk-label:hover label.sk-toggleable__label {background-color: #d4ebff;}#sk-container-id-6 div.sk-serial::before {content: \"\";position: absolute;border-left: 1px solid gray;box-sizing: border-box;top: 0;bottom: 0;left: 50%;z-index: 0;}#sk-container-id-6 div.sk-serial {display: flex;flex-direction: column;align-items: center;background-color: white;padding-right: 0.2em;padding-left: 0.2em;position: relative;}#sk-container-id-6 div.sk-item {position: relative;z-index: 1;}#sk-container-id-6 div.sk-parallel {display: flex;align-items: stretch;justify-content: center;background-color: white;position: relative;}#sk-container-id-6 div.sk-item::before, #sk-container-id-6 div.sk-parallel-item::before {content: \"\";position: absolute;border-left: 1px solid gray;box-sizing: border-box;top: 0;bottom: 0;left: 50%;z-index: -1;}#sk-container-id-6 div.sk-parallel-item {display: flex;flex-direction: column;z-index: 1;position: relative;background-color: white;}#sk-container-id-6 div.sk-parallel-item:first-child::after {align-self: flex-end;width: 50%;}#sk-container-id-6 div.sk-parallel-item:last-child::after {align-self: flex-start;width: 50%;}#sk-container-id-6 div.sk-parallel-item:only-child::after {width: 0;}#sk-container-id-6 div.sk-dashed-wrapped {border: 1px dashed gray;margin: 0 0.4em 0.5em 0.4em;box-sizing: border-box;padding-bottom: 0.4em;background-color: white;}#sk-container-id-6 div.sk-label label {font-family: monospace;font-weight: bold;display: inline-block;line-height: 1.2em;}#sk-container-id-6 div.sk-label-container {text-align: center;}#sk-container-id-6 div.sk-container {/* jupyter's `normalize.less` sets `[hidden] { display: none; }` but bootstrap.min.css set `[hidden] { display: none !important; }` so we also need the `!important` here to be able to override the default hidden behavior on the sphinx rendered scikit-learn.org. See: https://github.com/scikit-learn/scikit-learn/issues/21755 */display: inline-block !important;position: relative;}#sk-container-id-6 div.sk-text-repr-fallback {display: none;}</style><div id=\"sk-container-id-6\" class=\"sk-top-container\"><div class=\"sk-text-repr-fallback\"><pre>MultinomialNB()</pre><b>In a Jupyter environment, please rerun this cell to show the HTML representation or trust the notebook. <br />On GitHub, the HTML representation is unable to render, please try loading this page with nbviewer.org.</b></div><div class=\"sk-container\" hidden><div class=\"sk-item\"><div class=\"sk-estimator sk-toggleable\"><input class=\"sk-toggleable__control sk-hidden--visually\" id=\"sk-estimator-id-6\" type=\"checkbox\" checked><label for=\"sk-estimator-id-6\" class=\"sk-toggleable__label sk-toggleable__label-arrow\">MultinomialNB</label><div class=\"sk-toggleable__content\"><pre>MultinomialNB()</pre></div></div></div></div></div>"
      ],
      "text/plain": [
       "MultinomialNB()"
      ]
     },
     "execution_count": 47,
     "metadata": {},
     "output_type": "execute_result"
    }
   ],
   "source": [
    "model3 = MultinomialNB()\n",
    "model3.fit(X_train, y_train)"
   ]
  },
  {
   "cell_type": "code",
   "execution_count": 48,
   "metadata": {},
   "outputs": [
    {
     "name": "stdout",
     "output_type": "stream",
     "text": [
      "Accuracy score: 0.8061\n",
      "------------------------------------------------------------\n",
      "              precision    recall  f1-score   support\n",
      "\n",
      "         neg       0.23      0.82      0.36        11\n",
      "         pos       0.98      0.81      0.89       154\n",
      "\n",
      "    accuracy                           0.81       165\n",
      "   macro avg       0.61      0.81      0.62       165\n",
      "weighted avg       0.93      0.81      0.85       165\n",
      "\n"
     ]
    },
    {
     "data": {
      "image/png": "[encoded data removed]",
      "text/plain": [
       "<Figure size 500x500 with 2 Axes>"
      ]
     },
     "metadata": {},
     "output_type": "display_data"
    }
   ],
   "source": [
    "prediction3 = model3.predict(X_test)\n",
    "# print(\"-\"*20+\"Naive Bayes Model\"+\"-\"*20)\n",
    "acc3 = accuracy_score(y_test, prediction3)\n",
    "showConfisionMatrix(y_test, prediction3)"
   ]
  },
  {
   "attachments": {},
   "cell_type": "markdown",
   "metadata": {},
   "source": [
    "# การเปรียบเทียบค่าคะแนนความถูกต้องของ 3 Model"
   ]
  },
  {
   "cell_type": "code",
   "execution_count": 52,
   "metadata": {},
   "outputs": [],
   "source": [
    "model_score = [[\"LogisticRegression\",acc1],[\"SVM\",acc2],[\"Naive bayes\",acc3]]\n",
    "df_test = pd.DataFrame(model_score, columns=['Classfier','Accuracy_score'])"
   ]
  },
  {
   "cell_type": "code",
   "execution_count": 53,
   "metadata": {},
   "outputs": [
    {
     "data": {
      "text/html": [
       "<div>\n",
       "<style scoped>\n",
       "    .dataframe tbody tr th:only-of-type {\n",
       "        vertical-align: middle;\n",
       "    }\n",
       "\n",
       "    .dataframe tbody tr th {\n",
       "        vertical-align: top;\n",
       "    }\n",
       "\n",
       "    .dataframe thead th {\n",
       "        text-align: right;\n",
       "    }\n",
       "</style>\n",
       "<table border=\"1\" class=\"dataframe\">\n",
       "  <thead>\n",
       "    <tr style=\"text-align: right;\">\n",
       "      <th></th>\n",
       "      <th>Classfier</th>\n",
       "      <th>Accuracy_score</th>\n",
       "    </tr>\n",
       "  </thead>\n",
       "  <tbody>\n",
       "    <tr>\n",
       "      <th>0</th>\n",
       "      <td>LogisticRegression</td>\n",
       "      <td>0.836364</td>\n",
       "    </tr>\n",
       "    <tr>\n",
       "      <th>2</th>\n",
       "      <td>Naive bayes</td>\n",
       "      <td>0.806061</td>\n",
       "    </tr>\n",
       "    <tr>\n",
       "      <th>1</th>\n",
       "      <td>SVM</td>\n",
       "      <td>0.763636</td>\n",
       "    </tr>\n",
       "  </tbody>\n",
       "</table>\n",
       "</div>"
      ],
      "text/plain": [
       "            Classfier  Accuracy_score\n",
       "0  LogisticRegression        0.836364\n",
       "2         Naive bayes        0.806061\n",
       "1                 SVM        0.763636"
      ]
     },
     "execution_count": 53,
     "metadata": {},
     "output_type": "execute_result"
    }
   ],
   "source": [
    "df_test = df_test.sort_values('Accuracy_score', ascending=False)\n",
    "df_test"
   ]
  },
  {
   "cell_type": "code",
   "execution_count": 54,
   "metadata": {},
   "outputs": [
    {
     "data": {
      "image/png": "[encoded data removed]",
      "text/plain": [
       "<Figure size 500x400 with 1 Axes>"
      ]
     },
     "metadata": {},
     "output_type": "display_data"
    }
   ],
   "source": [
    "fig, ax = plt.subplots(figsize=(5, 4))\n",
    "barchart = sns.barplot(x=df_test['Classfier'], y=df_test['Accuracy_score'])\n",
    "barchart.bar_label(ax.containers[0], label_type='edge', padding=15)\n",
    "ax.margins(y=0.2)"
   ]
  },
  {
   "cell_type": "markdown",
   "metadata": {},
   "source": [
    "# Test Code Python"
   ]
  },
  {
   "cell_type": "code",
   "execution_count": null,
   "metadata": {},
   "outputs": [],
   "source": [
    "def remove_digit(data):\n",
    "    # memory = re.compile(\")\n",
    "    # price = re.compile()\n",
    "\n",
    "    return data"
   ]
  },
  {
   "cell_type": "code",
   "execution_count": null,
   "metadata": {},
   "outputs": [
    {
     "data": {
      "text/plain": [
       "'ผมได้i14 มาราคา26, จากโปรลดกลับเทรดเครื่องคุ้มมั้ยคับ'"
      ]
     },
     "execution_count": 238,
     "metadata": {},
     "output_type": "execute_result"
    }
   ],
   "source": [
    "text = \"ผมได้i14 128gbมาราคา26,000 จากโปรลดกลับเทรดเครื่องคุ้มมั้ยคับ\"\n",
    "remove_digit(text)"
   ]
  },
  {
   "cell_type": "code",
   "execution_count": null,
   "metadata": {},
   "outputs": [],
   "source": [
    "def analyze_sentiment_AIforthai(df):\n",
    "    api_key = \"FOFZpO9UFwSMquHMwVmZ7cjebmv0Yv8a\"\n",
    "    results_df = pd.DataFrame(columns=[\"comment\", \"sentiment_data\"])\n",
    "    for index, row in df.iterrows():\n",
    "        sentence_id = row[df['_id']]\n",
    "        comment = row[df['textDisplay']]\n",
    "        response = requests.post(\n",
    "            \"https://api.aiforthai.in.th/ssense\",\n",
    "            data={\"text\": comment},\n",
    "            headers={\"Apikey\": api_key}\n",
    "        )\n",
    "        sentiment_data = dict(response.json())\n",
    "        if sentiment_data[\"sentiment\"][\"score\"] == \"0\":\n",
    "            sentiment_data = \"neu\"\n",
    "        else:\n",
    "            sentiment_data = sentiment_data[\"sentiment\"]['polarity'][:3]\n",
    "        results_df.loc[index] = [sentence_id,comment, sentiment_data]\n",
    "    return results_df"
   ]
  }
 ],
 "metadata": {
  "kernelspec": {
   "display_name": "Python 3 (ipykernel)",
   "language": "python",
   "name": "python3"
  },
  "language_info": {
   "codemirror_mode": {
    "name": "ipython",
    "version": 3
   },
   "file_extension": ".py",
   "mimetype": "text/x-python",
   "name": "python",
   "nbconvert_exporter": "python",
   "pygments_lexer": "ipython3",
   "version": "3.10.5"
  },
  "vscode": {
   "interpreter": {
    "hash": "369f2c481f4da34e4445cda3fffd2e751bd1c4d706f27375911949ba6bb62e1c"
   }
  }
 },
 "nbformat": 4,
 "nbformat_minor": 2
}
