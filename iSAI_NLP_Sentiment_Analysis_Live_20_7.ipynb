{
  "cells": [
    {
      "cell_type": "markdown",
      "metadata": {
        "id": "cKn1dui0RkV6"
      },
      "source": [
        "**Dataset Reference:**\n",
        "\n",
        "https://github.com/PyThaiNLP/wisesight-sentiment\n",
        "\n",
        "Arthit Suriyawongkul, Ekapol Chuangsuwanich, Pattarawat Chormai, and Charin Polpanumas. 2019. PyThaiNLP/wisesight-sentiment: First release. September."
      ]
    },
    {
      "cell_type": "markdown",
      "metadata": {
        "id": "LUDXpWAnl9_p"
      },
      "source": [
        "# Setup"
      ]
    },
    {
      "cell_type": "markdown",
      "metadata": {
        "id": "lUIGmJ4ypNv5"
      },
      "source": [
        "Download ไฟล์ข้อมูล csv (Comma-Separated Value)"
      ]
    },
    {
      "cell_type": "code",
      "execution_count": 6,
      "metadata": {
        "colab": {
          "base_uri": "https://localhost:8080/"
        },
        "id": "2IReVYok_71v",
        "outputId": "7dbe3017-22b3-4551-8d2c-d049e6ca203d"
      },
      "outputs": [
        {
          "name": "stdout",
          "output_type": "stream",
          "text": [
            "Requirement already satisfied: gdown in /usr/local/lib/python3.10/dist-packages (4.6.6)\n",
            "Collecting gdown\n",
            "  Downloading gdown-4.7.1-py3-none-any.whl (15 kB)\n",
            "Requirement already satisfied: filelock in /usr/local/lib/python3.10/dist-packages (from gdown) (3.12.2)\n",
            "Requirement already satisfied: requests[socks] in /usr/local/lib/python3.10/dist-packages (from gdown) (2.27.1)\n",
            "Requirement already satisfied: six in /usr/local/lib/python3.10/dist-packages (from gdown) (1.16.0)\n",
            "Requirement already satisfied: tqdm in /usr/local/lib/python3.10/dist-packages (from gdown) (4.65.0)\n",
            "Requirement already satisfied: beautifulsoup4 in /usr/local/lib/python3.10/dist-packages (from gdown) (4.11.2)\n",
            "Requirement already satisfied: soupsieve>1.2 in /usr/local/lib/python3.10/dist-packages (from beautifulsoup4->gdown) (2.4.1)\n",
            "Requirement already satisfied: urllib3<1.27,>=1.21.1 in /usr/local/lib/python3.10/dist-packages (from requests[socks]->gdown) (1.26.16)\n",
            "Requirement already satisfied: certifi>=2017.4.17 in /usr/local/lib/python3.10/dist-packages (from requests[socks]->gdown) (2023.5.7)\n",
            "Requirement already satisfied: charset-normalizer~=2.0.0 in /usr/local/lib/python3.10/dist-packages (from requests[socks]->gdown) (2.0.12)\n",
            "Requirement already satisfied: idna<4,>=2.5 in /usr/local/lib/python3.10/dist-packages (from requests[socks]->gdown) (3.4)\n",
            "Requirement already satisfied: PySocks!=1.5.7,>=1.5.6 in /usr/local/lib/python3.10/dist-packages (from requests[socks]->gdown) (1.7.1)\n",
            "Installing collected packages: gdown\n",
            "  Attempting uninstall: gdown\n",
            "    Found existing installation: gdown 4.6.6\n",
            "    Uninstalling gdown-4.6.6:\n",
            "      Successfully uninstalled gdown-4.6.6\n",
            "Successfully installed gdown-4.7.1\n"
          ]
        }
      ],
      "source": [
        "!pip install --upgrade --no-cache-dir gdown"
      ]
    },
    {
      "cell_type": "code",
      "execution_count": 8,
      "metadata": {
        "colab": {
          "base_uri": "https://localhost:8080/"
        },
        "id": "RbR_2l7Yo7Sj",
        "outputId": "5d4c5172-8a66-434a-c793-fa01adb1a324"
      },
      "outputs": [
        {
          "name": "stdout",
          "output_type": "stream",
          "text": [
            "Downloading...\n",
            "From: https://drive.google.com/uc?id=1hdR3HNcU77iBu5wHEHdW3IvDtBZeAnNZ\n",
            "To: /content/Overall_Corpus.csv\n",
            "\r  0% 0.00/169k [00:00<?, ?B/s]\r100% 169k/169k [00:00<00:00, 130MB/s]\n"
          ]
        }
      ],
      "source": [
        "!gdown 1hdR3HNcU77iBu5wHEHdW3IvDtBZeAnNZ"
      ]
    },
    {
      "cell_type": "markdown",
      "metadata": {
        "id": "isVbxkwcpaiu"
      },
      "source": [
        "ติดตั้ง Library ที่จำเป็นสำหรับการประมวลผลภาษาธรรมชาติที่เป็นภาษาไทย\n",
        "\n",
        "*   https://pythainlp.github.io\n",
        "\n",
        "*   https://pypi.org/project/pythainlp"
      ]
    },
    {
      "cell_type": "code",
      "execution_count": 9,
      "metadata": {
        "colab": {
          "base_uri": "https://localhost:8080/"
        },
        "id": "jXh3MFhSG8q_",
        "outputId": "2c4af44f-a70a-40b5-f948-991c33ec8188"
      },
      "outputs": [
        {
          "name": "stdout",
          "output_type": "stream",
          "text": [
            "Collecting pythainlp\n",
            "  Downloading pythainlp-4.0.2-py3-none-any.whl (13.4 MB)\n",
            "\u001b[2K     \u001b[90m━━━━━━━━━━━━━━━━━━━━━━━━━━━━━━━━━━━━━━━━\u001b[0m \u001b[32m13.4/13.4 MB\u001b[0m \u001b[31m67.6 MB/s\u001b[0m eta \u001b[36m0:00:00\u001b[0m\n",
            "\u001b[?25hRequirement already satisfied: requests>=2.22.0 in /usr/local/lib/python3.10/dist-packages (from pythainlp) (2.27.1)\n",
            "Requirement already satisfied: urllib3<1.27,>=1.21.1 in /usr/local/lib/python3.10/dist-packages (from requests>=2.22.0->pythainlp) (1.26.16)\n",
            "Requirement already satisfied: certifi>=2017.4.17 in /usr/local/lib/python3.10/dist-packages (from requests>=2.22.0->pythainlp) (2023.5.7)\n",
            "Requirement already satisfied: charset-normalizer~=2.0.0 in /usr/local/lib/python3.10/dist-packages (from requests>=2.22.0->pythainlp) (2.0.12)\n",
            "Requirement already satisfied: idna<4,>=2.5 in /usr/local/lib/python3.10/dist-packages (from requests>=2.22.0->pythainlp) (3.4)\n",
            "Installing collected packages: pythainlp\n",
            "Successfully installed pythainlp-4.0.2\n"
          ]
        }
      ],
      "source": [
        "!pip install pythainlp"
      ]
    },
    {
      "cell_type": "markdown",
      "metadata": {
        "id": "flF8vYVnp5WM"
      },
      "source": [
        "import Library และ Function ที่จำเป็น"
      ]
    },
    {
      "cell_type": "code",
      "execution_count": 1,
      "metadata": {
        "id": "ksmUsHYKmKDa"
      },
      "outputs": [],
      "source": [
        "import pandas as pd\n",
        "import matplotlib.pyplot as plt\n",
        "\n",
        "import re\n",
        "import string\n",
        "from pythainlp.corpus.common import thai_stopwords\n",
        "from pythainlp import word_tokenize\n",
        "from pythainlp.util import normalize\n",
        "\n",
        "from sklearn.feature_extraction.text import CountVectorizer\n",
        "from sklearn.model_selection import train_test_split\n",
        "from sklearn import svm\n",
        "from sklearn.naive_bayes import MultinomialNB\n",
        "from sklearn.linear_model import LogisticRegression\n",
        "from sklearn.metrics import accuracy_score, confusion_matrix, ConfusionMatrixDisplay\n",
        "\n",
        "# สร้าง list ของคำหยุด (Stop words) ภาษาไทย\n",
        "th_stopwords = list(thai_stopwords())"
      ]
    },
    {
      "cell_type": "markdown",
      "metadata": {
        "id": "6caJUCcV904H"
      },
      "source": [
        "สร้างฟังก์ชันที่นำผลการทำนายมาเปรียบเทียบกับผลเฉลย นำมาคำนวณ Accuracy Score และแสดง confusion matrix"
      ]
    },
    {
      "cell_type": "code",
      "execution_count": 1,
      "metadata": {
        "id": "RkZmT0vjolpv"
      },
      "outputs": [],
      "source": [
        "def showConfisionMatrix(label, predict):\n",
        "  cm = confusion_matrix(label, predict)\n",
        "  ac = accuracy_score(label, predict)\n",
        "  print(\"Accuracy score: {:.4f}\".format(ac))\n",
        "  disp = ConfusionMatrixDisplay(confusion_matrix=cm, display_labels=[\"neg\", \"neu\", \"pos\"])\n",
        "  fig, ax = plt.subplots(figsize=(8,8))\n",
        "  disp.plot(ax=ax, values_format=\",d\")"
      ]
    },
    {
      "cell_type": "markdown",
      "metadata": {
        "id": "UsE6NcatOJHp"
      },
      "source": [
        "# Load Data"
      ]
    },
    {
      "cell_type": "markdown",
      "metadata": {
        "id": "F21ZRzwsqHIN"
      },
      "source": [
        "*   อ่านไฟล์ข้อมูล csv โดยใช้ Library Pandas\n",
        "*   ตรวจสอบขนาดของไฟล์ข้อมูล\n",
        "*   ตรวจสอบลักษณะของข้อมูลเบื้องต้น\n",
        "\n"
      ]
    },
    {
      "cell_type": "code",
      "execution_count": 6,
      "metadata": {
        "colab": {
          "base_uri": "https://localhost:8080/",
          "height": 223
        },
        "id": "l9en15rX8Hyx",
        "outputId": "972a115c-1459-475b-8f0a-8d6acc08bf6c"
      },
      "outputs": [
        {
          "name": "stdout",
          "output_type": "stream",
          "text": [
            "Dataset contains 1,530 rows 2 columns\n"
          ]
        },
        {
          "data": {
            "text/html": [
              "<div>\n",
              "<style scoped>\n",
              "    .dataframe tbody tr th:only-of-type {\n",
              "        vertical-align: middle;\n",
              "    }\n",
              "\n",
              "    .dataframe tbody tr th {\n",
              "        vertical-align: top;\n",
              "    }\n",
              "\n",
              "    .dataframe thead th {\n",
              "        text-align: right;\n",
              "    }\n",
              "</style>\n",
              "<table border=\"1\" class=\"dataframe\">\n",
              "  <thead>\n",
              "    <tr style=\"text-align: right;\">\n",
              "      <th></th>\n",
              "      <th>textDisplay</th>\n",
              "      <th>Overview sentiment</th>\n",
              "    </tr>\n",
              "  </thead>\n",
              "  <tbody>\n",
              "    <tr>\n",
              "      <th>0</th>\n",
              "      <td>ชอบกล้อง กับ ตัดต่อวีดีโอแค่นั้นแหละถ้าจะซื้อไ...</td>\n",
              "      <td>pos</td>\n",
              "    </tr>\n",
              "    <tr>\n",
              "      <th>1</th>\n",
              "      <td>คุณภาพแบตลดไป 3% เหลือ 97%ถ้าหมดไป1ปี</td>\n",
              "      <td>neu</td>\n",
              "    </tr>\n",
              "    <tr>\n",
              "      <th>2</th>\n",
              "      <td>มันควรปล่อย 120hz ได้แล้ว</td>\n",
              "      <td>neu</td>\n",
              "    </tr>\n",
              "    <tr>\n",
              "      <th>3</th>\n",
              "      <td>กำลังจะตัดสินใจซื้อ 14 แต่พอจอ 60 บายเลยค่ะ</td>\n",
              "      <td>neg</td>\n",
              "    </tr>\n",
              "    <tr>\n",
              "      <th>4</th>\n",
              "      <td>แบตเตอรี่โอเค</td>\n",
              "      <td>pos</td>\n",
              "    </tr>\n",
              "  </tbody>\n",
              "</table>\n",
              "</div>"
            ],
            "text/plain": [
              "                                         textDisplay Overview sentiment\n",
              "0  ชอบกล้อง กับ ตัดต่อวีดีโอแค่นั้นแหละถ้าจะซื้อไ...                pos\n",
              "1             คุณภาพแบตลดไป 3% เหลือ 97%ถ้าหมดไป1ปี                 neu\n",
              "2                         มันควรปล่อย 120hz ได้แล้ว                 neu\n",
              "3        กำลังจะตัดสินใจซื้อ 14 แต่พอจอ 60 บายเลยค่ะ                neg\n",
              "4                                     แบตเตอรี่โอเค                 pos"
            ]
          },
          "execution_count": 6,
          "metadata": {},
          "output_type": "execute_result"
        }
      ],
      "source": [
        "df = pd.read_csv(\"Corpus_after_remove_question_clean.csv\", usecols=[\"textDisplay\", \"Overview sentiment\"]);\n",
        "df = df.dropna()\n",
        "print(\"Dataset contains {:,} rows {} columns\".format(df.shape[0], df.shape[1]))\n",
        "df.head()"
      ]
    },
    {
      "cell_type": "markdown",
      "metadata": {
        "id": "HsUTAIZqq66x"
      },
      "source": [
        "**Question:** จะตรวจสอบ \"ชนิดของข้อมูลที่นำเข้า\" ได้ด้วยวิธีการใด"
      ]
    },
    {
      "cell_type": "code",
      "execution_count": 3,
      "metadata": {
        "colab": {
          "base_uri": "https://localhost:8080/"
        },
        "id": "7TZGM-xorEC2",
        "outputId": "c7d83a23-d0e9-4847-c89c-0d5076567791"
      },
      "outputs": [
        {
          "data": {
            "text/plain": [
              "pandas.core.frame.DataFrame"
            ]
          },
          "execution_count": 3,
          "metadata": {},
          "output_type": "execute_result"
        }
      ],
      "source": [
        "# ==== You Code Here ====\n",
        "type(df)"
      ]
    },
    {
      "cell_type": "markdown",
      "metadata": {
        "id": "q3ae7PzMqgj4"
      },
      "source": [
        "**Code it:** ใช้ function value_counts() เพื่อตรวจสอบว่าข้อมูลที่นำเข้ามา แต่ละ class มีจำนวนเท่าไร"
      ]
    },
    {
      "cell_type": "code",
      "execution_count": 4,
      "metadata": {
        "id": "CoiIIApi_KIh"
      },
      "outputs": [],
      "source": [
        "# ==== Expected Result ===="
      ]
    },
    {
      "cell_type": "code",
      "execution_count": 7,
      "metadata": {
        "colab": {
          "base_uri": "https://localhost:8080/"
        },
        "id": "yOJ7OrC8tFLx",
        "outputId": "1dcfc7e5-021d-404b-88d0-cc631ec3783e"
      },
      "outputs": [
        {
          "data": {
            "text/plain": [
              "neu    613\n",
              "neg    471\n",
              "pos    446\n",
              "Name: Overview sentiment, dtype: int64"
            ]
          },
          "execution_count": 7,
          "metadata": {},
          "output_type": "execute_result"
        }
      ],
      "source": [
        "# ==== You Code Here ====\n",
        "df[\"Overview sentiment\"].value_counts()"
      ]
    },
    {
      "cell_type": "markdown",
      "metadata": {
        "id": "YNGBvtEctJY7"
      },
      "source": [
        "สามารถสร้างกราฟง่าย ๆ เพื่อเปรียบเทียบจำนวนของข้อมูลในแต่ละ class"
      ]
    },
    {
      "cell_type": "code",
      "execution_count": null,
      "metadata": {
        "id": "TSqqAVuHtemK"
      },
      "outputs": [],
      "source": [
        "# ==== Expected Result ===="
      ]
    },
    {
      "cell_type": "code",
      "execution_count": 8,
      "metadata": {
        "colab": {
          "base_uri": "https://localhost:8080/",
          "height": 459
        },
        "id": "VIjIeJje_hwC",
        "outputId": "afd3bcb3-c723-4eac-93f8-fb07f84cd050"
      },
      "outputs": [
        {
          "data": {
            "text/plain": [
              "<AxesSubplot:>"
            ]
          },
          "execution_count": 8,
          "metadata": {},
          "output_type": "execute_result"
        },
        {
          "data": {
            "image/png": "[encoded data removed]",
            "text/plain": [
              "<Figure size 640x480 with 1 Axes>"
            ]
          },
          "metadata": {},
          "output_type": "display_data"
        }
      ],
      "source": [
        "# ==== Revise code ====\n",
        "df[\"Overview sentiment\"].value_counts().plot.bar()"
      ]
    },
    {
      "cell_type": "markdown",
      "metadata": {
        "id": "1cuI2RO0OSYo"
      },
      "source": [
        "# Preprocessing Text Data"
      ]
    },
    {
      "cell_type": "markdown",
      "metadata": {
        "id": "z_Mb6dQ-too_"
      },
      "source": [
        "ทำความสะอาดข้อมูลเบื้องต้น\n",
        "\n",
        "เนื่องจากข้อมูลที่มี อยู่ในลักษณะของข้อความภาษาไทย จึงวางแผนการทำความสะอาดข้อมูล ดังนี้\n",
        "\n",
        "*   ลบตัวเลขออก และแทนค่าด้วยช่องว่าง 1 ช่อง\n",
        "*   ลบเครื่องหมายวรรคตอนออกจากประโยค\n",
        "*   ตัดคำด้วย function word_tokenize จาก Library PyThaiNLP\n",
        "*   ลบ Stop words ออกจากประโยค\n",
        "*   เชื่อมคำที่ถูกตัดแล้ว ให้คั่นด้วยเครื่องหมาย \"|\""
      ]
    },
    {
      "cell_type": "markdown",
      "metadata": {
        "id": "1vlMYOXRH9kA"
      },
      "source": [
        "Series.str.translate(table)\n",
        "\n",
        "Map all characters in the string through the given mapping table\n",
        "\n",
        "str.maketrans()\n",
        "\n",
        "returns a mapping table"
      ]
    },
    {
      "cell_type": "code",
      "execution_count": null,
      "metadata": {
        "id": "4pmFkaguHkJK"
      },
      "outputs": [],
      "source": [
        "# ==== Expected Result ===="
      ]
    },
    {
      "cell_type": "code",
      "execution_count": 9,
      "metadata": {
        "colab": {
          "base_uri": "https://localhost:8080/",
          "height": 206
        },
        "id": "zdSBCXRtvMd6",
        "outputId": "2773ede3-2cd3-4622-f82b-ca5b04250711"
      },
      "outputs": [
        {
          "data": {
            "text/html": [
              "<div>\n",
              "<style scoped>\n",
              "    .dataframe tbody tr th:only-of-type {\n",
              "        vertical-align: middle;\n",
              "    }\n",
              "\n",
              "    .dataframe tbody tr th {\n",
              "        vertical-align: top;\n",
              "    }\n",
              "\n",
              "    .dataframe thead th {\n",
              "        text-align: right;\n",
              "    }\n",
              "</style>\n",
              "<table border=\"1\" class=\"dataframe\">\n",
              "  <thead>\n",
              "    <tr style=\"text-align: right;\">\n",
              "      <th></th>\n",
              "      <th>textDisplay</th>\n",
              "      <th>Overview sentiment</th>\n",
              "      <th>tokenize</th>\n",
              "    </tr>\n",
              "  </thead>\n",
              "  <tbody>\n",
              "    <tr>\n",
              "      <th>0</th>\n",
              "      <td>ชอบกล้อง กับ ตัดต่อวีดีโอแค่นั้นแหละถ้าจะซื้อไ...</td>\n",
              "      <td>pos</td>\n",
              "      <td>ชอบ|กล้อง|กับ|ตัดต่อ|วีดีโอ|แค่|นั้นแหละ|ถ้า|จ...</td>\n",
              "    </tr>\n",
              "    <tr>\n",
              "      <th>1</th>\n",
              "      <td>คุณภาพแบตลดไป 3% เหลือ 97%ถ้าหมดไป1ปี</td>\n",
              "      <td>neu</td>\n",
              "      <td>คุณภาพ|แบต|ลด|ไป|3|เหลือ|97|ถ้า|หมด|ไป|1|ปี</td>\n",
              "    </tr>\n",
              "    <tr>\n",
              "      <th>2</th>\n",
              "      <td>มันควรปล่อย 120hz ได้แล้ว</td>\n",
              "      <td>neu</td>\n",
              "      <td>มัน|ควร|ปล่อย|120|hz|ได้|แล้ว</td>\n",
              "    </tr>\n",
              "    <tr>\n",
              "      <th>3</th>\n",
              "      <td>กำลังจะตัดสินใจซื้อ 14 แต่พอจอ 60 บายเลยค่ะ</td>\n",
              "      <td>neg</td>\n",
              "      <td>กำลังจะ|ตัดสินใจ|ซื้อ|14|แต่|พอ|จอ|60|บาย|เลย|ค่ะ</td>\n",
              "    </tr>\n",
              "    <tr>\n",
              "      <th>4</th>\n",
              "      <td>แบตเตอรี่โอเค</td>\n",
              "      <td>pos</td>\n",
              "      <td>แบตเตอรี่|โอเค</td>\n",
              "    </tr>\n",
              "  </tbody>\n",
              "</table>\n",
              "</div>"
            ],
            "text/plain": [
              "                                         textDisplay Overview sentiment  \\\n",
              "0  ชอบกล้อง กับ ตัดต่อวีดีโอแค่นั้นแหละถ้าจะซื้อไ...                pos   \n",
              "1             คุณภาพแบตลดไป 3% เหลือ 97%ถ้าหมดไป1ปี                 neu   \n",
              "2                         มันควรปล่อย 120hz ได้แล้ว                 neu   \n",
              "3        กำลังจะตัดสินใจซื้อ 14 แต่พอจอ 60 บายเลยค่ะ                neg   \n",
              "4                                     แบตเตอรี่โอเค                 pos   \n",
              "\n",
              "                                            tokenize  \n",
              "0  ชอบ|กล้อง|กับ|ตัดต่อ|วีดีโอ|แค่|นั้นแหละ|ถ้า|จ...  \n",
              "1        คุณภาพ|แบต|ลด|ไป|3|เหลือ|97|ถ้า|หมด|ไป|1|ปี  \n",
              "2                      มัน|ควร|ปล่อย|120|hz|ได้|แล้ว  \n",
              "3  กำลังจะ|ตัดสินใจ|ซื้อ|14|แต่|พอ|จอ|60|บาย|เลย|ค่ะ  \n",
              "4                                     แบตเตอรี่|โอเค  "
            ]
          },
          "execution_count": 9,
          "metadata": {},
          "output_type": "execute_result"
        }
      ],
      "source": [
        "def text_cleansing(sentence):\n",
        "  # sentence = re.sub(r'[0-9]+', ' ', sentence)\n",
        "  sentence = re.sub(r'\\s+', ' ', sentence)\n",
        "  sentence = sentence.translate(str.maketrans(dict.fromkeys(string.punctuation)))\n",
        "  # sentence = normalize(sentence)\n",
        "\n",
        "  # ==== Revise code ==== ตัดคำจากข้อความให้เป็น list\n",
        "  tokens = word_tokenize(sentence, keep_whitespace=False)\n",
        "\n",
        "  # ==== Revise code ==== นำคำที่เป็นคำหยุดออกจาก list คำที่ตัดแล้ว\n",
        "  # tokens = [word for word in tokens if word not in th_stopwords]\n",
        "\n",
        "  # ==== Revise code ==== เชื่อมคำใน list ด้วยเครื่องหมาย \"|\"\n",
        "  return '|'.join(tokens)\n",
        "\n",
        "\n",
        "df['tokenize'] = df['textDisplay'].apply(text_cleansing)\n",
        "df.head()"
      ]
    },
    {
      "cell_type": "code",
      "execution_count": 75,
      "metadata": {},
      "outputs": [],
      "source": [
        "df.to_csv(\"test_pre.csv\")"
      ]
    },
    {
      "cell_type": "markdown",
      "metadata": {
        "id": "s05hyu9D-eTY"
      },
      "source": [
        "# Simple Sentiment Analysis by Polar Word Matching"
      ]
    },
    {
      "cell_type": "markdown",
      "metadata": {
        "id": "KnI0vaNnh23d"
      },
      "source": [
        "ใช้ประโยชน์จากข้อความที่ตัดคำแล้ว เพื่อนับคำที่เกิดขึ้นภายใน class pos และ neg\n",
        "\n",
        "เลือกมาเฉพาะคำที่เกิดมากกว่า 20 ครั้งในไฟล์ข้อมูล"
      ]
    },
    {
      "cell_type": "code",
      "execution_count": null,
      "metadata": {
        "colab": {
          "base_uri": "https://localhost:8080/"
        },
        "id": "6C-rQWm0QG_u",
        "outputId": "5618e1e1-2351-4853-a1c0-7da42922c91e"
      },
      "outputs": [
        {
          "data": {
            "text/plain": [
              "[('ผิว', 157), ('ดี', 154), ('ชอบ', 146), ('สวย', 111), ('หน้า', 102)]"
            ]
          },
          "execution_count": 63,
          "metadata": {},
          "output_type": "execute_result"
        }
      ],
      "source": [
        "# ==== คำที่เกิดขึ้นบ่อยใน class pos ====\n",
        "polar_pos = dict()\n",
        "text_pos = df[df[\"label\"]==\"pos\"]['tokenize'].sum().split(\"|\")\n",
        "for i in text_pos:\n",
        "  if i not in polar_pos:\n",
        "    polar_pos[i] = 1\n",
        "  else:\n",
        "    polar_pos[i] += 1\n",
        "k = list(polar_pos.keys())\n",
        "for i in k:\n",
        "  if polar_pos[i] < 20:\n",
        "    del polar_pos[i]\n",
        "polar_pos = sorted(polar_pos.items(), key=lambda x: x[1], reverse=True)\n",
        "polar_pos[:5]"
      ]
    },
    {
      "cell_type": "code",
      "execution_count": null,
      "metadata": {
        "colab": {
          "base_uri": "https://localhost:8080/"
        },
        "id": "EzKAkjNPWDzi",
        "outputId": "ee0f4fa1-1620-42ea-c86c-c675e7e280c8"
      },
      "outputs": [
        {
          "data": {
            "text/plain": [
              "[('รถ', 397),\n",
              " ('คน', 375),\n",
              " ('กิน', 356),\n",
              " ('ผม', 280),\n",
              " ('ทำ', 266),\n",
              " ('ดี', 253),\n",
              " ('ซื้อ', 239),\n",
              " ('แม่', 190),\n",
              " ('กก', 180),\n",
              " ('เหมือน', 165),\n",
              " ('แพง', 165),\n",
              " ('ขาย', 162),\n",
              " ('ง', 161),\n",
              " ('ดู', 160),\n",
              " ('เรื่อง', 155),\n",
              " ('ราคา', 152),\n",
              " ('ลูกค้า', 151),\n",
              " ('อะ', 150),\n",
              " ('เบียร์', 147),\n",
              " ('รู้', 145)]"
            ]
          },
          "execution_count": 64,
          "metadata": {},
          "output_type": "execute_result"
        }
      ],
      "source": [
        "polar_neg = dict()\n",
        "text_neg = df[df[\"label\"]==\"neg\"]['tokenize'].sum().split(\"|\")\n",
        "for i in text_neg:\n",
        "  if i not in polar_neg:\n",
        "    polar_neg[i] = 1\n",
        "  else:\n",
        "    polar_neg[i] += 1\n",
        "k = list(polar_neg.keys())\n",
        "for i in k:\n",
        "  if polar_neg[i] < 20:\n",
        "    del polar_neg[i]\n",
        "polar_neg = sorted(polar_neg.items(), key=lambda x: x[1], reverse=True)\n",
        "polar_neg[:20]"
      ]
    },
    {
      "cell_type": "markdown",
      "metadata": {
        "id": "3437zfGIiBw0"
      },
      "source": [
        "ใช้คำที่มีความหมายเชิงบวก หรือเชิงลบ (คำระบุขั้วความคิดเห็น: Polarity words/ Polar words) ตรวจสอบข้อมูลด้วยการเปรียบเทียบธรรมดา"
      ]
    },
    {
      "cell_type": "code",
      "execution_count": null,
      "metadata": {
        "colab": {
          "base_uri": "https://localhost:8080/"
        },
        "id": "3EQosNC7-m5Z",
        "outputId": "b3e68c18-fc16-4194-f561-6017451f2b3e"
      },
      "outputs": [
        {
          "data": {
            "text/html": [
              "\n",
              "  <div id=\"df-439af7af-7ac8-40ba-8519-35497e7d6b27\">\n",
              "    <div class=\"colab-df-container\">\n",
              "      <div>\n",
              "<style scoped>\n",
              "    .dataframe tbody tr th:only-of-type {\n",
              "        vertical-align: middle;\n",
              "    }\n",
              "\n",
              "    .dataframe tbody tr th {\n",
              "        vertical-align: top;\n",
              "    }\n",
              "\n",
              "    .dataframe thead th {\n",
              "        text-align: right;\n",
              "    }\n",
              "</style>\n",
              "<table border=\"1\" class=\"dataframe\">\n",
              "  <thead>\n",
              "    <tr style=\"text-align: right;\">\n",
              "      <th></th>\n",
              "      <th>tokenize</th>\n",
              "      <th>label</th>\n",
              "      <th>num_pos</th>\n",
              "      <th>num_neg</th>\n",
              "      <th>predict</th>\n",
              "    </tr>\n",
              "  </thead>\n",
              "  <tbody>\n",
              "    <tr>\n",
              "      <th>0</th>\n",
              "      <td>เน็ต|ควาย|เสียดาย|ตังค์|ติดตั้ง|เน็ต|โค|รต|ห่ว...</td>\n",
              "      <td>neg</td>\n",
              "      <td>0</td>\n",
              "      <td>3</td>\n",
              "      <td>neg</td>\n",
              "    </tr>\n",
              "    <tr>\n",
              "      <th>1</th>\n",
              "      <td>ถอยหลัง|วีค|เอน|วัยรุ่น|ไร้|โปรแกรม|เก๋|แนะนำ|...</td>\n",
              "      <td>neu</td>\n",
              "      <td>0</td>\n",
              "      <td>0</td>\n",
              "      <td>neu</td>\n",
              "    </tr>\n",
              "    <tr>\n",
              "      <th>2</th>\n",
              "      <td>น้ำ|ปกติ|กิน|เนดเล่ย์|คริสตัล|น้ำแร่|กิน|ออ|ร่...</td>\n",
              "      <td>neg</td>\n",
              "      <td>0</td>\n",
              "      <td>0</td>\n",
              "      <td>neu</td>\n",
              "    </tr>\n",
              "    <tr>\n",
              "      <th>3</th>\n",
              "      <td>แอดมิน|ขออภัย|ความไม่สะดวก|ใจจริง|กรอบรูป|วันเ...</td>\n",
              "      <td>neu</td>\n",
              "      <td>0</td>\n",
              "      <td>0</td>\n",
              "      <td>neu</td>\n",
              "    </tr>\n",
              "    <tr>\n",
              "      <th>4</th>\n",
              "      <td>ขอให้|SHEENe|กิจการ|รุ่งเรือง|ขายดี|ยอด|ไลท์|เ...</td>\n",
              "      <td>pos</td>\n",
              "      <td>0</td>\n",
              "      <td>0</td>\n",
              "      <td>neu</td>\n",
              "    </tr>\n",
              "  </tbody>\n",
              "</table>\n",
              "</div>\n",
              "      <button class=\"colab-df-convert\" onclick=\"convertToInteractive('df-439af7af-7ac8-40ba-8519-35497e7d6b27')\"\n",
              "              title=\"Convert this dataframe to an interactive table.\"\n",
              "              style=\"display:none;\">\n",
              "        \n",
              "  <svg xmlns=\"http://www.w3.org/2000/svg\" height=\"24px\"viewBox=\"0 0 24 24\"\n",
              "       width=\"24px\">\n",
              "    <path d=\"M0 0h24v24H0V0z\" fill=\"none\"/>\n",
              "    <path d=\"M18.56 5.44l.94 2.06.94-2.06 2.06-.94-2.06-.94-.94-2.06-.94 2.06-2.06.94zm-11 1L8.5 8.5l.94-2.06 2.06-.94-2.06-.94L8.5 2.5l-.94 2.06-2.06.94zm10 10l.94 2.06.94-2.06 2.06-.94-2.06-.94-.94-2.06-.94 2.06-2.06.94z\"/><path d=\"M17.41 7.96l-1.37-1.37c-.4-.4-.92-.59-1.43-.59-.52 0-1.04.2-1.43.59L10.3 9.45l-7.72 7.72c-.78.78-.78 2.05 0 2.83L4 21.41c.39.39.9.59 1.41.59.51 0 1.02-.2 1.41-.59l7.78-7.78 2.81-2.81c.8-.78.8-2.07 0-2.86zM5.41 20L4 18.59l7.72-7.72 1.47 1.35L5.41 20z\"/>\n",
              "  </svg>\n",
              "      </button>\n",
              "      \n",
              "  <style>\n",
              "    .colab-df-container {\n",
              "      display:flex;\n",
              "      flex-wrap:wrap;\n",
              "      gap: 12px;\n",
              "    }\n",
              "\n",
              "    .colab-df-convert {\n",
              "      background-color: #E8F0FE;\n",
              "      border: none;\n",
              "      border-radius: 50%;\n",
              "      cursor: pointer;\n",
              "      display: none;\n",
              "      fill: #1967D2;\n",
              "      height: 32px;\n",
              "      padding: 0 0 0 0;\n",
              "      width: 32px;\n",
              "    }\n",
              "\n",
              "    .colab-df-convert:hover {\n",
              "      background-color: #E2EBFA;\n",
              "      box-shadow: 0px 1px 2px rgba(60, 64, 67, 0.3), 0px 1px 3px 1px rgba(60, 64, 67, 0.15);\n",
              "      fill: #174EA6;\n",
              "    }\n",
              "\n",
              "    [theme=dark] .colab-df-convert {\n",
              "      background-color: #3B4455;\n",
              "      fill: #D2E3FC;\n",
              "    }\n",
              "\n",
              "    [theme=dark] .colab-df-convert:hover {\n",
              "      background-color: #434B5C;\n",
              "      box-shadow: 0px 1px 3px 1px rgba(0, 0, 0, 0.15);\n",
              "      filter: drop-shadow(0px 1px 2px rgba(0, 0, 0, 0.3));\n",
              "      fill: #FFFFFF;\n",
              "    }\n",
              "  </style>\n",
              "\n",
              "      <script>\n",
              "        const buttonEl =\n",
              "          document.querySelector('#df-439af7af-7ac8-40ba-8519-35497e7d6b27 button.colab-df-convert');\n",
              "        buttonEl.style.display =\n",
              "          google.colab.kernel.accessAllowed ? 'block' : 'none';\n",
              "\n",
              "        async function convertToInteractive(key) {\n",
              "          const element = document.querySelector('#df-439af7af-7ac8-40ba-8519-35497e7d6b27');\n",
              "          const dataTable =\n",
              "            await google.colab.kernel.invokeFunction('convertToInteractive',\n",
              "                                                     [key], {});\n",
              "          if (!dataTable) return;\n",
              "\n",
              "          const docLinkHtml = 'Like what you see? Visit the ' +\n",
              "            '<a target=\"_blank\" href=https://colab.research.google.com/notebooks/data_table.ipynb>data table notebook</a>'\n",
              "            + ' to learn more about interactive tables.';\n",
              "          element.innerHTML = '';\n",
              "          dataTable['output_type'] = 'display_data';\n",
              "          await google.colab.output.renderOutput(dataTable, element);\n",
              "          const docLink = document.createElement('div');\n",
              "          docLink.innerHTML = docLinkHtml;\n",
              "          element.appendChild(docLink);\n",
              "        }\n",
              "      </script>\n",
              "    </div>\n",
              "  </div>\n",
              "  "
            ],
            "text/plain": [
              "                                            tokenize label  ...  num_neg  predict\n",
              "0  เน็ต|ควาย|เสียดาย|ตังค์|ติดตั้ง|เน็ต|โค|รต|ห่ว...   neg  ...        3      neg\n",
              "1  ถอยหลัง|วีค|เอน|วัยรุ่น|ไร้|โปรแกรม|เก๋|แนะนำ|...   neu  ...        0      neu\n",
              "2  น้ำ|ปกติ|กิน|เนดเล่ย์|คริสตัล|น้ำแร่|กิน|ออ|ร่...   neg  ...        0      neu\n",
              "3  แอดมิน|ขออภัย|ความไม่สะดวก|ใจจริง|กรอบรูป|วันเ...   neu  ...        0      neu\n",
              "4  ขอให้|SHEENe|กิจการ|รุ่งเรือง|ขายดี|ยอด|ไลท์|เ...   pos  ...        0      neu\n",
              "\n",
              "[5 rows x 5 columns]"
            ]
          },
          "execution_count": 65,
          "metadata": {},
          "output_type": "execute_result"
        }
      ],
      "source": [
        "polor_pos = [\"ดี\", \"ชอบ\", \"สวย\", \"อร่อย\", \"ดีมาก\", \"ขอบคุณ\", \"สนุก\", \"น่ารัก\"]\n",
        "polor_neg = [\"แพง\", \"แพ้\", \"มีปัญหา\", \"แย่\", \"กลัว\", \"ด่า\", \"ห่วย\", \"เกลียด\",\"โมโห\"]\n",
        "\n",
        "def count_polar_pos(sentence):\n",
        "  tokens = sentence.split(\"|\")\n",
        "  num = len(list(set(tokens) & set(polor_pos)))\n",
        "  return num\n",
        "\n",
        "def count_polar_neg(sentence):\n",
        "  tokens = sentence.split(\"|\")\n",
        "  num = len(list(set(tokens) & set(polor_neg)))\n",
        "  return num\n",
        "\n",
        "def predict_from_polar(row):\n",
        "  if row[\"num_pos\"] > row[\"num_neg\"]:\n",
        "    return \"pos\"\n",
        "  elif row[\"num_pos\"] < row[\"num_neg\"]:\n",
        "    return \"neg\"\n",
        "  else:\n",
        "    return \"neu\"\n",
        "\n",
        "simple_analysis = df[[\"tokenize\", \"label\"]].copy()\n",
        "simple_analysis[\"num_pos\"] = pd.Series(map(count_polar_pos, simple_analysis[\"tokenize\"]), dtype='int32')\n",
        "simple_analysis[\"num_neg\"] = pd.Series(map(count_polar_neg, simple_analysis[\"tokenize\"]), dtype='int32')\n",
        "simple_analysis[\"predict\"] = simple_analysis.apply (lambda row: predict_from_polar(row), axis=1)\n",
        "simple_analysis.head()"
      ]
    },
    {
      "cell_type": "markdown",
      "metadata": {
        "id": "28FL7MBKSQUe"
      },
      "source": [
        "**Code it:** เขียนโปรแกรมเพื่อตรวจสอบข้อความที่มีคำระบุขั้วความคิดเห็น เชิงบวก หรือเชิงลบ"
      ]
    },
    {
      "cell_type": "code",
      "execution_count": null,
      "metadata": {
        "id": "lMLaEZa_RdgJ"
      },
      "outputs": [],
      "source": [
        "# ==== Expected Result ===="
      ]
    },
    {
      "cell_type": "code",
      "execution_count": null,
      "metadata": {
        "colab": {
          "base_uri": "https://localhost:8080/"
        },
        "id": "zAxQ-eqUSnbZ",
        "outputId": "331d36e0-ab98-494b-b56a-069d303f5bc4"
      },
      "outputs": [
        {
          "data": {
            "text/html": [
              "\n",
              "  <div id=\"df-a1fe6dcf-95ff-4fb6-837e-e20225a3d9e1\">\n",
              "    <div class=\"colab-df-container\">\n",
              "      <div>\n",
              "<style scoped>\n",
              "    .dataframe tbody tr th:only-of-type {\n",
              "        vertical-align: middle;\n",
              "    }\n",
              "\n",
              "    .dataframe tbody tr th {\n",
              "        vertical-align: top;\n",
              "    }\n",
              "\n",
              "    .dataframe thead th {\n",
              "        text-align: right;\n",
              "    }\n",
              "</style>\n",
              "<table border=\"1\" class=\"dataframe\">\n",
              "  <thead>\n",
              "    <tr style=\"text-align: right;\">\n",
              "      <th></th>\n",
              "      <th>tokenize</th>\n",
              "      <th>label</th>\n",
              "      <th>num_pos</th>\n",
              "      <th>num_neg</th>\n",
              "      <th>predict</th>\n",
              "    </tr>\n",
              "  </thead>\n",
              "  <tbody>\n",
              "    <tr>\n",
              "      <th>0</th>\n",
              "      <td>เน็ต|ควาย|เสียดาย|ตังค์|ติดตั้ง|เน็ต|โค|รต|ห่ว...</td>\n",
              "      <td>neg</td>\n",
              "      <td>0</td>\n",
              "      <td>3</td>\n",
              "      <td>neg</td>\n",
              "    </tr>\n",
              "    <tr>\n",
              "      <th>6</th>\n",
              "      <td>อันนี้|คน|เต็มใจ|ดูด|ดีกว่า|คน|เลือก|ดีกว่า|บุ...</td>\n",
              "      <td>pos</td>\n",
              "      <td>1</td>\n",
              "      <td>1</td>\n",
              "      <td>neu</td>\n",
              "    </tr>\n",
              "    <tr>\n",
              "      <th>9</th>\n",
              "      <td>กิน|เนื้อ|เนื้อ|แว่น|สะโพก|รู้จัก|ป่ะ|อร่อย|แป...</td>\n",
              "      <td>pos</td>\n",
              "      <td>1</td>\n",
              "      <td>0</td>\n",
              "      <td>pos</td>\n",
              "    </tr>\n",
              "    <tr>\n",
              "      <th>10</th>\n",
              "      <td>เคส|ประจาน|ห่วย|พร|บก|ฏ|หมาย|กี่|ชั่วโมง|โพสต์...</td>\n",
              "      <td>neg</td>\n",
              "      <td>0</td>\n",
              "      <td>1</td>\n",
              "      <td>neg</td>\n",
              "    </tr>\n",
              "    <tr>\n",
              "      <th>12</th>\n",
              "      <td>อนุ|ญาติ|ติ|บริการ|พนักงาน|ร้าน|mk|สาขา|โลตัส|...</td>\n",
              "      <td>neg</td>\n",
              "      <td>1</td>\n",
              "      <td>0</td>\n",
              "      <td>pos</td>\n",
              "    </tr>\n",
              "  </tbody>\n",
              "</table>\n",
              "</div>\n",
              "      <button class=\"colab-df-convert\" onclick=\"convertToInteractive('df-a1fe6dcf-95ff-4fb6-837e-e20225a3d9e1')\"\n",
              "              title=\"Convert this dataframe to an interactive table.\"\n",
              "              style=\"display:none;\">\n",
              "        \n",
              "  <svg xmlns=\"http://www.w3.org/2000/svg\" height=\"24px\"viewBox=\"0 0 24 24\"\n",
              "       width=\"24px\">\n",
              "    <path d=\"M0 0h24v24H0V0z\" fill=\"none\"/>\n",
              "    <path d=\"M18.56 5.44l.94 2.06.94-2.06 2.06-.94-2.06-.94-.94-2.06-.94 2.06-2.06.94zm-11 1L8.5 8.5l.94-2.06 2.06-.94-2.06-.94L8.5 2.5l-.94 2.06-2.06.94zm10 10l.94 2.06.94-2.06 2.06-.94-2.06-.94-.94-2.06-.94 2.06-2.06.94z\"/><path d=\"M17.41 7.96l-1.37-1.37c-.4-.4-.92-.59-1.43-.59-.52 0-1.04.2-1.43.59L10.3 9.45l-7.72 7.72c-.78.78-.78 2.05 0 2.83L4 21.41c.39.39.9.59 1.41.59.51 0 1.02-.2 1.41-.59l7.78-7.78 2.81-2.81c.8-.78.8-2.07 0-2.86zM5.41 20L4 18.59l7.72-7.72 1.47 1.35L5.41 20z\"/>\n",
              "  </svg>\n",
              "      </button>\n",
              "      \n",
              "  <style>\n",
              "    .colab-df-container {\n",
              "      display:flex;\n",
              "      flex-wrap:wrap;\n",
              "      gap: 12px;\n",
              "    }\n",
              "\n",
              "    .colab-df-convert {\n",
              "      background-color: #E8F0FE;\n",
              "      border: none;\n",
              "      border-radius: 50%;\n",
              "      cursor: pointer;\n",
              "      display: none;\n",
              "      fill: #1967D2;\n",
              "      height: 32px;\n",
              "      padding: 0 0 0 0;\n",
              "      width: 32px;\n",
              "    }\n",
              "\n",
              "    .colab-df-convert:hover {\n",
              "      background-color: #E2EBFA;\n",
              "      box-shadow: 0px 1px 2px rgba(60, 64, 67, 0.3), 0px 1px 3px 1px rgba(60, 64, 67, 0.15);\n",
              "      fill: #174EA6;\n",
              "    }\n",
              "\n",
              "    [theme=dark] .colab-df-convert {\n",
              "      background-color: #3B4455;\n",
              "      fill: #D2E3FC;\n",
              "    }\n",
              "\n",
              "    [theme=dark] .colab-df-convert:hover {\n",
              "      background-color: #434B5C;\n",
              "      box-shadow: 0px 1px 3px 1px rgba(0, 0, 0, 0.15);\n",
              "      filter: drop-shadow(0px 1px 2px rgba(0, 0, 0, 0.3));\n",
              "      fill: #FFFFFF;\n",
              "    }\n",
              "  </style>\n",
              "\n",
              "      <script>\n",
              "        const buttonEl =\n",
              "          document.querySelector('#df-a1fe6dcf-95ff-4fb6-837e-e20225a3d9e1 button.colab-df-convert');\n",
              "        buttonEl.style.display =\n",
              "          google.colab.kernel.accessAllowed ? 'block' : 'none';\n",
              "\n",
              "        async function convertToInteractive(key) {\n",
              "          const element = document.querySelector('#df-a1fe6dcf-95ff-4fb6-837e-e20225a3d9e1');\n",
              "          const dataTable =\n",
              "            await google.colab.kernel.invokeFunction('convertToInteractive',\n",
              "                                                     [key], {});\n",
              "          if (!dataTable) return;\n",
              "\n",
              "          const docLinkHtml = 'Like what you see? Visit the ' +\n",
              "            '<a target=\"_blank\" href=https://colab.research.google.com/notebooks/data_table.ipynb>data table notebook</a>'\n",
              "            + ' to learn more about interactive tables.';\n",
              "          element.innerHTML = '';\n",
              "          dataTable['output_type'] = 'display_data';\n",
              "          await google.colab.output.renderOutput(dataTable, element);\n",
              "          const docLink = document.createElement('div');\n",
              "          docLink.innerHTML = docLinkHtml;\n",
              "          element.appendChild(docLink);\n",
              "        }\n",
              "      </script>\n",
              "    </div>\n",
              "  </div>\n",
              "  "
            ],
            "text/plain": [
              "                                             tokenize label  ...  num_neg  predict\n",
              "0   เน็ต|ควาย|เสียดาย|ตังค์|ติดตั้ง|เน็ต|โค|รต|ห่ว...   neg  ...        3      neg\n",
              "6   อันนี้|คน|เต็มใจ|ดูด|ดีกว่า|คน|เลือก|ดีกว่า|บุ...   pos  ...        1      neu\n",
              "9   กิน|เนื้อ|เนื้อ|แว่น|สะโพก|รู้จัก|ป่ะ|อร่อย|แป...   pos  ...        0      pos\n",
              "10  เคส|ประจาน|ห่วย|พร|บก|ฏ|หมาย|กี่|ชั่วโมง|โพสต์...   neg  ...        1      neg\n",
              "12  อนุ|ญาติ|ติ|บริการ|พนักงาน|ร้าน|mk|สาขา|โลตัส|...   neg  ...        0      pos\n",
              "\n",
              "[5 rows x 5 columns]"
            ]
          },
          "execution_count": 67,
          "metadata": {},
          "output_type": "execute_result"
        }
      ],
      "source": [
        "# ====Your Code Here ====\n",
        "ft = (simple_analysis[\"num_pos\"]>0) | (simple_analysis[\"num_neg\"]>0)\n",
        "simple_analysis[ft].head()"
      ]
    },
    {
      "cell_type": "markdown",
      "metadata": {
        "id": "cHLoIGXgzPI5"
      },
      "source": [
        "ตรวจสอบประสิทธิภาพของวิธีการที่ตรวจสอบการเกิดของ \"คำระบุขั้วความคิดเห็น\" ในข้อความ ด้วย Accuracy score และ Confusion Matrix"
      ]
    },
    {
      "cell_type": "code",
      "execution_count": null,
      "metadata": {
        "colab": {
          "base_uri": "https://localhost:8080/"
        },
        "id": "_CuhBaUNFuHM",
        "outputId": "a88338f5-1c3e-48d9-ede9-b545f511af16"
      },
      "outputs": [
        {
          "name": "stdout",
          "output_type": "stream",
          "text": [
            "Accuracy score: 0.5672\n"
          ]
        },
        {
          "data": {
            "image/png": "[encoded data removed]",
            "text/plain": [
              "<Figure size 576x576 with 2 Axes>"
            ]
          },
          "metadata": {
            "needs_background": "light"
          },
          "output_type": "display_data"
        }
      ],
      "source": [
        "showConfisionMatrix(simple_analysis[\"label\"], simple_analysis[\"predict\"])"
      ]
    },
    {
      "cell_type": "markdown",
      "metadata": {
        "id": "jjqEDCnK933s"
      },
      "source": [
        "# Training and Testing Dataset"
      ]
    },
    {
      "cell_type": "markdown",
      "metadata": {
        "id": "VW3fPAwCxgOI"
      },
      "source": [
        "แบ่งข้อมูลออกเป็นชุดฝึกฝน (Training Dataset) และชุดทดสอบ (Testing Dataset)"
      ]
    },
    {
      "cell_type": "code",
      "execution_count": 10,
      "metadata": {
        "colab": {
          "base_uri": "https://localhost:8080/"
        },
        "id": "PpZ4wg2IQbaC",
        "outputId": "ad853baf-fbaa-43a9-bbb6-4729f3631ce2"
      },
      "outputs": [
        {
          "data": {
            "text/plain": [
              "neu    490\n",
              "neg    377\n",
              "pos    357\n",
              "Name: Overview sentiment, dtype: int64"
            ]
          },
          "execution_count": 10,
          "metadata": {},
          "output_type": "execute_result"
        }
      ],
      "source": [
        "X = df[\"tokenize\"]\n",
        "y = df['Overview sentiment']\n",
        "X_train, X_test, y_train, y_test = train_test_split(X, y, test_size=0.2, random_state=101, stratify=y)\n",
        "y_train.value_counts()"
      ]
    },
    {
      "cell_type": "markdown",
      "metadata": {
        "id": "NH34g-0i-BY-"
      },
      "source": [
        "# Generating Bag of Words"
      ]
    },
    {
      "cell_type": "markdown",
      "metadata": {
        "id": "fdjIXZGgxwGy"
      },
      "source": [
        "สร้าง Bag of Words เพื่อนับจำนวนคำแต่ละคำที่เกิดขึ้นในแต่ละข้อความ (1 แถวข้อมูล = 1 ข้อความ)\n",
        "\n",
        "โดยจำนวนของคำทั้งหมดที่เกิดขึ้นในชุดข้อมูลฝึกฝน จะถูกนำมาใช้เป็น feature ในการฝึกฝนแบบจำลอง"
      ]
    },
    {
      "cell_type": "code",
      "execution_count": 11,
      "metadata": {
        "id": "RC6VgDrAJll7"
      },
      "outputs": [],
      "source": [
        "count_vector = CountVectorizer(analyzer=lambda x:x.split('|'))\n",
        "X_train = count_vector.fit_transform(X_train)\n",
        "X_test = count_vector.transform(X_test)"
      ]
    },
    {
      "cell_type": "markdown",
      "metadata": {
        "id": "0CyfifiE-GKz"
      },
      "source": [
        "# Naive Bays Classification"
      ]
    },
    {
      "cell_type": "markdown",
      "metadata": {
        "id": "m5k8NiGJyIoS"
      },
      "source": [
        "เรียกใช้ function สำหรับสร้างแบบจำลอง Multinomial Naive Bays จาก Library Sci-Ket Learn (sklearn) สำหรับงานแยกกลุ่มข้อมูล (ในที่นี้คือแยกข้อความที่มีว่าเป็น class ใด pos neg หรือ neu)"
      ]
    },
    {
      "cell_type": "code",
      "execution_count": 12,
      "metadata": {
        "colab": {
          "base_uri": "https://localhost:8080/"
        },
        "id": "BGyda3ERJzAh",
        "outputId": "99154f90-2014-40cc-9f9d-7ac45b4a63e4"
      },
      "outputs": [
        {
          "data": {
            "text/plain": [
              "array(['pos', 'pos', 'neu', 'neu', 'neg', 'pos', 'pos', 'neg', 'pos',\n",
              "       'pos', 'neg', 'pos', 'pos', 'neu', 'neu', 'neu', 'pos', 'neu',\n",
              "       'pos', 'pos', 'neu', 'neg', 'neg', 'neu', 'neu', 'pos', 'pos',\n",
              "       'neu', 'neu', 'neg', 'neu', 'neu', 'neg', 'pos', 'neg', 'neu',\n",
              "       'neg', 'neu', 'neu', 'pos', 'pos', 'neu', 'neu', 'neu', 'neu',\n",
              "       'pos', 'neu', 'neu', 'neu', 'neg', 'pos', 'neg', 'neu', 'neu',\n",
              "       'neu', 'pos', 'pos', 'pos', 'neu', 'pos', 'neg', 'pos', 'neg',\n",
              "       'neu', 'neg', 'neu', 'neu', 'neu', 'neu', 'pos', 'neu', 'neg',\n",
              "       'pos', 'neg', 'neg', 'neg', 'neg', 'neu', 'neg', 'neg', 'neu',\n",
              "       'neu', 'neg', 'neu', 'neg', 'pos', 'neu', 'neu', 'neg', 'pos',\n",
              "       'neu', 'neg', 'neu', 'pos', 'neg', 'pos', 'neu', 'neu', 'pos',\n",
              "       'neu', 'neu', 'neg', 'pos', 'neg', 'neu', 'pos', 'neu', 'pos',\n",
              "       'pos', 'neu', 'neu', 'neu', 'neu', 'neg', 'pos', 'neu', 'neg',\n",
              "       'neg', 'neg', 'neu', 'neg', 'pos', 'neu', 'neg', 'pos', 'pos',\n",
              "       'neg', 'neg', 'neg', 'pos', 'neu', 'neg', 'pos', 'pos', 'neg',\n",
              "       'neg', 'neu', 'neu', 'neg', 'neu', 'neg', 'neg', 'neu', 'neu',\n",
              "       'neg', 'pos', 'pos', 'neu', 'neu', 'pos', 'pos', 'neu', 'neu',\n",
              "       'neu', 'neu', 'pos', 'pos', 'neg', 'pos', 'neg', 'neg', 'neg',\n",
              "       'neu', 'neu', 'neu', 'neg', 'neu', 'neu', 'pos', 'pos', 'neu',\n",
              "       'neg', 'neu', 'neu', 'pos', 'neu', 'pos', 'neu', 'neu', 'neu',\n",
              "       'pos', 'neu', 'neg', 'neu', 'neu', 'pos', 'pos', 'neg', 'neg',\n",
              "       'neu', 'neg', 'pos', 'neu', 'neu', 'neg', 'pos', 'neg', 'neg',\n",
              "       'neg', 'neu', 'neg', 'neu', 'neu', 'neu', 'neu', 'pos', 'neu',\n",
              "       'neg', 'pos', 'pos', 'pos', 'neu', 'pos', 'neg', 'neg', 'neg',\n",
              "       'neg', 'pos', 'neg', 'neg', 'pos', 'pos', 'pos', 'pos', 'neg',\n",
              "       'pos', 'neu', 'neu', 'neu', 'pos', 'neu', 'neu', 'pos', 'neu',\n",
              "       'neg', 'neg', 'neu', 'neu', 'neu', 'neg', 'pos', 'pos', 'neg',\n",
              "       'pos', 'neu', 'pos', 'pos', 'pos', 'neu', 'neu', 'neg', 'neu',\n",
              "       'neg', 'pos', 'neu', 'pos', 'pos', 'neg', 'neg', 'neg', 'pos',\n",
              "       'neg', 'pos', 'neu', 'pos', 'neg', 'neg', 'pos', 'pos', 'pos',\n",
              "       'pos', 'neg', 'pos', 'neg', 'neg', 'neu', 'neu', 'pos', 'pos',\n",
              "       'pos', 'neu', 'neu', 'pos', 'pos', 'neg', 'neu', 'neu', 'pos',\n",
              "       'neg', 'pos', 'neg', 'neu', 'neu', 'pos', 'neu', 'neu', 'neg',\n",
              "       'neg', 'neu', 'neu', 'pos', 'neg', 'neg', 'pos', 'pos', 'neu'],\n",
              "      dtype='<U3')"
            ]
          },
          "execution_count": 12,
          "metadata": {},
          "output_type": "execute_result"
        }
      ],
      "source": [
        "naive_bayes = MultinomialNB()\n",
        "naive_bayes.fit(X_train, y_train)\n",
        "predictions = naive_bayes.predict(X_test)\n",
        "predictions"
      ]
    },
    {
      "cell_type": "markdown",
      "metadata": {
        "id": "yheT6gIDymNr"
      },
      "source": [
        "ตรวจสอบประสิทธิภาพแบบจำลอง Naive Bays\n",
        "\n",
        "พบว่ามี Accuracy Score = 0.7568"
      ]
    },
    {
      "cell_type": "code",
      "execution_count": 13,
      "metadata": {},
      "outputs": [],
      "source": [
        "ac1 = accuracy_score(y_test, predictions)"
      ]
    },
    {
      "cell_type": "code",
      "execution_count": 43,
      "metadata": {
        "colab": {
          "base_uri": "https://localhost:8080/",
          "height": 670
        },
        "id": "xIYu6QQ9KVHo",
        "outputId": "d8022a2d-c563-4e3b-bc6c-acfe25849747"
      },
      "outputs": [
        {
          "name": "stdout",
          "output_type": "stream",
          "text": [
            "Accuracy score: 0.5830\n"
          ]
        },
        {
          "data": {
            "image/png": "[encoded data removed]",
            "text/plain": [
              "<Figure size 800x800 with 2 Axes>"
            ]
          },
          "metadata": {},
          "output_type": "display_data"
        }
      ],
      "source": [
        "showConfisionMatrix(y_test, predictions)"
      ]
    },
    {
      "cell_type": "markdown",
      "metadata": {
        "id": "8L6UJLk7-K75"
      },
      "source": [
        "# Logistic Regression Classification"
      ]
    },
    {
      "cell_type": "markdown",
      "metadata": {
        "id": "jhRZxXFH08QF"
      },
      "source": [
        "เรียกใช้ function สำหรับสร้างแบบจำลอง Logistic Regression จาก Library sklearn\n",
        "\n",
        "โดยใช้ feature เดียวกับกับที่ใช้แบบจำลอง Naive Bays"
      ]
    },
    {
      "cell_type": "code",
      "execution_count": 14,
      "metadata": {
        "colab": {
          "base_uri": "https://localhost:8080/"
        },
        "id": "ew80KL3KcJur",
        "outputId": "44d9cb86-9f6f-48d9-c364-14fcfbe3d70d"
      },
      "outputs": [
        {
          "data": {
            "text/plain": [
              "array(['pos', 'neu', 'neu', 'neu', 'neg', 'pos', 'neg', 'neg', 'neu',\n",
              "       'pos', 'neu', 'pos', 'pos', 'neu', 'neu', 'neu', 'pos', 'neu',\n",
              "       'neu', 'neu', 'neu', 'neg', 'neg', 'pos', 'neu', 'pos', 'neg',\n",
              "       'neu', 'neu', 'neg', 'neu', 'neu', 'neg', 'pos', 'neg', 'neg',\n",
              "       'neg', 'neu', 'neg', 'pos', 'pos', 'neg', 'neu', 'neu', 'neu',\n",
              "       'neg', 'neu', 'neu', 'neu', 'neg', 'neu', 'neg', 'neu', 'neu',\n",
              "       'neu', 'pos', 'pos', 'neu', 'neg', 'neg', 'neu', 'pos', 'neu',\n",
              "       'neu', 'pos', 'pos', 'neu', 'neu', 'neg', 'pos', 'neu', 'neg',\n",
              "       'neg', 'neg', 'neg', 'neg', 'neg', 'neg', 'neg', 'neg', 'pos',\n",
              "       'neu', 'pos', 'neu', 'neu', 'pos', 'neg', 'neu', 'neg', 'pos',\n",
              "       'neu', 'pos', 'neu', 'neg', 'neg', 'pos', 'neu', 'neu', 'pos',\n",
              "       'neu', 'pos', 'neg', 'pos', 'neg', 'neu', 'pos', 'neu', 'neu',\n",
              "       'pos', 'neu', 'neu', 'neu', 'neu', 'neu', 'pos', 'neu', 'neg',\n",
              "       'neg', 'neg', 'neu', 'neu', 'neu', 'neu', 'neg', 'pos', 'neu',\n",
              "       'neg', 'neu', 'neu', 'pos', 'neu', 'neg', 'neg', 'pos', 'neg',\n",
              "       'pos', 'neu', 'neu', 'neg', 'neu', 'neg', 'neg', 'neu', 'neu',\n",
              "       'neg', 'neu', 'neg', 'neu', 'neu', 'neu', 'pos', 'neu', 'neu',\n",
              "       'neu', 'neu', 'pos', 'pos', 'neg', 'pos', 'neg', 'neg', 'neg',\n",
              "       'neu', 'neu', 'neu', 'neg', 'neu', 'neu', 'pos', 'neg', 'pos',\n",
              "       'neg', 'neu', 'neg', 'neu', 'neu', 'neg', 'neg', 'neu', 'neu',\n",
              "       'pos', 'neg', 'neg', 'neu', 'neu', 'neu', 'neg', 'neu', 'neg',\n",
              "       'neu', 'neg', 'pos', 'neu', 'neu', 'pos', 'pos', 'pos', 'neg',\n",
              "       'neg', 'neu', 'neg', 'neu', 'neu', 'pos', 'neu', 'neu', 'neu',\n",
              "       'neu', 'pos', 'pos', 'pos', 'pos', 'pos', 'neg', 'neg', 'neg',\n",
              "       'neu', 'pos', 'pos', 'neg', 'pos', 'pos', 'pos', 'pos', 'neg',\n",
              "       'neg', 'neu', 'neu', 'neu', 'pos', 'neu', 'neu', 'pos', 'neu',\n",
              "       'pos', 'neu', 'neu', 'neg', 'pos', 'neu', 'pos', 'neu', 'neg',\n",
              "       'pos', 'neu', 'pos', 'pos', 'neu', 'neu', 'neu', 'neg', 'neu',\n",
              "       'neg', 'pos', 'neu', 'neu', 'neg', 'neg', 'neg', 'pos', 'pos',\n",
              "       'neu', 'pos', 'neu', 'neg', 'neg', 'neu', 'pos', 'neu', 'pos',\n",
              "       'pos', 'neg', 'pos', 'neg', 'neu', 'neu', 'neu', 'neg', 'pos',\n",
              "       'pos', 'neu', 'neu', 'neg', 'neu', 'neg', 'neu', 'neu', 'neu',\n",
              "       'neg', 'neg', 'neu', 'neg', 'neu', 'pos', 'neu', 'neu', 'neg',\n",
              "       'neg', 'neu', 'neu', 'pos', 'neu', 'neg', 'pos', 'pos', 'neu'],\n",
              "      dtype=object)"
            ]
          },
          "execution_count": 14,
          "metadata": {},
          "output_type": "execute_result"
        }
      ],
      "source": [
        "lr = LogisticRegression(max_iter=5000)\n",
        "lr.fit(X_train, y_train)\n",
        "predictions = lr.predict(X_test)\n",
        "predictions"
      ]
    },
    {
      "cell_type": "markdown",
      "metadata": {
        "id": "SH3u9_3d1Qhm"
      },
      "source": [
        "พบว่า แบบจำลอง Logistic Regression มี Accuracy Score = 0.7654 สูงกว่า Naive Bays เล็กน้อย"
      ]
    },
    {
      "cell_type": "code",
      "execution_count": 15,
      "metadata": {},
      "outputs": [],
      "source": [
        "ac2 = accuracy_score(y_test, predictions)"
      ]
    },
    {
      "cell_type": "code",
      "execution_count": 46,
      "metadata": {
        "colab": {
          "base_uri": "https://localhost:8080/",
          "height": 670
        },
        "id": "V1PoLReKn9rg",
        "outputId": "f2517169-6a38-4364-afe0-6faadacef5da"
      },
      "outputs": [
        {
          "name": "stdout",
          "output_type": "stream",
          "text": [
            "Accuracy score: 0.6170\n"
          ]
        },
        {
          "data": {
            "image/png": "[encoded data removed]",
            "text/plain": [
              "<Figure size 800x800 with 2 Axes>"
            ]
          },
          "metadata": {},
          "output_type": "display_data"
        }
      ],
      "source": [
        "showConfisionMatrix(y_test, predictions)"
      ]
    },
    {
      "cell_type": "markdown",
      "metadata": {},
      "source": [
        "# Support Vector Machine Classification"
      ]
    },
    {
      "cell_type": "code",
      "execution_count": 16,
      "metadata": {},
      "outputs": [
        {
          "data": {
            "text/plain": [
              "array(['pos', 'neu', 'neu', 'neu', 'neu', 'pos', 'pos', 'neg', 'neu',\n",
              "       'neg', 'neg', 'pos', 'pos', 'neu', 'neg', 'neg', 'pos', 'neu',\n",
              "       'neu', 'neu', 'neu', 'neu', 'neg', 'pos', 'neu', 'pos', 'neg',\n",
              "       'neu', 'neu', 'neg', 'neu', 'neu', 'neg', 'neg', 'neg', 'neu',\n",
              "       'neg', 'neu', 'neu', 'pos', 'neu', 'neg', 'neu', 'neg', 'neu',\n",
              "       'neg', 'neu', 'neu', 'neu', 'neg', 'neu', 'neg', 'neu', 'neu',\n",
              "       'neg', 'neu', 'pos', 'neu', 'neg', 'pos', 'neg', 'pos', 'neu',\n",
              "       'neu', 'neg', 'neg', 'neu', 'neu', 'neg', 'pos', 'neu', 'neg',\n",
              "       'neg', 'neg', 'neg', 'neg', 'pos', 'neg', 'neg', 'neg', 'pos',\n",
              "       'neu', 'neu', 'neu', 'neu', 'pos', 'neu', 'neu', 'neg', 'neu',\n",
              "       'neu', 'neg', 'neu', 'pos', 'neg', 'pos', 'neu', 'neu', 'pos',\n",
              "       'neg', 'pos', 'neg', 'pos', 'neu', 'neu', 'neu', 'neu', 'neu',\n",
              "       'pos', 'neu', 'neu', 'neu', 'neu', 'neg', 'neg', 'neu', 'neg',\n",
              "       'neg', 'neg', 'neu', 'neu', 'neu', 'neu', 'neg', 'neg', 'neg',\n",
              "       'neu', 'neg', 'neg', 'pos', 'neu', 'neg', 'neu', 'pos', 'neg',\n",
              "       'pos', 'neu', 'neu', 'neu', 'neu', 'neg', 'neu', 'pos', 'neu',\n",
              "       'pos', 'neu', 'neu', 'neu', 'neu', 'pos', 'neg', 'neu', 'neu',\n",
              "       'neu', 'neu', 'neg', 'neg', 'neg', 'pos', 'neg', 'neg', 'neg',\n",
              "       'neu', 'neu', 'neu', 'neu', 'neu', 'neu', 'pos', 'neg', 'neu',\n",
              "       'neg', 'pos', 'neu', 'neu', 'neu', 'neg', 'neu', 'neu', 'neu',\n",
              "       'pos', 'neg', 'neg', 'neu', 'neu', 'neu', 'neu', 'neu', 'neu',\n",
              "       'neu', 'neg', 'neu', 'neu', 'neu', 'pos', 'neu', 'neg', 'neg',\n",
              "       'neu', 'neu', 'neg', 'neu', 'neu', 'pos', 'neu', 'neu', 'pos',\n",
              "       'neu', 'pos', 'neg', 'neg', 'neu', 'pos', 'neu', 'neg', 'neu',\n",
              "       'neu', 'pos', 'neu', 'neg', 'pos', 'neu', 'pos', 'pos', 'neg',\n",
              "       'neg', 'neu', 'neg', 'neu', 'pos', 'neu', 'neu', 'neu', 'neu',\n",
              "       'neg', 'neu', 'neg', 'neu', 'pos', 'neg', 'neu', 'neu', 'neg',\n",
              "       'pos', 'neu', 'neu', 'pos', 'neg', 'neu', 'neu', 'neg', 'neu',\n",
              "       'neg', 'pos', 'neu', 'pos', 'neg', 'neg', 'neg', 'pos', 'pos',\n",
              "       'neu', 'pos', 'neu', 'neu', 'neg', 'neu', 'pos', 'neu', 'neu',\n",
              "       'pos', 'neg', 'pos', 'neg', 'neu', 'neu', 'neu', 'neu', 'pos',\n",
              "       'pos', 'neu', 'neu', 'neu', 'neu', 'neg', 'neu', 'neg', 'neu',\n",
              "       'neu', 'neg', 'neu', 'neg', 'neu', 'pos', 'neg', 'neu', 'neg',\n",
              "       'neg', 'neu', 'neu', 'neg', 'neu', 'neg', 'pos', 'neu', 'neu'],\n",
              "      dtype=object)"
            ]
          },
          "execution_count": 16,
          "metadata": {},
          "output_type": "execute_result"
        }
      ],
      "source": [
        "svm = svm.SVC()\n",
        "svm.fit(X_train, y_train)\n",
        "predictions = svm.predict(X_test)\n",
        "predictions"
      ]
    },
    {
      "cell_type": "code",
      "execution_count": 17,
      "metadata": {},
      "outputs": [],
      "source": [
        "ac3 = accuracy_score(y_test, predictions)"
      ]
    },
    {
      "cell_type": "code",
      "execution_count": 51,
      "metadata": {},
      "outputs": [
        {
          "name": "stdout",
          "output_type": "stream",
          "text": [
            "Accuracy score: 0.5872\n"
          ]
        },
        {
          "data": {
            "image/png": "[encoded data removed]",
            "text/plain": [
              "<Figure size 800x800 with 2 Axes>"
            ]
          },
          "metadata": {},
          "output_type": "display_data"
        }
      ],
      "source": [
        "showConfisionMatrix(y_test, predictions)"
      ]
    },
    {
      "cell_type": "code",
      "execution_count": 18,
      "metadata": {},
      "outputs": [],
      "source": [
        "model_score = [[\"Naive bayes\",ac1],[\"LogisticRegression\",ac2],[\"SVM\",ac3]]\n",
        "df_test = pd.DataFrame(model_score, columns=['Classfier','Accuracy_score'])"
      ]
    },
    {
      "cell_type": "code",
      "execution_count": 19,
      "metadata": {},
      "outputs": [
        {
          "data": {
            "text/html": [
              "<div>\n",
              "<style scoped>\n",
              "    .dataframe tbody tr th:only-of-type {\n",
              "        vertical-align: middle;\n",
              "    }\n",
              "\n",
              "    .dataframe tbody tr th {\n",
              "        vertical-align: top;\n",
              "    }\n",
              "\n",
              "    .dataframe thead th {\n",
              "        text-align: right;\n",
              "    }\n",
              "</style>\n",
              "<table border=\"1\" class=\"dataframe\">\n",
              "  <thead>\n",
              "    <tr style=\"text-align: right;\">\n",
              "      <th></th>\n",
              "      <th>Classfier</th>\n",
              "      <th>Accuracy_score</th>\n",
              "    </tr>\n",
              "  </thead>\n",
              "  <tbody>\n",
              "    <tr>\n",
              "      <th>0</th>\n",
              "      <td>Naive bayes</td>\n",
              "      <td>0.611111</td>\n",
              "    </tr>\n",
              "    <tr>\n",
              "      <th>2</th>\n",
              "      <td>SVM</td>\n",
              "      <td>0.594771</td>\n",
              "    </tr>\n",
              "    <tr>\n",
              "      <th>1</th>\n",
              "      <td>LogisticRegression</td>\n",
              "      <td>0.584967</td>\n",
              "    </tr>\n",
              "  </tbody>\n",
              "</table>\n",
              "</div>"
            ],
            "text/plain": [
              "            Classfier  Accuracy_score\n",
              "0         Naive bayes        0.611111\n",
              "2                 SVM        0.594771\n",
              "1  LogisticRegression        0.584967"
            ]
          },
          "execution_count": 19,
          "metadata": {},
          "output_type": "execute_result"
        }
      ],
      "source": [
        "df_test = df_test.sort_values('Accuracy_score', ascending=False)\n",
        "df_test"
      ]
    },
    {
      "cell_type": "code",
      "execution_count": 20,
      "metadata": {},
      "outputs": [
        {
          "data": {
            "image/png": "[encoded data removed]",
            "text/plain": [
              "<Figure size 500x400 with 1 Axes>"
            ]
          },
          "metadata": {},
          "output_type": "display_data"
        }
      ],
      "source": [
        "import seaborn as sns\n",
        "fig, ax = plt.subplots(figsize=(5, 4))\n",
        "barchart = sns.barplot(x=df_test['Classfier'], y=df_test['Accuracy_score'])\n",
        "barchart.bar_label(ax.containers[0], label_type='edge', padding=15)\n",
        "ax.margins(y=0.2)"
      ]
    },
    {
      "cell_type": "markdown",
      "metadata": {
        "id": "MPI9lnu9Xa9t"
      },
      "source": [
        "# Improved Logistic Regression Classification"
      ]
    },
    {
      "cell_type": "markdown",
      "metadata": {
        "id": "3Ha-xxpchM9_"
      },
      "source": [
        "เพิ่ม 3 features คือ จำนวน positive polar word, จำนวน negative polar word, ความยาวประโยค\n",
        "\n",
        "แบ่งชุดข้อมูลฝึกฝน และข้อมูลทดสอบ"
      ]
    },
    {
      "cell_type": "code",
      "execution_count": null,
      "metadata": {
        "colab": {
          "base_uri": "https://localhost:8080/"
        },
        "id": "Ys7A6L-mXebF",
        "outputId": "638f897c-01b2-4431-81c2-1cb5c9a3e659"
      },
      "outputs": [
        {
          "data": {
            "text/plain": [
              "neu    701\n",
              "neg    348\n",
              "pos    119\n",
              "Name: label, dtype: int64"
            ]
          },
          "execution_count": 75,
          "metadata": {},
          "output_type": "execute_result"
        }
      ],
      "source": [
        "new_df = df.copy()\n",
        "new_df[\"num_pos\"] = pd.Series(map(count_polar_pos, new_df[\"tokenize\"]), dtype='int32')\n",
        "new_df[\"num_neg\"] = pd.Series(map(count_polar_neg, new_df[\"tokenize\"]), dtype='int32')\n",
        "\n",
        "X = new_df[\"tokenize\"]\n",
        "y = new_df['label']\n",
        "X_train, X_test, y_train, y_test = train_test_split(X, y, test_size=0.2, random_state=42, stratify=y)\n",
        "y_test.value_counts()"
      ]
    },
    {
      "cell_type": "markdown",
      "metadata": {
        "id": "VGIQNol52ESW"
      },
      "source": [
        "สร้าง Bag of Words แล้วนำมารวมกับ fetures ใหม่ที่สร้างไว้"
      ]
    },
    {
      "cell_type": "code",
      "execution_count": null,
      "metadata": {
        "id": "27TbcF_eYHXb"
      },
      "outputs": [],
      "source": [
        "count_vector = CountVectorizer(analyzer=lambda x:x.split('|'))\n",
        "train_idx = X_train.index\n",
        "test_idx = X_test.index\n",
        "X_train = count_vector.fit_transform(X_train)\n",
        "X_test = count_vector.transform(X_test)\n",
        "\n",
        "X_train = pd.DataFrame(X_train.toarray(), columns=count_vector.get_feature_names_out(), index=train_idx)\n",
        "X_train = X_train.join(new_df[[\"num_pos\", \"num_neg\"]])\n",
        "\n",
        "X_test = pd.DataFrame(X_test.toarray(), columns=count_vector.get_feature_names_out(), index=test_idx)\n",
        "X_test = X_test.join(new_df[[\"num_pos\", \"num_neg\"]])"
      ]
    },
    {
      "cell_type": "markdown",
      "metadata": {
        "id": "tuy_V6bphbto"
      },
      "source": [
        "จากการเพิ่ม 2 features ใหม่"
      ]
    },
    {
      "cell_type": "code",
      "execution_count": null,
      "metadata": {
        "colab": {
          "base_uri": "https://localhost:8080/"
        },
        "id": "s4Q06b_6YKwl",
        "outputId": "16ae0e05-d43e-4c77-e9c0-88ac89ef0ff1"
      },
      "outputs": [
        {
          "data": {
            "text/plain": [
              "array(['neg', 'neu', 'neu', ..., 'neu', 'neg', 'neg'], dtype=object)"
            ]
          },
          "execution_count": 77,
          "metadata": {},
          "output_type": "execute_result"
        }
      ],
      "source": [
        "new_lr = LogisticRegression()\n",
        "new_lr.fit(X_train.values, y_train.values)\n",
        "predictions = new_lr.predict(X_test.values)\n",
        "predictions"
      ]
    },
    {
      "cell_type": "markdown",
      "metadata": {
        "id": "nDWm38X5hrc3"
      },
      "source": [
        "ตรวจสอบประสิทธิภาพของแบบจำลอง Logistic Regression ที่มีการเพิ่ม features\n",
        "\n",
        "พบว่า Accuracy Score เพิ่มขึ้นเป็น 0.7714"
      ]
    },
    {
      "cell_type": "code",
      "execution_count": null,
      "metadata": {
        "colab": {
          "base_uri": "https://localhost:8080/"
        },
        "id": "R9Xh4xJmYKwm",
        "outputId": "835af768-4200-4bc1-aae0-9b55b95df3cb"
      },
      "outputs": [
        {
          "name": "stdout",
          "output_type": "stream",
          "text": [
            "Accuracy score: 0.7714\n"
          ]
        },
        {
          "data": {
            "image/png": "[encoded data removed]",
            "text/plain": [
              "<Figure size 576x576 with 2 Axes>"
            ]
          },
          "metadata": {
            "needs_background": "light"
          },
          "output_type": "display_data"
        }
      ],
      "source": [
        "showConfisionMatrix(y_test, predictions)"
      ]
    },
    {
      "cell_type": "markdown",
      "metadata": {
        "id": "qK2G9TCfqMH_"
      },
      "source": [
        "# Function to Predict"
      ]
    },
    {
      "cell_type": "markdown",
      "metadata": {
        "id": "GPsoB0ri4vCF"
      },
      "source": [
        "หากต้องการนำข้อความ ไปพยากรณ์โดยใช้แบบจำลองที่สร้างไว้ จำเป็นต้องแปลงข้อความให้อยู่ในรูปแบบ features ของแบบจำลองก่อน\n",
        "\n",
        "*  ตัดคำ\n",
        "*  แปลงเป็น Bag of Words\n",
        "*  นำไปพยากรณ์ด้วย function predict()"
      ]
    },
    {
      "cell_type": "code",
      "execution_count": null,
      "metadata": {
        "colab": {
          "base_uri": "https://localhost:8080/",
          "height": 35
        },
        "id": "2uNIOtRtqQX5",
        "outputId": "cb95cceb-204e-4d2a-dc2a-689e00f3122b"
      },
      "outputs": [
        {
          "data": {
            "application/vnd.google.colaboratory.intrinsic+json": {
              "type": "string"
            },
            "text/plain": [
              "'อ่าน|รู้สึก|เซ็ง|แรง'"
            ]
          },
          "execution_count": 79,
          "metadata": {},
          "output_type": "execute_result"
        }
      ],
      "source": [
        "text = \"พออ่านแล้วรู้สึกเซ็งอย่างแรง\"\n",
        "text_seg = text_cleansing(text)\n",
        "\n",
        "text_seg"
      ]
    },
    {
      "cell_type": "code",
      "execution_count": null,
      "metadata": {
        "colab": {
          "base_uri": "https://localhost:8080/"
        },
        "id": "yunXKXZky8qF",
        "outputId": "934a24bc-84c0-4e90-9a23-948544be73e1"
      },
      "outputs": [
        {
          "data": {
            "text/plain": [
              "<1x20791 sparse matrix of type '<class 'numpy.int64'>'\n",
              "\twith 4 stored elements in Compressed Sparse Row format>"
            ]
          },
          "execution_count": 80,
          "metadata": {},
          "output_type": "execute_result"
        }
      ],
      "source": [
        "text_features = count_vector.transform([text_seg])\n",
        "text_features"
      ]
    },
    {
      "cell_type": "code",
      "execution_count": null,
      "metadata": {
        "colab": {
          "base_uri": "https://localhost:8080/"
        },
        "id": "LU2FpLc-zUEd",
        "outputId": "fafd3026-3e5e-43ff-c499-7aadfa1257db"
      },
      "outputs": [
        {
          "data": {
            "text/plain": [
              "array(['neg'], dtype='<U3')"
            ]
          },
          "execution_count": 81,
          "metadata": {},
          "output_type": "execute_result"
        }
      ],
      "source": [
        "nb_prediction = naive_bayes.predict(text_features)\n",
        "nb_prediction"
      ]
    },
    {
      "cell_type": "code",
      "execution_count": null,
      "metadata": {
        "colab": {
          "base_uri": "https://localhost:8080/"
        },
        "id": "sOz-DICTzd-4",
        "outputId": "16c223a4-04c8-4c45-91d6-c57bf4f01d96"
      },
      "outputs": [
        {
          "data": {
            "text/plain": [
              "array(['neg'], dtype=object)"
            ]
          },
          "execution_count": 82,
          "metadata": {},
          "output_type": "execute_result"
        }
      ],
      "source": [
        "lr_prediction = lr.predict(text_features)\n",
        "lr_prediction"
      ]
    },
    {
      "cell_type": "markdown",
      "metadata": {
        "id": "NMi4vnDC5Tku"
      },
      "source": [
        "ในกรณีแบบจำลองที่ 3 ต้องเพิ่ม feature ใหม่ที่เป็นการนับคำเพิ่มเข้าไปด้วย"
      ]
    },
    {
      "cell_type": "code",
      "execution_count": null,
      "metadata": {
        "colab": {
          "base_uri": "https://localhost:8080/"
        },
        "id": "msLTf-mq0zqc",
        "outputId": "916c2bf5-4b72-4e68-fd1a-3609eacd8369"
      },
      "outputs": [
        {
          "data": {
            "text/plain": [
              "<1x20793 sparse matrix of type '<class 'numpy.longlong'>'\n",
              "\twith 4 stored elements in COOrdinate format>"
            ]
          },
          "execution_count": 83,
          "metadata": {},
          "output_type": "execute_result"
        }
      ],
      "source": [
        "import numpy as np\n",
        "from scipy import sparse\n",
        "\n",
        "p = count_polar_pos(text_seg)\n",
        "n = count_polar_neg(text_seg)\n",
        "add_fea = np.array([[p, n]])\n",
        "text_features = sparse.hstack((text_features,add_fea))\n",
        "\n",
        "text_features"
      ]
    },
    {
      "cell_type": "code",
      "execution_count": null,
      "metadata": {
        "colab": {
          "base_uri": "https://localhost:8080/"
        },
        "id": "9HRqBQIE0lKg",
        "outputId": "29499cc9-daf9-44d2-9765-5a45252fa57a"
      },
      "outputs": [
        {
          "data": {
            "text/plain": [
              "array(['neg'], dtype=object)"
            ]
          },
          "execution_count": 84,
          "metadata": {},
          "output_type": "execute_result"
        }
      ],
      "source": [
        "lr_prediction = new_lr.predict(text_features)\n",
        "lr_prediction"
      ]
    },
    {
      "cell_type": "markdown",
      "metadata": {
        "id": "gbHwY4UM5cHL"
      },
      "source": [
        "**Code it:** ทดลองเขียนเป็น function เพื่อทำนายขั้วความคิดเห็นของข้อความ โดยใช้แบบจำลอง Improved Logistic Regression"
      ]
    },
    {
      "cell_type": "code",
      "execution_count": null,
      "metadata": {
        "id": "Rg4ERVNH8NFO"
      },
      "outputs": [],
      "source": [
        "def predictSentiment(text):\n",
        "  # ==== Your Code Here ====\n",
        "  text_seg = text_cleansing(text)\n",
        "  text_features = count_vector.transform([text_seg])\n",
        "  p = count_polar_pos(text_seg)\n",
        "  n = count_polar_neg(text_seg)\n",
        "  add_fea = np.array([[p, n]])\n",
        "  text_features = sparse.hstack((text_features,add_fea))\n",
        "  lr_prediction = new_lr.predict(text_features)\n",
        "  if lr_prediction[0]==\"pos\":\n",
        "    result = \"บวก\"\n",
        "  elif lr_prediction[0]==\"neg\":\n",
        "    result = \"ลบ\"\n",
        "  else:\n",
        "    result = \"กลาง\"\n",
        "\n",
        "  print('จากข้อความ \"{}\" มีขั้วความคิดเห็นเป็น {}'.format(text, result))"
      ]
    },
    {
      "cell_type": "code",
      "execution_count": null,
      "metadata": {
        "colab": {
          "base_uri": "https://localhost:8080/"
        },
        "id": "5PhFG3N36Z8_",
        "outputId": "7af4c3d1-c515-4784-ae46-725d1b82986d"
      },
      "outputs": [
        {
          "name": "stdout",
          "output_type": "stream",
          "text": [
            "กรอกประโยคที่ต้องการตรวจสอบ:พออ่านแล้วรู้สึกเซ็งอย่างแรง\n",
            "===============\n",
            "จากข้อความ \"พออ่านแล้วรู้สึกเซ็งอย่างแรง\" มีขั้วความคิดเห็นเป็น ลบ\n"
          ]
        }
      ],
      "source": [
        "#text = \"พออ่านแล้วรู้สึกเซ็งอย่างแรง\"\n",
        "text = input(\"กรอกประโยคที่ต้องการตรวจสอบ:\")\n",
        "print(\"=\"*15)\n",
        "predictSentiment(text)"
      ]
    },
    {
      "cell_type": "markdown",
      "metadata": {
        "id": "4MzHaUWPwU_5"
      },
      "source": [
        "# AI for Thai"
      ]
    },
    {
      "cell_type": "markdown",
      "metadata": {
        "id": "Pw7qdvIoCggC"
      },
      "source": [
        "สมัคร Account ได้ที่ https://aiforthai.in.th\n",
        "\n",
        "เมื่อสมัครเรียบร้อยแล้ว สามารถ log-in เพื่อรับ API Key ได้ที่เมนู Profile"
      ]
    },
    {
      "cell_type": "code",
      "execution_count": null,
      "metadata": {
        "colab": {
          "base_uri": "https://localhost:8080/"
        },
        "id": "tAX0dVfjwXhE",
        "outputId": "30caa29b-f291-45be-93d8-f4e33f900d00"
      },
      "outputs": [
        {
          "name": "stdout",
          "output_type": "stream",
          "text": [
            "{'sentiment': {'score': '100', 'polarity-neg': True, 'polarity-pos': True, 'polarity': 'negative'}, 'preprocess': {'input': 'เน็ตควายมากกูพูดจริงเสียดายตังค์ที่ติดตั้งเน็ตโครตห่วยยิ่งดึกๆเน็ตยิ่งห่วยตอนมาติดตั้งใหม่ๆก็ดีนานๆไปเเย่ขึ้นเรื่อยๆกากกว่าเน็ตค่ายอื่นอ่ะบอกจริงไม่สนหรอกว่าจะเป็นเด็กเเล้วเม้นด่าเเบบนี้ เเต่นี้หาตังค์จ่ายค่าเน็ตมาตลอดเหนื่อยน่ะเล่นเกมส์ไปเดี่ยวก็หายกากเกินติดตั้งโปรพิเศษ100Mเเต่พอวัดดูปล่อยไม่ถึงเท่าที่ตกลงกันไว้พอโทรไปเเจ้งก็ปล่อยมาเต็มไม่กี่วันก็เหมื่อนเดิมใบเเจ้งก็มาย้อนหลัง3เดือนทุกครั้งห่วยไปน่ะบางทีโปร100M/700 กว่าบาทเเต่คุณภาพเเย่เสียดายตังค์', 'neg': ['เสียดายตังค์', 'ห่วย', 'ห่วย', 'กาก', 'ด่า', 'เหนื่อย', 'หาย', 'กาก', 'ห่วย', 'เสียดายตังค์'], 'pos': ['ก็ดี', 'เย่', 'พิเศษ', 'คุณภาพ', 'เย่'], 'segmented': ['เน็ต', 'ควาย', 'มาก', 'กู', 'พูด', 'จริง', 'เสียดายตังค์', 'ที่', 'ติดตั้ง', 'เน็ต', 'โครต', 'ห่วย', 'ยิ่ง', 'ดึก', 'ๆ', 'เน็ต', 'ยิ่ง', 'ห่วย', 'ตอน', 'มา', 'ติดตั้ง', 'ใหม่', 'ๆ', 'ก็ดี', 'นานๆ', 'ไป', 'เย่', 'ขึ้น', 'เรื่อยๆ', 'กาก', 'กว่า', 'เน็ต', 'ค่าย', 'อื่น', 'อ่ะ', 'บอก', 'จริง', 'ไม่สน', 'หรอก', 'ว่าจะ', 'เป็น', 'เด็ก', 'เล้ว', 'เม้น', 'ด่า', 'เ', 'บบ', 'นี้', ' ', 'เต่', 'นี้', 'หา', 'ตังค์', 'จ่าย', 'ค่า', 'เน็ต', 'มาต', 'ลอด', 'เหนื่อย', 'น่ะ', 'เล่น', 'เกมส์', 'ไป', 'เดี่ยว', 'ก็', 'หาย', 'กาก', 'เกิน', 'ติดตั้ง', 'โปร', 'พิเศษ', '100', 'M', 'เต่', 'พอ', 'วัด', 'ดู', 'ปล่อย', 'ไม่ถึง', 'เท่าที่', 'ตกลง', 'กัน', 'ไว้', 'พอ', 'โทร', 'ไป', 'เจ้', 'งก็', 'ปล่อย', 'มา', 'เต็ม', 'ไม่', 'กี่', 'วัน', 'ก็', 'เห', 'มื่อ', 'น', 'เดิม', 'ใบ', 'เจ้', 'งก็', 'มา', 'ย้อนหลัง', '3', 'เดือน', 'ทุกครั้ง', 'ห่วย', 'ไป', 'น่ะ', 'บางที', 'โปร', '100', 'M', '/', '700', ' ', 'กว่า', 'บาท', 'เต่', 'คุณภาพ', 'เย่', 'เสียดายตังค์'], 'keyword': ['เน็ต', 'ควาย', 'กู', 'พูด', 'จริง', 'ติดตั้ง', 'เน็ต', 'โครต', 'ยิ่ง', 'ดึก', 'เน็ต', 'ยิ่ง', 'ตอน', 'ติดตั้ง', 'ใหม่', 'นานๆ', 'เรื่อยๆ', 'เน็ต', 'ค่าย', 'อื่น', 'อ่ะ', 'จริง', 'ไม่สน', 'หรอก', 'ว่าจะ', 'เด็ก', 'เล้ว', 'เม้น', 'บบ', 'เต่', 'หา', 'ตังค์', 'จ่าย', 'ค่า', 'เน็ต', 'มาต', 'ลอด', 'น่ะ', 'เล่น', 'เกมส์', 'เดี่ยว', 'เกิน', 'ติดตั้ง', 'โปร', 'M', 'เต่', 'พอ', 'วัด', 'ปล่อย', 'ไม่ถึง', 'เท่าที่', 'ตกลง', 'พอ', 'โทร', 'เจ้', 'งก็', 'ปล่อย', 'เต็ม', 'เห', 'มื่อ', 'เดิม', 'ใบ', 'เจ้', 'งก็', 'ย้อนหลัง', 'เดือน', 'ทุกครั้ง', 'น่ะ', 'บางที', 'โปร', 'M', 'บาท', 'เต่']}, 'alert': [], 'comparative': [], 'associative': [{'ent-pos': [], 'polarity-neg': True, 'endIndex': 32, 'polarity-pos': False, 'beginIndex': 0, 'text': 'เน็ตควายมากกูพูดจริงเสียดายตังค์', 'ent-neg': [], 'asp': ['เน็ต']}, {'ent-pos': [], 'polarity-neg': True, 'endIndex': 54, 'polarity-pos': False, 'beginIndex': 42, 'text': 'เน็ตโครตห่วย', 'ent-neg': [], 'asp': ['เน็ต']}, {'ent-pos': [], 'polarity-neg': True, 'endIndex': 74, 'polarity-pos': False, 'beginIndex': 62, 'text': 'เน็ตยิ่งห่วย', 'ent-neg': [], 'asp': ['เน็ต']}, {'ent-pos': [], 'polarity-neg': True, 'endIndex': 225, 'polarity-pos': False, 'beginIndex': 208, 'text': 'เน็ตมาตลอดเหนื่อย', 'ent-neg': [], 'asp': ['เน็ต']}], 'intention': {'request': '0', 'sentiment': '100', 'question': '75', 'announcement': '0'}}\n"
          ]
        }
      ],
      "source": [
        "import requests\n",
        "\n",
        "url = \"https://api.aiforthai.in.th/ssense\"\n",
        "text = df[\"sentence\"][0]\n",
        "params = {'text':text}\n",
        "headers = {'Apikey': \"_____________________\"}\n",
        "response = requests.get(url, headers=headers, params=params)\n",
        "\n",
        "print(response.json())"
      ]
    },
    {
      "cell_type": "code",
      "execution_count": null,
      "metadata": {
        "colab": {
          "base_uri": "https://localhost:8080/"
        },
        "id": "uwusdDbQxwwj",
        "outputId": "38fe6966-9857-477a-d8c6-dbc728323806"
      },
      "outputs": [
        {
          "name": "stdout",
          "output_type": "stream",
          "text": [
            "Word Tokenize: เน็ต, ควาย, มาก, กู, พูด, จริง, เสียดายตังค์, ที่, ติดตั้ง, เน็ต, โครต, ห่วย, ยิ่ง, ดึก, ๆ, เน็ต, ยิ่ง, ห่วย, ตอน, มา, ติดตั้ง, ใหม่, ๆ, ก็ดี, นานๆ, ไป, เย่, ขึ้น, เรื่อยๆ, กาก, กว่า, เน็ต, ค่าย, อื่น, อ่ะ, บอก, จริง, ไม่สน, หรอก, ว่าจะ, เป็น, เด็ก, เล้ว, เม้น, ด่า, เ, บบ, นี้,  , เต่, นี้, หา, ตังค์, จ่าย, ค่า, เน็ต, มาต, ลอด, เหนื่อย, น่ะ, เล่น, เกมส์, ไป, เดี่ยว, ก็, หาย, กาก, เกิน, ติดตั้ง, โปร, พิเศษ, 100, M, เต่, พอ, วัด, ดู, ปล่อย, ไม่ถึง, เท่าที่, ตกลง, กัน, ไว้, พอ, โทร, ไป, เจ้, งก็, ปล่อย, มา, เต็ม, ไม่, กี่, วัน, ก็, เห, มื่อ, น, เดิม, ใบ, เจ้, งก็, มา, ย้อนหลัง, 3, เดือน, ทุกครั้ง, ห่วย, ไป, น่ะ, บางที, โปร, 100, M, /, 700,  , กว่า, บาท, เต่, คุณภาพ, เย่, เสียดายตังค์\n",
            "Percent of intentions:\n",
            "\trequest: 0%\n",
            "\tsentiment: 100%\n",
            "\tquestion: 75%\n",
            "\tannouncement: 0%\n"
          ]
        }
      ],
      "source": [
        "result = dict(response.json())\n",
        "\n",
        "print(\"Word Tokenize: {}\".format(\", \".join(result[\"preprocess\"][\"segmented\"])))\n",
        "print(\"Percent of intentions:\")\n",
        "for i in result[\"intention\"]:\n",
        "    print(\"\\t{}: {}%\".format(i, result[\"intention\"][i]))"
      ]
    },
    {
      "cell_type": "code",
      "execution_count": null,
      "metadata": {
        "colab": {
          "base_uri": "https://localhost:8080/"
        },
        "id": "YV_MtONysmRQ",
        "outputId": "0d67e4f7-3e49-40d5-e60f-578f6c345bb9"
      },
      "outputs": [
        {
          "name": "stdout",
          "output_type": "stream",
          "text": [
            "Polarity: negative\n",
            "Positive words: ก็ดี, เย่, พิเศษ, คุณภาพ, เย่\n",
            "Negative words: เสียดายตังค์, ห่วย, ห่วย, กาก, ด่า, เหนื่อย, หาย, กาก, ห่วย, เสียดายตังค์\n"
          ]
        }
      ],
      "source": [
        "print(\"Polarity: {}\".format(result[\"sentiment\"][\"polarity\"]))\n",
        "print(\"Positive words: {}\".format(\", \".join(result[\"preprocess\"][\"pos\"])))\n",
        "print(\"Negative words: {}\".format(\", \".join(result[\"preprocess\"][\"neg\"])))"
      ]
    },
    {
      "cell_type": "code",
      "execution_count": 6,
      "metadata": {},
      "outputs": [
        {
          "data": {
            "text/plain": [
              "[('ไอโฟน', 'NCMN'), ('14', 'DCNM'), ('ดี', 'VATT'), ('มั้ย', 'ADVN')]"
            ]
          },
          "execution_count": 6,
          "metadata": {},
          "output_type": "execute_result"
        }
      ],
      "source": [
        "from pythainlp.tag import pos_tag\n",
        "\n",
        "words = ['ไอโฟน','14','ดี','มั้ย']\n",
        "pos_tag(words)"
      ]
    }
  ],
  "metadata": {
    "colab": {
      "collapsed_sections": [
        "1cuI2RO0OSYo",
        "s05hyu9D-eTY",
        "jjqEDCnK933s",
        "8L6UJLk7-K75",
        "MPI9lnu9Xa9t"
      ],
      "machine_shape": "hm",
      "provenance": []
    },
    "kernelspec": {
      "display_name": "Python 3",
      "name": "python3"
    },
    "language_info": {
      "codemirror_mode": {
        "name": "ipython",
        "version": 3
      },
      "file_extension": ".py",
      "mimetype": "text/x-python",
      "name": "python",
      "nbconvert_exporter": "python",
      "pygments_lexer": "ipython3",
      "version": "3.10.5"
    }
  },
  "nbformat": 4,
  "nbformat_minor": 0
}
